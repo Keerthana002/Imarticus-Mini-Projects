{
  "nbformat": 4,
  "nbformat_minor": 0,
  "metadata": {
    "colab": {
      "name": "lazypredict.ipynb",
      "provenance": []
    },
    "kernelspec": {
      "name": "python3",
      "display_name": "Python 3"
    },
    "language_info": {
      "name": "python"
    }
  },
  "cells": [
    {
      "cell_type": "code",
      "execution_count": null,
      "metadata": {
        "colab": {
          "base_uri": "https://localhost:8080/",
          "height": 1000
        },
        "id": "8dXQnB_z4cDu",
        "outputId": "cc20188e-2191-49db-d97d-116d3a54f795"
      },
      "outputs": [
        {
          "output_type": "stream",
          "name": "stdout",
          "text": [
            "Collecting lazypredict\n",
            "  Downloading lazypredict-0.2.9-py2.py3-none-any.whl (12 kB)\n",
            "Collecting joblib==1.0.0\n",
            "  Downloading joblib-1.0.0-py3-none-any.whl (302 kB)\n",
            "\u001b[K     |████████████████████████████████| 302 kB 5.1 MB/s \n",
            "\u001b[?25hCollecting xgboost==1.1.1\n",
            "  Downloading xgboost-1.1.1-py3-none-manylinux2010_x86_64.whl (127.6 MB)\n",
            "\u001b[K     |████████████████████████████████| 127.6 MB 16 kB/s \n",
            "\u001b[?25hRequirement already satisfied: six==1.15.0 in /usr/local/lib/python3.7/dist-packages (from lazypredict) (1.15.0)\n",
            "Collecting pandas==1.0.5\n",
            "  Downloading pandas-1.0.5-cp37-cp37m-manylinux1_x86_64.whl (10.1 MB)\n",
            "\u001b[K     |████████████████████████████████| 10.1 MB 43.3 MB/s \n",
            "\u001b[?25hCollecting lightgbm==2.3.1\n",
            "  Downloading lightgbm-2.3.1-py2.py3-none-manylinux1_x86_64.whl (1.2 MB)\n",
            "\u001b[K     |████████████████████████████████| 1.2 MB 43.3 MB/s \n",
            "\u001b[?25hCollecting scikit-learn==0.23.1\n",
            "  Downloading scikit_learn-0.23.1-cp37-cp37m-manylinux1_x86_64.whl (6.8 MB)\n",
            "\u001b[K     |████████████████████████████████| 6.8 MB 47.0 MB/s \n",
            "\u001b[?25hRequirement already satisfied: click==7.1.2 in /usr/local/lib/python3.7/dist-packages (from lazypredict) (7.1.2)\n",
            "Collecting PyYAML==5.3.1\n",
            "  Downloading PyYAML-5.3.1.tar.gz (269 kB)\n",
            "\u001b[K     |████████████████████████████████| 269 kB 42.8 MB/s \n",
            "\u001b[?25hCollecting pytest==5.4.3\n",
            "  Downloading pytest-5.4.3-py3-none-any.whl (248 kB)\n",
            "\u001b[K     |████████████████████████████████| 248 kB 45.9 MB/s \n",
            "\u001b[?25hCollecting scipy==1.5.4\n",
            "  Downloading scipy-1.5.4-cp37-cp37m-manylinux1_x86_64.whl (25.9 MB)\n",
            "\u001b[K     |████████████████████████████████| 25.9 MB 6.6 MB/s \n",
            "\u001b[?25hCollecting numpy==1.19.1\n",
            "  Downloading numpy-1.19.1-cp37-cp37m-manylinux2010_x86_64.whl (14.5 MB)\n",
            "\u001b[K     |████████████████████████████████| 14.5 MB 50.9 MB/s \n",
            "\u001b[?25hCollecting tqdm==4.56.0\n",
            "  Downloading tqdm-4.56.0-py2.py3-none-any.whl (72 kB)\n",
            "\u001b[K     |████████████████████████████████| 72 kB 751 kB/s \n",
            "\u001b[?25hRequirement already satisfied: pytz>=2017.2 in /usr/local/lib/python3.7/dist-packages (from pandas==1.0.5->lazypredict) (2022.1)\n",
            "Requirement already satisfied: python-dateutil>=2.6.1 in /usr/local/lib/python3.7/dist-packages (from pandas==1.0.5->lazypredict) (2.8.2)\n",
            "Requirement already satisfied: packaging in /usr/local/lib/python3.7/dist-packages (from pytest==5.4.3->lazypredict) (21.3)\n",
            "Requirement already satisfied: py>=1.5.0 in /usr/local/lib/python3.7/dist-packages (from pytest==5.4.3->lazypredict) (1.11.0)\n",
            "Requirement already satisfied: more-itertools>=4.0.0 in /usr/local/lib/python3.7/dist-packages (from pytest==5.4.3->lazypredict) (8.12.0)\n",
            "Requirement already satisfied: attrs>=17.4.0 in /usr/local/lib/python3.7/dist-packages (from pytest==5.4.3->lazypredict) (21.4.0)\n",
            "Requirement already satisfied: wcwidth in /usr/local/lib/python3.7/dist-packages (from pytest==5.4.3->lazypredict) (0.2.5)\n",
            "Collecting pluggy<1.0,>=0.12\n",
            "  Downloading pluggy-0.13.1-py2.py3-none-any.whl (18 kB)\n",
            "Requirement already satisfied: importlib-metadata>=0.12 in /usr/local/lib/python3.7/dist-packages (from pytest==5.4.3->lazypredict) (4.11.3)\n",
            "Requirement already satisfied: threadpoolctl>=2.0.0 in /usr/local/lib/python3.7/dist-packages (from scikit-learn==0.23.1->lazypredict) (3.1.0)\n",
            "Requirement already satisfied: typing-extensions>=3.6.4 in /usr/local/lib/python3.7/dist-packages (from importlib-metadata>=0.12->pytest==5.4.3->lazypredict) (4.2.0)\n",
            "Requirement already satisfied: zipp>=0.5 in /usr/local/lib/python3.7/dist-packages (from importlib-metadata>=0.12->pytest==5.4.3->lazypredict) (3.8.0)\n",
            "Requirement already satisfied: pyparsing!=3.0.5,>=2.0.2 in /usr/local/lib/python3.7/dist-packages (from packaging->pytest==5.4.3->lazypredict) (3.0.8)\n",
            "Building wheels for collected packages: PyYAML\n",
            "  Building wheel for PyYAML (setup.py) ... \u001b[?25l\u001b[?25hdone\n",
            "  Created wheel for PyYAML: filename=PyYAML-5.3.1-cp37-cp37m-linux_x86_64.whl size=44636 sha256=8af40c88a07bfe3791bf75d502ab7749d925fe33cfdcc6f835e4077af6be8c06\n",
            "  Stored in directory: /root/.cache/pip/wheels/5e/03/1e/e1e954795d6f35dfc7b637fe2277bff021303bd9570ecea653\n",
            "Successfully built PyYAML\n",
            "Installing collected packages: numpy, scipy, joblib, scikit-learn, pluggy, xgboost, tqdm, PyYAML, pytest, pandas, lightgbm, lazypredict\n",
            "  Attempting uninstall: numpy\n",
            "    Found existing installation: numpy 1.21.6\n",
            "    Uninstalling numpy-1.21.6:\n",
            "      Successfully uninstalled numpy-1.21.6\n",
            "  Attempting uninstall: scipy\n",
            "    Found existing installation: scipy 1.4.1\n",
            "    Uninstalling scipy-1.4.1:\n",
            "      Successfully uninstalled scipy-1.4.1\n",
            "  Attempting uninstall: joblib\n",
            "    Found existing installation: joblib 1.1.0\n",
            "    Uninstalling joblib-1.1.0:\n",
            "      Successfully uninstalled joblib-1.1.0\n",
            "  Attempting uninstall: scikit-learn\n",
            "    Found existing installation: scikit-learn 1.0.2\n",
            "    Uninstalling scikit-learn-1.0.2:\n",
            "      Successfully uninstalled scikit-learn-1.0.2\n",
            "  Attempting uninstall: pluggy\n",
            "    Found existing installation: pluggy 0.7.1\n",
            "    Uninstalling pluggy-0.7.1:\n",
            "      Successfully uninstalled pluggy-0.7.1\n",
            "  Attempting uninstall: xgboost\n",
            "    Found existing installation: xgboost 0.90\n",
            "    Uninstalling xgboost-0.90:\n",
            "      Successfully uninstalled xgboost-0.90\n",
            "  Attempting uninstall: tqdm\n",
            "    Found existing installation: tqdm 4.64.0\n",
            "    Uninstalling tqdm-4.64.0:\n",
            "      Successfully uninstalled tqdm-4.64.0\n",
            "  Attempting uninstall: PyYAML\n",
            "    Found existing installation: PyYAML 3.13\n",
            "    Uninstalling PyYAML-3.13:\n",
            "      Successfully uninstalled PyYAML-3.13\n",
            "  Attempting uninstall: pytest\n",
            "    Found existing installation: pytest 3.6.4\n",
            "    Uninstalling pytest-3.6.4:\n",
            "      Successfully uninstalled pytest-3.6.4\n",
            "  Attempting uninstall: pandas\n",
            "    Found existing installation: pandas 1.3.5\n",
            "    Uninstalling pandas-1.3.5:\n",
            "      Successfully uninstalled pandas-1.3.5\n",
            "  Attempting uninstall: lightgbm\n",
            "    Found existing installation: lightgbm 2.2.3\n",
            "    Uninstalling lightgbm-2.2.3:\n",
            "      Successfully uninstalled lightgbm-2.2.3\n",
            "\u001b[31mERROR: pip's dependency resolver does not currently take into account all the packages that are installed. This behaviour is the source of the following dependency conflicts.\n",
            "tensorflow 2.8.0 requires tf-estimator-nightly==2.8.0.dev2021122109, which is not installed.\n",
            "yellowbrick 1.4 requires scikit-learn>=1.0.0, but you have scikit-learn 0.23.1 which is incompatible.\n",
            "tensorflow 2.8.0 requires numpy>=1.20, but you have numpy 1.19.1 which is incompatible.\n",
            "imbalanced-learn 0.8.1 requires scikit-learn>=0.24, but you have scikit-learn 0.23.1 which is incompatible.\n",
            "google-colab 1.0.0 requires pandas>=1.1.0; python_version >= \"3.0\", but you have pandas 1.0.5 which is incompatible.\n",
            "datascience 0.10.6 requires folium==0.2.1, but you have folium 0.8.3 which is incompatible.\n",
            "albumentations 0.1.12 requires imgaug<0.2.7,>=0.2.5, but you have imgaug 0.2.9 which is incompatible.\u001b[0m\n",
            "Successfully installed PyYAML-5.3.1 joblib-1.0.0 lazypredict-0.2.9 lightgbm-2.3.1 numpy-1.19.1 pandas-1.0.5 pluggy-0.13.1 pytest-5.4.3 scikit-learn-0.23.1 scipy-1.5.4 tqdm-4.56.0 xgboost-1.1.1\n"
          ]
        },
        {
          "output_type": "display_data",
          "data": {
            "application/vnd.colab-display-data+json": {
              "pip_warning": {
                "packages": [
                  "numpy"
                ]
              }
            }
          },
          "metadata": {}
        }
      ],
      "source": [
        "!pip install  lazypredict\n",
        "import lazypredict"
      ]
    },
    {
      "cell_type": "code",
      "source": [
        "from lazypredict.Supervised import LazyClassifier"
      ],
      "metadata": {
        "id": "hZzClvC44ely",
        "colab": {
          "base_uri": "https://localhost:8080/"
        },
        "outputId": "cedda75a-b06d-4552-f757-0de0fc51e77b"
      },
      "execution_count": null,
      "outputs": [
        {
          "output_type": "stream",
          "name": "stderr",
          "text": [
            "/usr/local/lib/python3.7/dist-packages/sklearn/utils/deprecation.py:143: FutureWarning: The sklearn.utils.testing module is  deprecated in version 0.22 and will be removed in version 0.24. The corresponding classes / functions should instead be imported from sklearn.utils. Anything that cannot be imported from sklearn.utils is now part of the private API.\n",
            "  warnings.warn(message, FutureWarning)\n"
          ]
        }
      ]
    },
    {
      "cell_type": "code",
      "source": [
        "from sklearn.datasets import  load_breast_cancer"
      ],
      "metadata": {
        "id": "ZcTRUyWa4z7N"
      },
      "execution_count": null,
      "outputs": []
    },
    {
      "cell_type": "code",
      "source": [
        "from sklearn.model_selection import train_test_split"
      ],
      "metadata": {
        "id": "7u5HZ1Gc47Ad"
      },
      "execution_count": null,
      "outputs": []
    },
    {
      "cell_type": "code",
      "source": [
        "data=load_breast_cancer()"
      ],
      "metadata": {
        "id": "kO010BuW5AZV"
      },
      "execution_count": null,
      "outputs": []
    },
    {
      "cell_type": "code",
      "source": [
        "x=data.data"
      ],
      "metadata": {
        "id": "4VIsv1f65a4D"
      },
      "execution_count": null,
      "outputs": []
    },
    {
      "cell_type": "code",
      "source": [
        "y=data.target"
      ],
      "metadata": {
        "id": "JO4nZrvn5lXb"
      },
      "execution_count": null,
      "outputs": []
    },
    {
      "cell_type": "code",
      "source": [
        "xtrain,xtest,ytrain,ytest=train_test_split(x,y,test_size=0.10,random_state=10)"
      ],
      "metadata": {
        "id": "4T0HdT8X5ojP"
      },
      "execution_count": null,
      "outputs": []
    },
    {
      "cell_type": "code",
      "source": [
        "clf=LazyClassifier()"
      ],
      "metadata": {
        "id": "reqmPAI_55RJ"
      },
      "execution_count": null,
      "outputs": []
    },
    {
      "cell_type": "code",
      "source": [
        "models,predictions=clf.fit(xtrain,xtest,ytrain,ytest)"
      ],
      "metadata": {
        "colab": {
          "base_uri": "https://localhost:8080/"
        },
        "id": "1-DYwHou5_CO",
        "outputId": "7d4f05b8-dc9c-4744-d662-405727578d78"
      },
      "execution_count": null,
      "outputs": [
        {
          "output_type": "stream",
          "name": "stderr",
          "text": [
            "100%|██████████| 29/29 [00:02<00:00, 13.98it/s]\n"
          ]
        }
      ]
    },
    {
      "cell_type": "code",
      "source": [
        "print(models)"
      ],
      "metadata": {
        "colab": {
          "base_uri": "https://localhost:8080/"
        },
        "id": "_ztZcLYM6Lxe",
        "outputId": "b4af8218-b25c-4933-cbac-5c45ec7ed66b"
      },
      "execution_count": null,
      "outputs": [
        {
          "output_type": "stream",
          "name": "stdout",
          "text": [
            "                               Accuracy  Balanced Accuracy  ROC AUC  F1 Score  \\\n",
            "Model                                                                           \n",
            "KNeighborsClassifier               1.00               1.00     1.00      1.00   \n",
            "XGBClassifier                      0.98               0.99     0.99      0.98   \n",
            "ExtraTreesClassifier               0.98               0.99     0.99      0.98   \n",
            "RandomForestClassifier             0.98               0.99     0.99      0.98   \n",
            "QuadraticDiscriminantAnalysis      0.98               0.99     0.99      0.98   \n",
            "Perceptron                         0.98               0.99     0.99      0.98   \n",
            "PassiveAggressiveClassifier        0.98               0.99     0.99      0.98   \n",
            "LogisticRegression                 0.98               0.99     0.99      0.98   \n",
            "RidgeClassifierCV                  0.98               0.98     0.98      0.98   \n",
            "RidgeClassifier                    0.98               0.98     0.98      0.98   \n",
            "LinearDiscriminantAnalysis         0.98               0.98     0.98      0.98   \n",
            "NuSVC                              0.96               0.97     0.97      0.97   \n",
            "SVC                                0.96               0.97     0.97      0.97   \n",
            "SGDClassifier                      0.96               0.97     0.97      0.97   \n",
            "NearestCentroid                    0.96               0.97     0.97      0.97   \n",
            "LinearSVC                          0.95               0.95     0.95      0.95   \n",
            "LGBMClassifier                     0.95               0.95     0.95      0.95   \n",
            "BaggingClassifier                  0.95               0.95     0.95      0.95   \n",
            "LabelSpreading                     0.95               0.95     0.95      0.95   \n",
            "LabelPropagation                   0.95               0.95     0.95      0.95   \n",
            "CalibratedClassifierCV             0.95               0.95     0.95      0.95   \n",
            "GaussianNB                         0.93               0.94     0.94      0.93   \n",
            "DecisionTreeClassifier             0.93               0.93     0.93      0.93   \n",
            "ExtraTreeClassifier                0.93               0.92     0.92      0.93   \n",
            "BernoulliNB                        0.91               0.91     0.91      0.91   \n",
            "AdaBoostClassifier                 0.91               0.91     0.91      0.91   \n",
            "DummyClassifier                    0.56               0.51     0.51      0.55   \n",
            "\n",
            "                               Time Taken  \n",
            "Model                                      \n",
            "KNeighborsClassifier                 0.03  \n",
            "XGBClassifier                        0.23  \n",
            "ExtraTreesClassifier                 0.25  \n",
            "RandomForestClassifier               0.33  \n",
            "QuadraticDiscriminantAnalysis        0.02  \n",
            "Perceptron                           0.02  \n",
            "PassiveAggressiveClassifier          0.03  \n",
            "LogisticRegression                   0.04  \n",
            "RidgeClassifierCV                    0.03  \n",
            "RidgeClassifier                      0.02  \n",
            "LinearDiscriminantAnalysis           0.03  \n",
            "NuSVC                                0.05  \n",
            "SVC                                  0.03  \n",
            "SGDClassifier                        0.02  \n",
            "NearestCentroid                      0.02  \n",
            "LinearSVC                            0.05  \n",
            "LGBMClassifier                       0.24  \n",
            "BaggingClassifier                    0.08  \n",
            "LabelSpreading                       0.05  \n",
            "LabelPropagation                     0.04  \n",
            "CalibratedClassifierCV               0.06  \n",
            "GaussianNB                           0.02  \n",
            "DecisionTreeClassifier               0.04  \n",
            "ExtraTreeClassifier                  0.03  \n",
            "BernoulliNB                          0.01  \n",
            "AdaBoostClassifier                   0.22  \n",
            "DummyClassifier                      0.02  \n"
          ]
        }
      ]
    },
    {
      "cell_type": "code",
      "source": [
        "print(predictions)"
      ],
      "metadata": {
        "colab": {
          "base_uri": "https://localhost:8080/"
        },
        "id": "sKSBnDe16Q7y",
        "outputId": "4c8f4fd9-d8e8-4669-d5d9-887577e80a1f"
      },
      "execution_count": null,
      "outputs": [
        {
          "output_type": "stream",
          "name": "stdout",
          "text": [
            "                               Accuracy  Balanced Accuracy  ROC AUC  F1 Score  \\\n",
            "Model                                                                           \n",
            "KNeighborsClassifier               1.00               1.00     1.00      1.00   \n",
            "XGBClassifier                      0.98               0.99     0.99      0.98   \n",
            "ExtraTreesClassifier               0.98               0.99     0.99      0.98   \n",
            "RandomForestClassifier             0.98               0.99     0.99      0.98   \n",
            "QuadraticDiscriminantAnalysis      0.98               0.99     0.99      0.98   \n",
            "Perceptron                         0.98               0.99     0.99      0.98   \n",
            "PassiveAggressiveClassifier        0.98               0.99     0.99      0.98   \n",
            "LogisticRegression                 0.98               0.99     0.99      0.98   \n",
            "RidgeClassifierCV                  0.98               0.98     0.98      0.98   \n",
            "RidgeClassifier                    0.98               0.98     0.98      0.98   \n",
            "LinearDiscriminantAnalysis         0.98               0.98     0.98      0.98   \n",
            "NuSVC                              0.96               0.97     0.97      0.97   \n",
            "SVC                                0.96               0.97     0.97      0.97   \n",
            "SGDClassifier                      0.96               0.97     0.97      0.97   \n",
            "NearestCentroid                    0.96               0.97     0.97      0.97   \n",
            "LinearSVC                          0.95               0.95     0.95      0.95   \n",
            "LGBMClassifier                     0.95               0.95     0.95      0.95   \n",
            "BaggingClassifier                  0.95               0.95     0.95      0.95   \n",
            "LabelSpreading                     0.95               0.95     0.95      0.95   \n",
            "LabelPropagation                   0.95               0.95     0.95      0.95   \n",
            "CalibratedClassifierCV             0.95               0.95     0.95      0.95   \n",
            "GaussianNB                         0.93               0.94     0.94      0.93   \n",
            "DecisionTreeClassifier             0.93               0.93     0.93      0.93   \n",
            "ExtraTreeClassifier                0.93               0.92     0.92      0.93   \n",
            "BernoulliNB                        0.91               0.91     0.91      0.91   \n",
            "AdaBoostClassifier                 0.91               0.91     0.91      0.91   \n",
            "DummyClassifier                    0.56               0.51     0.51      0.55   \n",
            "\n",
            "                               Time Taken  \n",
            "Model                                      \n",
            "KNeighborsClassifier                 0.03  \n",
            "XGBClassifier                        0.23  \n",
            "ExtraTreesClassifier                 0.25  \n",
            "RandomForestClassifier               0.33  \n",
            "QuadraticDiscriminantAnalysis        0.02  \n",
            "Perceptron                           0.02  \n",
            "PassiveAggressiveClassifier          0.03  \n",
            "LogisticRegression                   0.04  \n",
            "RidgeClassifierCV                    0.03  \n",
            "RidgeClassifier                      0.02  \n",
            "LinearDiscriminantAnalysis           0.03  \n",
            "NuSVC                                0.05  \n",
            "SVC                                  0.03  \n",
            "SGDClassifier                        0.02  \n",
            "NearestCentroid                      0.02  \n",
            "LinearSVC                            0.05  \n",
            "LGBMClassifier                       0.24  \n",
            "BaggingClassifier                    0.08  \n",
            "LabelSpreading                       0.05  \n",
            "LabelPropagation                     0.04  \n",
            "CalibratedClassifierCV               0.06  \n",
            "GaussianNB                           0.02  \n",
            "DecisionTreeClassifier               0.04  \n",
            "ExtraTreeClassifier                  0.03  \n",
            "BernoulliNB                          0.01  \n",
            "AdaBoostClassifier                   0.22  \n",
            "DummyClassifier                      0.02  \n"
          ]
        }
      ]
    },
    {
      "cell_type": "code",
      "source": [
        ""
      ],
      "metadata": {
        "id": "IxWxtSfk8etl"
      },
      "execution_count": null,
      "outputs": []
    }
  ]
}