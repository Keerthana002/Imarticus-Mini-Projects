{
  "nbformat": 4,
  "nbformat_minor": 0,
  "metadata": {
    "colab": {
      "name": "kfold_csv.ipynb",
      "provenance": []
    },
    "kernelspec": {
      "name": "python3",
      "display_name": "Python 3"
    },
    "language_info": {
      "name": "python"
    }
  },
  "cells": [
    {
      "cell_type": "code",
      "execution_count": null,
      "metadata": {
        "id": "zVv3bRp_sE4Q"
      },
      "outputs": [],
      "source": [
        "import numpy as np\n",
        "import pandas as pd\n",
        "import matplotlib.pyplot as plt\n",
        "from sklearn.datasets import load_iris\n",
        "from sklearn.model_selection import train_test_split\n",
        "from sklearn.linear_model import LogisticRegression\n",
        "from sklearn.tree import  DecisionTreeClassifier\n",
        "from sklearn.neighbors import KNeighborsClassifier\n",
        "from sklearn.svm import SVC\n",
        "from sklearn.naive_bayes import GaussianNB\n",
        "from sklearn.discriminant_analysis import LinearDiscriminantAnalysis\n",
        "from sklearn.ensemble import RandomForestClassifier\n",
        "from sklearn.model_selection import KFold,cross_val_score"
      ]
    },
    {
      "cell_type": "code",
      "source": [
        "import warnings\n",
        "warnings.filterwarnings(\"ignore\")"
      ],
      "metadata": {
        "id": "BkJdzdto1V0a"
      },
      "execution_count": null,
      "outputs": []
    },
    {
      "cell_type": "code",
      "source": [
        "file=load_iris()"
      ],
      "metadata": {
        "id": "5YKWOoYqsO5Q"
      },
      "execution_count": null,
      "outputs": []
    },
    {
      "cell_type": "code",
      "source": [
        "x=file.data"
      ],
      "metadata": {
        "id": "ydaz8ZSwsRDx"
      },
      "execution_count": null,
      "outputs": []
    },
    {
      "cell_type": "code",
      "source": [
        "y=file.target"
      ],
      "metadata": {
        "id": "YyBOCmY_sTmM"
      },
      "execution_count": null,
      "outputs": []
    },
    {
      "cell_type": "code",
      "source": [
        "models=[]"
      ],
      "metadata": {
        "id": "J7KIMZsDuNvH"
      },
      "execution_count": null,
      "outputs": []
    },
    {
      "cell_type": "code",
      "source": [
        "models.append(('LR',LogisticRegression()))"
      ],
      "metadata": {
        "id": "-jWFRhU2sWEJ"
      },
      "execution_count": null,
      "outputs": []
    },
    {
      "cell_type": "code",
      "source": [
        "models.append(('LDA',LinearDiscriminantAnalysis()))"
      ],
      "metadata": {
        "id": "TNPKPA7ruIEz"
      },
      "execution_count": null,
      "outputs": []
    },
    {
      "cell_type": "code",
      "source": [
        "models.append(('KNN',KNeighborsClassifier()))"
      ],
      "metadata": {
        "id": "IDD5W-aougUi"
      },
      "execution_count": null,
      "outputs": []
    },
    {
      "cell_type": "code",
      "source": [
        "models.append(('CART',DecisionTreeClassifier()))"
      ],
      "metadata": {
        "id": "CdSwErOJuld8"
      },
      "execution_count": null,
      "outputs": []
    },
    {
      "cell_type": "code",
      "source": [
        "models.append(('NB',GaussianNB()))"
      ],
      "metadata": {
        "id": "0ElHOk0iuu7J"
      },
      "execution_count": null,
      "outputs": []
    },
    {
      "cell_type": "code",
      "source": [
        "models.append(('SVM',SVC()))"
      ],
      "metadata": {
        "id": "pi4ScGN5uzCP"
      },
      "execution_count": null,
      "outputs": []
    },
    {
      "cell_type": "code",
      "source": [
        "models.append(('RF',RandomForestClassifier()))"
      ],
      "metadata": {
        "id": "kWZ6jVWru7-h"
      },
      "execution_count": null,
      "outputs": []
    },
    {
      "cell_type": "code",
      "source": [
        "results=[]\n",
        "names=[]\n",
        "scoring='accuracy'"
      ],
      "metadata": {
        "id": "UJaTjx1ivCQF"
      },
      "execution_count": null,
      "outputs": []
    },
    {
      "cell_type": "code",
      "source": [
        "x_train,x_test,y_train,y_test=train_test_split(x,y,test_size=0.2)"
      ],
      "metadata": {
        "id": "wsCDMqFuxMOR"
      },
      "execution_count": null,
      "outputs": []
    },
    {
      "cell_type": "code",
      "source": [
        "from sklearn.model_selection import KFold,cross_val_score\n",
        "for names,model in models:\n",
        " kfold=KFold(n_splits=10,random_state=None) \n",
        " cv_results=cross_val_score(model,x_train,y_train,cv=kfold,scoring=scoring)\n",
        " \n",
        " msg=\"%s:%f(%f)\"%(names,cv_results.mean(),cv_results.std())\n",
        " print(msg)"
      ],
      "metadata": {
        "colab": {
          "base_uri": "https://localhost:8080/"
        },
        "id": "Uco3LKBHvOGM",
        "outputId": "63e46240-7c36-4044-d5ca-f52c062efed1"
      },
      "execution_count": null,
      "outputs": [
        {
          "output_type": "stream",
          "name": "stdout",
          "text": [
            "LR:0.950000(0.040825)\n",
            "LDA:0.983333(0.033333)\n",
            "KNN:0.958333(0.041667)\n",
            "CART:0.925000(0.058333)\n",
            "NB:0.950000(0.040825)\n",
            "SVM:0.950000(0.040825)\n",
            "RF:0.941667(0.053359)\n"
          ]
        }
      ]
    },
    {
      "cell_type": "code",
      "source": [
        ""
      ],
      "metadata": {
        "id": "rxQeD_6H4MKK"
      },
      "execution_count": null,
      "outputs": []
    }
  ]
}