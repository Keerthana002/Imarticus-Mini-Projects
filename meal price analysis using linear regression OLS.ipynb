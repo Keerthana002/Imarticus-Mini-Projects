{
 "cells": [
  {
   "cell_type": "code",
   "execution_count": null,
   "id": "aa671a67",
   "metadata": {},
   "outputs": [],
   "source": [
    "pip install statsmodels"
   ]
  },
  {
   "cell_type": "code",
   "execution_count": null,
   "id": "984d1653",
   "metadata": {},
   "outputs": [],
   "source": [
    "from sklearn.model_selection import train_test_split"
   ]
  },
  {
   "cell_type": "code",
   "execution_count": null,
   "id": "8442c8c9",
   "metadata": {
    "scrolled": true
   },
   "outputs": [],
   "source": [
    "import pandas as pd\n",
    "import statsmodels as st\n",
    "import statsmodels.api as st\n",
    "df=pd.read_csv(\"C:\\\\Users\\\\keerthana\\\\Downloads\\\\restaurants.csv\")\n",
    "df"
   ]
  },
  {
   "cell_type": "code",
   "execution_count": null,
   "id": "1fde3368",
   "metadata": {
    "scrolled": true
   },
   "outputs": [],
   "source": [
    "import numpy as np\n",
    "print(df.describe())\n",
    "discriptive=df.describe(include=['object'])\n",
    "discriptive"
   ]
  },
  {
   "cell_type": "code",
   "execution_count": null,
   "id": "2bdf96e4",
   "metadata": {},
   "outputs": [],
   "source": [
    "df.shape"
   ]
  },
  {
   "cell_type": "code",
   "execution_count": null,
   "id": "f7a4e389",
   "metadata": {},
   "outputs": [],
   "source": [
    "df.head(10)"
   ]
  },
  {
   "cell_type": "code",
   "execution_count": null,
   "id": "0d4408b1",
   "metadata": {
    "scrolled": false
   },
   "outputs": [],
   "source": [
    "df.isnull().sum()"
   ]
  },
  {
   "cell_type": "code",
   "execution_count": null,
   "id": "74d86e97",
   "metadata": {},
   "outputs": [],
   "source": [
    "df.corr()"
   ]
  },
  {
   "cell_type": "code",
   "execution_count": null,
   "id": "2a6b7287",
   "metadata": {
    "scrolled": true
   },
   "outputs": [],
   "source": [
    "import matplotlib.pyplot as plt\n",
    "plt.bar(df.Food_Quality,df.Price,color=\"red\")"
   ]
  },
  {
   "cell_type": "code",
   "execution_count": null,
   "id": "e6addc53",
   "metadata": {},
   "outputs": [],
   "source": [
    "plt.scatter(df[\"Food_Quality\"],df[\"Price\"])"
   ]
  },
  {
   "cell_type": "code",
   "execution_count": null,
   "id": "dc4dd304",
   "metadata": {},
   "outputs": [],
   "source": [
    "x=df.Food_Quality\n",
    "y=df.Price"
   ]
  },
  {
   "cell_type": "code",
   "execution_count": null,
   "id": "4f65d2ad",
   "metadata": {
    "scrolled": true
   },
   "outputs": [],
   "source": [
    "x=st.add_constant(x)\n",
    "model=st.OLS(y,x).fit()"
   ]
  },
  {
   "cell_type": "code",
   "execution_count": null,
   "id": "094ad92b",
   "metadata": {
    "scrolled": true
   },
   "outputs": [],
   "source": [
    "summary=model.summary()\n",
    "print(summary)"
   ]
  },
  {
   "cell_type": "markdown",
   "id": "b7d10e9b",
   "metadata": {},
   "source": [
    "# REGRESSION USING SCIKIT LEARN"
   ]
  },
  {
   "cell_type": "code",
   "execution_count": null,
   "id": "199e4909",
   "metadata": {},
   "outputs": [],
   "source": [
    "df.columns"
   ]
  },
  {
   "cell_type": "code",
   "execution_count": null,
   "id": "45d4e977",
   "metadata": {
    "scrolled": true
   },
   "outputs": [],
   "source": [
    "a=df.drop(columns=[\"Restaurant_ID\"],axis=1)\n",
    "a"
   ]
  },
  {
   "cell_type": "code",
   "execution_count": null,
   "id": "d464baa4",
   "metadata": {},
   "outputs": [],
   "source": [
    "a.columns"
   ]
  },
  {
   "cell_type": "code",
   "execution_count": null,
   "id": "67764b5b",
   "metadata": {},
   "outputs": [],
   "source": [
    "x=a.drop(columns=[\"Price\"])\n",
    "x"
   ]
  },
  {
   "cell_type": "code",
   "execution_count": null,
   "id": "f408f819",
   "metadata": {
    "scrolled": false
   },
   "outputs": [],
   "source": [
    "y=a[\"Price\"]\n",
    "y"
   ]
  },
  {
   "cell_type": "code",
   "execution_count": null,
   "id": "ce090424",
   "metadata": {
    "scrolled": true
   },
   "outputs": [],
   "source": [
    "y.values"
   ]
  },
  {
   "cell_type": "code",
   "execution_count": null,
   "id": "f6789a3c",
   "metadata": {
    "scrolled": true
   },
   "outputs": [],
   "source": [
    "train_test_split(x,y,test_size=0.2,random_state=0)"
   ]
  },
  {
   "cell_type": "code",
   "execution_count": null,
   "id": "430610ce",
   "metadata": {},
   "outputs": [],
   "source": [
    "from sklearn.model_selection import train_test_split\n",
    "x_training_set,x_testing_set,y_training_set,y_testing_set=train_test_split(x,y,test_size=0.2,random_state=0)"
   ]
  },
  {
   "cell_type": "code",
   "execution_count": null,
   "id": "c440b5b0",
   "metadata": {},
   "outputs": [],
   "source": [
    "x_training_set"
   ]
  },
  {
   "cell_type": "code",
   "execution_count": null,
   "id": "2ad7ca5c",
   "metadata": {},
   "outputs": [],
   "source": [
    "import sklearn"
   ]
  },
  {
   "cell_type": "code",
   "execution_count": null,
   "id": "6dfff1bc",
   "metadata": {
    "scrolled": true
   },
   "outputs": [],
   "source": [
    "from sklearn.linear_model import LinearRegression\n",
    "regressor=LinearRegression()\n",
    "regressor.fit(x_training_set,y_training_set)s"
   ]
  },
  {
   "cell_type": "code",
   "execution_count": null,
   "id": "23593555",
   "metadata": {
    "scrolled": true
   },
   "outputs": [],
   "source": [
    "# coefficient\n",
    "print(\"coefficient:\\n\",regressor.coef_)"
   ]
  },
  {
   "cell_type": "code",
   "execution_count": null,
   "id": "4005b3d0",
   "metadata": {},
   "outputs": [],
   "source": [
    "# predicting the test set results\n",
    "y_pred=regressor.predict(x_testing_set)\n",
    "y_pred"
   ]
  },
  {
   "cell_type": "code",
   "execution_count": null,
   "id": "c67b90a4",
   "metadata": {
    "scrolled": true
   },
   "outputs": [],
   "source": [
    "# the mean squared array\n",
    "print(\"Mean squared error:\",sklearn.metrics.mean_squared_error(y_testing_set,y_pred))\n",
    "print(\"variance score:\",sklearn.metrics.r2_score\n",
    "     (y_testing_set,y_pred))"
   ]
  },
  {
   "cell_type": "code",
   "execution_count": null,
   "id": "b8bfb267",
   "metadata": {},
   "outputs": [],
   "source": [
    "# x_training_set,x_testing_set,y_training_set,y_testing_set=train_test_split(x,y,test_size=0.3)\n",
    "# lr=LinearRegression()\n",
    "ob=regressor.fit(x_training_set,y_training_set)\n",
    "ypred=ob.predict(x_testing_set)\n",
    "print(ypred)\n",
    "ypred=ob.predict([[44,43]])\n",
    "ypred"
   ]
  },
  {
   "cell_type": "code",
   "execution_count": null,
   "id": "e23ceb29",
   "metadata": {},
   "outputs": [],
   "source": []
  },
  {
   "cell_type": "code",
   "execution_count": null,
   "id": "ac098293",
   "metadata": {},
   "outputs": [],
   "source": []
  }
 ],
 "metadata": {
  "kernelspec": {
   "display_name": "Python 3 (ipykernel)",
   "language": "python",
   "name": "python3"
  },
  "language_info": {
   "codemirror_mode": {
    "name": "ipython",
    "version": 3
   },
   "file_extension": ".py",
   "mimetype": "text/x-python",
   "name": "python",
   "nbconvert_exporter": "python",
   "pygments_lexer": "ipython3",
   "version": "3.9.7"
  }
 },
 "nbformat": 4,
 "nbformat_minor": 5
}
