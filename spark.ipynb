{
  "nbformat": 4,
  "nbformat_minor": 0,
  "metadata": {
    "colab": {
      "name": "spark.ipynb",
      "provenance": [],
      "collapsed_sections": []
    },
    "kernelspec": {
      "name": "python3",
      "display_name": "Python 3"
    },
    "language_info": {
      "name": "python"
    }
  },
  "cells": [
    {
      "cell_type": "code",
      "execution_count": null,
      "metadata": {
        "colab": {
          "base_uri": "https://localhost:8080/"
        },
        "id": "Avpk9NJZX6rF",
        "outputId": "d6a5d754-f375-4a01-e7a3-f2882d143051"
      },
      "outputs": [
        {
          "output_type": "stream",
          "name": "stdout",
          "text": [
            "Looking in indexes: https://pypi.org/simple, https://us-python.pkg.dev/colab-wheels/public/simple/\n",
            "Collecting pyspark\n",
            "  Downloading pyspark-3.2.1.tar.gz (281.4 MB)\n",
            "\u001b[K     |████████████████████████████████| 281.4 MB 27 kB/s \n",
            "\u001b[?25hCollecting py4j==0.10.9.3\n",
            "  Downloading py4j-0.10.9.3-py2.py3-none-any.whl (198 kB)\n",
            "\u001b[K     |████████████████████████████████| 198 kB 54.0 MB/s \n",
            "\u001b[?25hBuilding wheels for collected packages: pyspark\n",
            "  Building wheel for pyspark (setup.py) ... \u001b[?25l\u001b[?25hdone\n",
            "  Created wheel for pyspark: filename=pyspark-3.2.1-py2.py3-none-any.whl size=281853642 sha256=67cb15b544b027034d701261ae1ea86a6a3a55fb412ba6844d8ae458e22193a3\n",
            "  Stored in directory: /root/.cache/pip/wheels/9f/f5/07/7cd8017084dce4e93e84e92efd1e1d5334db05f2e83bcef74f\n",
            "Successfully built pyspark\n",
            "Installing collected packages: py4j, pyspark\n",
            "Successfully installed py4j-0.10.9.3 pyspark-3.2.1\n"
          ]
        }
      ],
      "source": [
        "! pip install pyspark"
      ]
    },
    {
      "cell_type": "code",
      "source": [
        "import pyspark"
      ],
      "metadata": {
        "id": "Q0-12UVelc8W"
      },
      "execution_count": null,
      "outputs": []
    },
    {
      "cell_type": "code",
      "source": [
        "from google.colab import drive"
      ],
      "metadata": {
        "id": "ShFfEGdoX_PM"
      },
      "execution_count": null,
      "outputs": []
    },
    {
      "cell_type": "code",
      "source": [
        "drive.mount('/content/drive/')"
      ],
      "metadata": {
        "colab": {
          "base_uri": "https://localhost:8080/"
        },
        "id": "5iZovSGmYrQo",
        "outputId": "833a75d6-d5d9-4747-a81e-843ff21d0a50"
      },
      "execution_count": null,
      "outputs": [
        {
          "output_type": "stream",
          "name": "stdout",
          "text": [
            "Drive already mounted at /content/drive/; to attempt to forcibly remount, call drive.mount(\"/content/drive/\", force_remount=True).\n"
          ]
        }
      ]
    },
    {
      "cell_type": "code",
      "source": [
        "import pandas as pd\n"
      ],
      "metadata": {
        "id": "v0Jvwv2gbZUW"
      },
      "execution_count": null,
      "outputs": []
    },
    {
      "cell_type": "code",
      "source": [
        "file=pd.read_csv('/content/drive/MyDrive/0.MKCE/19.Spark/Sample - Superstore.csv')"
      ],
      "metadata": {
        "id": "z_YVf1O0a6-q"
      },
      "execution_count": null,
      "outputs": []
    },
    {
      "cell_type": "code",
      "source": [
        "file.info()"
      ],
      "metadata": {
        "colab": {
          "base_uri": "https://localhost:8080/"
        },
        "id": "EqnrJVe5b8Wa",
        "outputId": "11c756a3-a288-4b99-be1c-71ed9c87daf7"
      },
      "execution_count": null,
      "outputs": [
        {
          "output_type": "stream",
          "name": "stdout",
          "text": [
            "<class 'pandas.core.frame.DataFrame'>\n",
            "RangeIndex: 9994 entries, 0 to 9993\n",
            "Data columns (total 21 columns):\n",
            " #   Column          Non-Null Count  Dtype  \n",
            "---  ------          --------------  -----  \n",
            " 0   Row ID          9994 non-null   int64  \n",
            " 1   Order ID        9994 non-null   object \n",
            " 2   Order Date      9994 non-null   object \n",
            " 3   Ship Date       9994 non-null   object \n",
            " 4   Ship Mode       9994 non-null   object \n",
            " 5   Customer ID     9994 non-null   object \n",
            " 6   Customer Name   9994 non-null   object \n",
            " 7   Segment         9994 non-null   object \n",
            " 8   Country/Region  9994 non-null   object \n",
            " 9   City            9994 non-null   object \n",
            " 10  State           9994 non-null   object \n",
            " 11  Postal Code     9983 non-null   float64\n",
            " 12  Region          9994 non-null   object \n",
            " 13  Product ID      9994 non-null   object \n",
            " 14  Category        9994 non-null   object \n",
            " 15  Sub-Category    9994 non-null   object \n",
            " 16  Product Name    9994 non-null   object \n",
            " 17  Sales           9994 non-null   float64\n",
            " 18  Quantity        9994 non-null   int64  \n",
            " 19  Discount        9994 non-null   float64\n",
            " 20  Profit          9994 non-null   float64\n",
            "dtypes: float64(4), int64(2), object(15)\n",
            "memory usage: 1.6+ MB\n"
          ]
        }
      ]
    },
    {
      "cell_type": "code",
      "source": [
        "from pyspark.sql import SparkSession"
      ],
      "metadata": {
        "id": "Y_g697p9bVr7"
      },
      "execution_count": null,
      "outputs": []
    },
    {
      "cell_type": "code",
      "source": [
        "spark=SparkSession.builder.appName('Sample-Superstore').getOrCreate()"
      ],
      "metadata": {
        "id": "BwMJE47tbtTW"
      },
      "execution_count": null,
      "outputs": []
    },
    {
      "cell_type": "code",
      "source": [
        "spark"
      ],
      "metadata": {
        "colab": {
          "base_uri": "https://localhost:8080/",
          "height": 221
        },
        "id": "N86Yqz8pbxet",
        "outputId": "05e5a321-e8c1-4239-b2b2-3f732b989fe2"
      },
      "execution_count": null,
      "outputs": [
        {
          "output_type": "execute_result",
          "data": {
            "text/plain": [
              "<pyspark.sql.session.SparkSession at 0x7f60fe6d2c10>"
            ],
            "text/html": [
              "\n",
              "            <div>\n",
              "                <p><b>SparkSession - in-memory</b></p>\n",
              "                \n",
              "        <div>\n",
              "            <p><b>SparkContext</b></p>\n",
              "\n",
              "            <p><a href=\"http://dc6c05ce682c:4040\">Spark UI</a></p>\n",
              "\n",
              "            <dl>\n",
              "              <dt>Version</dt>\n",
              "                <dd><code>v3.2.1</code></dd>\n",
              "              <dt>Master</dt>\n",
              "                <dd><code>local[*]</code></dd>\n",
              "              <dt>AppName</dt>\n",
              "                <dd><code>Sample-Superstore</code></dd>\n",
              "            </dl>\n",
              "        </div>\n",
              "        \n",
              "            </div>\n",
              "        "
            ]
          },
          "metadata": {},
          "execution_count": 10
        }
      ]
    },
    {
      "cell_type": "code",
      "source": [
        "file_pyspark=spark.read.option('header','true').csv('/content/drive/MyDrive/0.MKCE/19.Spark/Sample - Superstore.csv',inferSchema=True)"
      ],
      "metadata": {
        "id": "oCCcuCb3oDRD"
      },
      "execution_count": null,
      "outputs": []
    },
    {
      "cell_type": "code",
      "source": [
        "type(file_pyspark)"
      ],
      "metadata": {
        "colab": {
          "base_uri": "https://localhost:8080/"
        },
        "id": "TQlzSZwkovPj",
        "outputId": "9334c3c6-69bf-4181-c29a-97053e42d619"
      },
      "execution_count": null,
      "outputs": [
        {
          "output_type": "execute_result",
          "data": {
            "text/plain": [
              "pyspark.sql.dataframe.DataFrame"
            ]
          },
          "metadata": {},
          "execution_count": 12
        }
      ]
    },
    {
      "cell_type": "code",
      "source": [
        "file_pyspark.printSchema()"
      ],
      "metadata": {
        "colab": {
          "base_uri": "https://localhost:8080/"
        },
        "id": "xG615h20o0Yt",
        "outputId": "c2f2e1eb-6067-4084-cd61-0e58f81433f7"
      },
      "execution_count": null,
      "outputs": [
        {
          "output_type": "stream",
          "name": "stdout",
          "text": [
            "root\n",
            " |-- Row ID: integer (nullable = true)\n",
            " |-- Order ID: string (nullable = true)\n",
            " |-- Order Date: string (nullable = true)\n",
            " |-- Ship Date: string (nullable = true)\n",
            " |-- Ship Mode: string (nullable = true)\n",
            " |-- Customer ID: string (nullable = true)\n",
            " |-- Customer Name: string (nullable = true)\n",
            " |-- Segment: string (nullable = true)\n",
            " |-- Country/Region: string (nullable = true)\n",
            " |-- City: string (nullable = true)\n",
            " |-- State: string (nullable = true)\n",
            " |-- Postal Code: integer (nullable = true)\n",
            " |-- Region: string (nullable = true)\n",
            " |-- Product ID: string (nullable = true)\n",
            " |-- Category: string (nullable = true)\n",
            " |-- Sub-Category: string (nullable = true)\n",
            " |-- Product Name: string (nullable = true)\n",
            " |-- Sales: string (nullable = true)\n",
            " |-- Quantity: string (nullable = true)\n",
            " |-- Discount: string (nullable = true)\n",
            " |-- Profit: double (nullable = true)\n",
            "\n"
          ]
        }
      ]
    },
    {
      "cell_type": "code",
      "source": [
        "file_pyspark.show(15)"
      ],
      "metadata": {
        "colab": {
          "base_uri": "https://localhost:8080/"
        },
        "id": "7E8tYo5XpG0Y",
        "outputId": "5d30bebb-a994-4065-c02d-ac2e8101dbd3"
      },
      "execution_count": null,
      "outputs": [
        {
          "output_type": "stream",
          "name": "stdout",
          "text": [
            "+------+--------------+----------+---------+--------------+-----------+---------------+-----------+--------------+---------------+--------------+-----------+-------+---------------+---------------+------------+--------------------+--------+--------+--------+--------+\n",
            "|Row ID|      Order ID|Order Date|Ship Date|     Ship Mode|Customer ID|  Customer Name|    Segment|Country/Region|           City|         State|Postal Code| Region|     Product ID|       Category|Sub-Category|        Product Name|   Sales|Quantity|Discount|  Profit|\n",
            "+------+--------------+----------+---------+--------------+-----------+---------------+-----------+--------------+---------------+--------------+-----------+-------+---------------+---------------+------------+--------------------+--------+--------+--------+--------+\n",
            "|     1|CA-2020-152156|  08-11-20| 11-11-20|  Second Class|   CG-12520|    Claire Gute|   Consumer| United States|      Henderson|      Kentucky|      42420|  South|FUR-BO-10001798|      Furniture|   Bookcases|Bush Somerset Col...|  261.96|       2|       0| 41.9136|\n",
            "|     2|CA-2020-152156|  08-11-20| 11-11-20|  Second Class|   CG-12520|    Claire Gute|   Consumer| United States|      Henderson|      Kentucky|      42420|  South|FUR-CH-10000454|      Furniture|      Chairs|Hon Deluxe Fabric...|  731.94|       3|       0| 219.582|\n",
            "|     3|CA-2020-138688|  12-06-20| 16-06-20|  Second Class|   DV-13045|Darrin Van Huff|  Corporate| United States|    Los Angeles|    California|      90036|   West|OFF-LA-10000240|Office Supplies|      Labels|Self-Adhesive Add...|   14.62|       2|       0|  6.8714|\n",
            "|     4|US-2019-108966|  11-10-19| 18-10-19|Standard Class|   SO-20335| Sean O'Donnell|   Consumer| United States|Fort Lauderdale|       Florida|      33311|  South|FUR-TA-10000577|      Furniture|      Tables|Bretford CR4500 S...|957.5775|       5|    0.45|-383.031|\n",
            "|     5|US-2019-108966|  11-10-19| 18-10-19|Standard Class|   SO-20335| Sean O'Donnell|   Consumer| United States|Fort Lauderdale|       Florida|      33311|  South|OFF-ST-10000760|Office Supplies|     Storage|Eldon Fold 'N Rol...|  22.368|       2|     0.2|  2.5164|\n",
            "|     6|CA-2018-115812|  09-06-18| 14-06-18|Standard Class|   BH-11710|Brosina Hoffman|   Consumer| United States|    Los Angeles|    California|      90032|   West|FUR-FU-10001487|      Furniture| Furnishings|Eldon Expressions...|   48.86|       7|       0| 14.1694|\n",
            "|     7|CA-2018-115812|  09-06-18| 14-06-18|Standard Class|   BH-11710|Brosina Hoffman|   Consumer| United States|    Los Angeles|    California|      90032|   West|OFF-AR-10002833|Office Supplies|         Art|          Newell 322|    7.28|       4|       0|  1.9656|\n",
            "|     8|CA-2018-115812|  09-06-18| 14-06-18|Standard Class|   BH-11710|Brosina Hoffman|   Consumer| United States|    Los Angeles|    California|      90032|   West|TEC-PH-10002275|     Technology|      Phones|Mitel 5320 IP Pho...| 907.152|       6|     0.2| 90.7152|\n",
            "|     9|CA-2018-115812|  09-06-18| 14-06-18|Standard Class|   BH-11710|Brosina Hoffman|   Consumer| United States|    Los Angeles|    California|      90032|   West|OFF-BI-10003910|Office Supplies|     Binders|DXL Angle-View Bi...|  18.504|       3|     0.2|  5.7825|\n",
            "|    10|CA-2018-115812|  09-06-18| 14-06-18|Standard Class|   BH-11710|Brosina Hoffman|   Consumer| United States|    Los Angeles|    California|      90032|   West|OFF-AP-10002892|Office Supplies|  Appliances|Belkin F5C206VTEL...|   114.9|       5|       0|   34.47|\n",
            "|    11|CA-2018-115812|  09-06-18| 14-06-18|Standard Class|   BH-11710|Brosina Hoffman|   Consumer| United States|    Los Angeles|    California|      90032|   West|FUR-TA-10001539|      Furniture|      Tables|Chromcraft Rectan...|1706.184|       9|     0.2| 85.3092|\n",
            "|    12|CA-2018-115812|  09-06-18| 14-06-18|Standard Class|   BH-11710|Brosina Hoffman|   Consumer| United States|    Los Angeles|    California|      90032|   West|TEC-PH-10002033|     Technology|      Phones|Konftel 250 Confe...| 911.424|       4|     0.2| 68.3568|\n",
            "|    13|CA-2021-114412|  15-04-21| 20-04-21|Standard Class|   AA-10480|   Andrew Allen|   Consumer| United States|        Concord|North Carolina|      28027|  South|OFF-PA-10002365|Office Supplies|       Paper|          Xerox 1967|  15.552|       3|     0.2|  5.4432|\n",
            "|    14|CA-2020-161389|  05-12-20| 10-12-20|Standard Class|   IM-15070|   Irene Maddox|   Consumer| United States|        Seattle|    Washington|      98103|   West|OFF-BI-10003656|Office Supplies|     Binders|Fellowes PB200 Pl...| 407.976|       3|     0.2|132.5922|\n",
            "|    15|US-2019-118983|  22-11-19| 26-11-19|Standard Class|   HP-14815|  Harold Pawlan|Home Office| United States|     Fort Worth|         Texas|      76106|Central|OFF-AP-10002311|Office Supplies|  Appliances|Holmes Replacemen...|   68.81|       5|     0.8|-123.858|\n",
            "+------+--------------+----------+---------+--------------+-----------+---------------+-----------+--------------+---------------+--------------+-----------+-------+---------------+---------------+------------+--------------------+--------+--------+--------+--------+\n",
            "only showing top 15 rows\n",
            "\n"
          ]
        }
      ]
    },
    {
      "cell_type": "code",
      "source": [
        "file_pyspark.describe().show(12)"
      ],
      "metadata": {
        "colab": {
          "base_uri": "https://localhost:8080/"
        },
        "id": "8AgsdqGwq_sv",
        "outputId": "93d9db7e-207c-431f-a7ce-329f061f0276"
      },
      "execution_count": null,
      "outputs": [
        {
          "output_type": "stream",
          "name": "stdout",
          "text": [
            "+-------+------------------+--------------+----------+---------+--------------+-----------+------------------+-----------+--------------+--------+-------+------------------+-------+---------------+----------+------------+--------------------+------------------+------------------+------------------+------------------+\n",
            "|summary|            Row ID|      Order ID|Order Date|Ship Date|     Ship Mode|Customer ID|     Customer Name|    Segment|Country/Region|    City|  State|       Postal Code| Region|     Product ID|  Category|Sub-Category|        Product Name|             Sales|          Quantity|          Discount|            Profit|\n",
            "+-------+------------------+--------------+----------+---------+--------------+-----------+------------------+-----------+--------------+--------+-------+------------------+-------+---------------+----------+------------+--------------------+------------------+------------------+------------------+------------------+\n",
            "|  count|              9994|          9994|      9994|     9994|          9994|       9994|              9994|       9994|          9994|    9994|   9994|              9983|   9994|           9994|      9994|        9994|                9994|              9994|              9994|              9994|              9994|\n",
            "|   mean|            4997.5|          null|      null|     null|          null|       null|              null|       null|          null|    null|   null| 55245.23329660423|   null|           null|      null|        null|                null|234.41818199917006| 5.828590535392018|0.3155949113492862|28.587912967780834|\n",
            "| stddev|2885.1636290974325|          null|      null|     null|          null|       null|              null|       null|          null|    null|   null|32038.715955498392|   null|           null|      null|        null|                null| 631.7890112674363|25.520975563736403| 3.314008629792499| 234.3891156047269|\n",
            "|    min|                 1|CA-2018-100006|  01-01-21| 01-01-19|   First Class|   AA-10315|     Aaron Bergman|   Consumer| United States|Aberdeen|Alabama|              1040|Central|FUR-BO-10000112| Furniture| Accessories|\"\"\"While you Were...|          10/Pack\"|      1040 sheets\"|           30/Box\"|         -6599.978|\n",
            "|    max|              9994|US-2021-169551|  31-12-20| 31-12-21|Standard Class|   ZD-21925|Zuschuss Donatelli|Home Office| United States|    Yuma|Wyoming|             99301|   West|TEC-PH-10004977|Technology|      Tables|netTALK DUO VoIP ...|            999.98|            98.352|            98.352|          8399.976|\n",
            "+-------+------------------+--------------+----------+---------+--------------+-----------+------------------+-----------+--------------+--------+-------+------------------+-------+---------------+----------+------------+--------------------+------------------+------------------+------------------+------------------+\n",
            "\n"
          ]
        }
      ]
    },
    {
      "cell_type": "code",
      "source": [
        "file_pyspark.select(['City','State','Region']).show(5)"
      ],
      "metadata": {
        "colab": {
          "base_uri": "https://localhost:8080/"
        },
        "id": "WwzE2OMOshPj",
        "outputId": "744bcc2a-f5c8-4a13-f8b7-d308aafcfc1e"
      },
      "execution_count": null,
      "outputs": [
        {
          "output_type": "stream",
          "name": "stdout",
          "text": [
            "+---------------+----------+------+\n",
            "|           City|     State|Region|\n",
            "+---------------+----------+------+\n",
            "|      Henderson|  Kentucky| South|\n",
            "|      Henderson|  Kentucky| South|\n",
            "|    Los Angeles|California|  West|\n",
            "|Fort Lauderdale|   Florida| South|\n",
            "|Fort Lauderdale|   Florida| South|\n",
            "+---------------+----------+------+\n",
            "only showing top 5 rows\n",
            "\n"
          ]
        }
      ]
    },
    {
      "cell_type": "code",
      "source": [
        "file_pyspark.dtypes"
      ],
      "metadata": {
        "colab": {
          "base_uri": "https://localhost:8080/"
        },
        "id": "pBpX9c97tC0g",
        "outputId": "190ae599-aa56-40dc-8107-9ed9cd62200f"
      },
      "execution_count": null,
      "outputs": [
        {
          "output_type": "execute_result",
          "data": {
            "text/plain": [
              "[('Row ID', 'int'),\n",
              " ('Order ID', 'string'),\n",
              " ('Order Date', 'string'),\n",
              " ('Ship Date', 'string'),\n",
              " ('Ship Mode', 'string'),\n",
              " ('Customer ID', 'string'),\n",
              " ('Customer Name', 'string'),\n",
              " ('Segment', 'string'),\n",
              " ('Country/Region', 'string'),\n",
              " ('City', 'string'),\n",
              " ('State', 'string'),\n",
              " ('Postal Code', 'int'),\n",
              " ('Region', 'string'),\n",
              " ('Product ID', 'string'),\n",
              " ('Category', 'string'),\n",
              " ('Sub-Category', 'string'),\n",
              " ('Product Name', 'string'),\n",
              " ('Sales', 'string'),\n",
              " ('Quantity', 'string'),\n",
              " ('Discount', 'string'),\n",
              " ('Profit', 'double')]"
            ]
          },
          "metadata": {},
          "execution_count": 17
        }
      ]
    },
    {
      "cell_type": "code",
      "source": [
        "file_pyspark.columns"
      ],
      "metadata": {
        "colab": {
          "base_uri": "https://localhost:8080/"
        },
        "id": "HYlJUtNstSk5",
        "outputId": "bab2a2bb-0676-4e09-c766-250c7331e178"
      },
      "execution_count": null,
      "outputs": [
        {
          "output_type": "execute_result",
          "data": {
            "text/plain": [
              "['Row ID',\n",
              " 'Order ID',\n",
              " 'Order Date',\n",
              " 'Ship Date',\n",
              " 'Ship Mode',\n",
              " 'Customer ID',\n",
              " 'Customer Name',\n",
              " 'Segment',\n",
              " 'Country/Region',\n",
              " 'City',\n",
              " 'State',\n",
              " 'Postal Code',\n",
              " 'Region',\n",
              " 'Product ID',\n",
              " 'Category',\n",
              " 'Sub-Category',\n",
              " 'Product Name',\n",
              " 'Sales',\n",
              " 'Quantity',\n",
              " 'Discount',\n",
              " 'Profit']"
            ]
          },
          "metadata": {},
          "execution_count": 18
        }
      ]
    },
    {
      "cell_type": "code",
      "source": [
        "file_pyspark.head(8)"
      ],
      "metadata": {
        "colab": {
          "base_uri": "https://localhost:8080/"
        },
        "id": "Kj1rW2YAtxLe",
        "outputId": "0bd25a80-e563-4827-ba2c-d3be7374bae4"
      },
      "execution_count": null,
      "outputs": [
        {
          "output_type": "execute_result",
          "data": {
            "text/plain": [
              "[Row(Row ID=1, Order ID='CA-2020-152156', Order Date='08-11-20', Ship Date='11-11-20', Ship Mode='Second Class', Customer ID='CG-12520', Customer Name='Claire Gute', Segment='Consumer', Country/Region='United States', City='Henderson', State='Kentucky', Postal Code=42420, Region='South', Product ID='FUR-BO-10001798', Category='Furniture', Sub-Category='Bookcases', Product Name='Bush Somerset Collection Bookcase', Sales='261.96', Quantity='2', Discount='0', Profit=41.9136),\n",
              " Row(Row ID=2, Order ID='CA-2020-152156', Order Date='08-11-20', Ship Date='11-11-20', Ship Mode='Second Class', Customer ID='CG-12520', Customer Name='Claire Gute', Segment='Consumer', Country/Region='United States', City='Henderson', State='Kentucky', Postal Code=42420, Region='South', Product ID='FUR-CH-10000454', Category='Furniture', Sub-Category='Chairs', Product Name='Hon Deluxe Fabric Upholstered Stacking Chairs, Rounded Back', Sales='731.94', Quantity='3', Discount='0', Profit=219.582),\n",
              " Row(Row ID=3, Order ID='CA-2020-138688', Order Date='12-06-20', Ship Date='16-06-20', Ship Mode='Second Class', Customer ID='DV-13045', Customer Name='Darrin Van Huff', Segment='Corporate', Country/Region='United States', City='Los Angeles', State='California', Postal Code=90036, Region='West', Product ID='OFF-LA-10000240', Category='Office Supplies', Sub-Category='Labels', Product Name='Self-Adhesive Address Labels for Typewriters by Universal', Sales='14.62', Quantity='2', Discount='0', Profit=6.8714),\n",
              " Row(Row ID=4, Order ID='US-2019-108966', Order Date='11-10-19', Ship Date='18-10-19', Ship Mode='Standard Class', Customer ID='SO-20335', Customer Name=\"Sean O'Donnell\", Segment='Consumer', Country/Region='United States', City='Fort Lauderdale', State='Florida', Postal Code=33311, Region='South', Product ID='FUR-TA-10000577', Category='Furniture', Sub-Category='Tables', Product Name='Bretford CR4500 Series Slim Rectangular Table', Sales='957.5775', Quantity='5', Discount='0.45', Profit=-383.031),\n",
              " Row(Row ID=5, Order ID='US-2019-108966', Order Date='11-10-19', Ship Date='18-10-19', Ship Mode='Standard Class', Customer ID='SO-20335', Customer Name=\"Sean O'Donnell\", Segment='Consumer', Country/Region='United States', City='Fort Lauderdale', State='Florida', Postal Code=33311, Region='South', Product ID='OFF-ST-10000760', Category='Office Supplies', Sub-Category='Storage', Product Name=\"Eldon Fold 'N Roll Cart System\", Sales='22.368', Quantity='2', Discount='0.2', Profit=2.5164),\n",
              " Row(Row ID=6, Order ID='CA-2018-115812', Order Date='09-06-18', Ship Date='14-06-18', Ship Mode='Standard Class', Customer ID='BH-11710', Customer Name='Brosina Hoffman', Segment='Consumer', Country/Region='United States', City='Los Angeles', State='California', Postal Code=90032, Region='West', Product ID='FUR-FU-10001487', Category='Furniture', Sub-Category='Furnishings', Product Name='Eldon Expressions Wood and Plastic Desk Accessories, Cherry Wood', Sales='48.86', Quantity='7', Discount='0', Profit=14.1694),\n",
              " Row(Row ID=7, Order ID='CA-2018-115812', Order Date='09-06-18', Ship Date='14-06-18', Ship Mode='Standard Class', Customer ID='BH-11710', Customer Name='Brosina Hoffman', Segment='Consumer', Country/Region='United States', City='Los Angeles', State='California', Postal Code=90032, Region='West', Product ID='OFF-AR-10002833', Category='Office Supplies', Sub-Category='Art', Product Name='Newell 322', Sales='7.28', Quantity='4', Discount='0', Profit=1.9656),\n",
              " Row(Row ID=8, Order ID='CA-2018-115812', Order Date='09-06-18', Ship Date='14-06-18', Ship Mode='Standard Class', Customer ID='BH-11710', Customer Name='Brosina Hoffman', Segment='Consumer', Country/Region='United States', City='Los Angeles', State='California', Postal Code=90032, Region='West', Product ID='TEC-PH-10002275', Category='Technology', Sub-Category='Phones', Product Name='Mitel 5320 IP Phone VoIP phone', Sales='907.152', Quantity='6', Discount='0.2', Profit=90.7152)]"
            ]
          },
          "metadata": {},
          "execution_count": 19
        }
      ]
    },
    {
      "cell_type": "code",
      "source": [
        "file_pyspark=file_pyspark.drop('Product ID')"
      ],
      "metadata": {
        "id": "fd1EM2_5uCxO"
      },
      "execution_count": null,
      "outputs": []
    },
    {
      "cell_type": "code",
      "source": [
        "file_pyspark.show()"
      ],
      "metadata": {
        "colab": {
          "base_uri": "https://localhost:8080/"
        },
        "id": "7Ch8gYxkunLD",
        "outputId": "5ef33817-bdac-459c-a401-10dd070e0ef1"
      },
      "execution_count": null,
      "outputs": [
        {
          "output_type": "stream",
          "name": "stdout",
          "text": [
            "+------+--------------+----------+---------+--------------+-----------+------------------+-----------+--------------+---------------+--------------+-----------+-------+---------------+------------+--------------------+--------+--------+--------+--------+\n",
            "|Row ID|      Order ID|Order Date|Ship Date|     Ship Mode|Customer ID|     Customer Name|    Segment|Country/Region|           City|         State|Postal Code| Region|       Category|Sub-Category|        Product Name|   Sales|Quantity|Discount|  Profit|\n",
            "+------+--------------+----------+---------+--------------+-----------+------------------+-----------+--------------+---------------+--------------+-----------+-------+---------------+------------+--------------------+--------+--------+--------+--------+\n",
            "|     1|CA-2020-152156|  08-11-20| 11-11-20|  Second Class|   CG-12520|       Claire Gute|   Consumer| United States|      Henderson|      Kentucky|      42420|  South|      Furniture|   Bookcases|Bush Somerset Col...|  261.96|       2|       0| 41.9136|\n",
            "|     2|CA-2020-152156|  08-11-20| 11-11-20|  Second Class|   CG-12520|       Claire Gute|   Consumer| United States|      Henderson|      Kentucky|      42420|  South|      Furniture|      Chairs|Hon Deluxe Fabric...|  731.94|       3|       0| 219.582|\n",
            "|     3|CA-2020-138688|  12-06-20| 16-06-20|  Second Class|   DV-13045|   Darrin Van Huff|  Corporate| United States|    Los Angeles|    California|      90036|   West|Office Supplies|      Labels|Self-Adhesive Add...|   14.62|       2|       0|  6.8714|\n",
            "|     4|US-2019-108966|  11-10-19| 18-10-19|Standard Class|   SO-20335|    Sean O'Donnell|   Consumer| United States|Fort Lauderdale|       Florida|      33311|  South|      Furniture|      Tables|Bretford CR4500 S...|957.5775|       5|    0.45|-383.031|\n",
            "|     5|US-2019-108966|  11-10-19| 18-10-19|Standard Class|   SO-20335|    Sean O'Donnell|   Consumer| United States|Fort Lauderdale|       Florida|      33311|  South|Office Supplies|     Storage|Eldon Fold 'N Rol...|  22.368|       2|     0.2|  2.5164|\n",
            "|     6|CA-2018-115812|  09-06-18| 14-06-18|Standard Class|   BH-11710|   Brosina Hoffman|   Consumer| United States|    Los Angeles|    California|      90032|   West|      Furniture| Furnishings|Eldon Expressions...|   48.86|       7|       0| 14.1694|\n",
            "|     7|CA-2018-115812|  09-06-18| 14-06-18|Standard Class|   BH-11710|   Brosina Hoffman|   Consumer| United States|    Los Angeles|    California|      90032|   West|Office Supplies|         Art|          Newell 322|    7.28|       4|       0|  1.9656|\n",
            "|     8|CA-2018-115812|  09-06-18| 14-06-18|Standard Class|   BH-11710|   Brosina Hoffman|   Consumer| United States|    Los Angeles|    California|      90032|   West|     Technology|      Phones|Mitel 5320 IP Pho...| 907.152|       6|     0.2| 90.7152|\n",
            "|     9|CA-2018-115812|  09-06-18| 14-06-18|Standard Class|   BH-11710|   Brosina Hoffman|   Consumer| United States|    Los Angeles|    California|      90032|   West|Office Supplies|     Binders|DXL Angle-View Bi...|  18.504|       3|     0.2|  5.7825|\n",
            "|    10|CA-2018-115812|  09-06-18| 14-06-18|Standard Class|   BH-11710|   Brosina Hoffman|   Consumer| United States|    Los Angeles|    California|      90032|   West|Office Supplies|  Appliances|Belkin F5C206VTEL...|   114.9|       5|       0|   34.47|\n",
            "|    11|CA-2018-115812|  09-06-18| 14-06-18|Standard Class|   BH-11710|   Brosina Hoffman|   Consumer| United States|    Los Angeles|    California|      90032|   West|      Furniture|      Tables|Chromcraft Rectan...|1706.184|       9|     0.2| 85.3092|\n",
            "|    12|CA-2018-115812|  09-06-18| 14-06-18|Standard Class|   BH-11710|   Brosina Hoffman|   Consumer| United States|    Los Angeles|    California|      90032|   West|     Technology|      Phones|Konftel 250 Confe...| 911.424|       4|     0.2| 68.3568|\n",
            "|    13|CA-2021-114412|  15-04-21| 20-04-21|Standard Class|   AA-10480|      Andrew Allen|   Consumer| United States|        Concord|North Carolina|      28027|  South|Office Supplies|       Paper|          Xerox 1967|  15.552|       3|     0.2|  5.4432|\n",
            "|    14|CA-2020-161389|  05-12-20| 10-12-20|Standard Class|   IM-15070|      Irene Maddox|   Consumer| United States|        Seattle|    Washington|      98103|   West|Office Supplies|     Binders|Fellowes PB200 Pl...| 407.976|       3|     0.2|132.5922|\n",
            "|    15|US-2019-118983|  22-11-19| 26-11-19|Standard Class|   HP-14815|     Harold Pawlan|Home Office| United States|     Fort Worth|         Texas|      76106|Central|Office Supplies|  Appliances|Holmes Replacemen...|   68.81|       5|     0.8|-123.858|\n",
            "|    16|US-2019-118983|  22-11-19| 26-11-19|Standard Class|   HP-14815|     Harold Pawlan|Home Office| United States|     Fort Worth|         Texas|      76106|Central|Office Supplies|     Binders|Storex DuraTech R...|   2.544|       3|     0.8|  -3.816|\n",
            "|    17|CA-2018-105893|  11-11-18| 18-11-18|Standard Class|   PK-19075|         Pete Kriz|   Consumer| United States|        Madison|     Wisconsin|      53711|Central|Office Supplies|     Storage|\"Stur-D-Stor Shel...|  665.88|       6|       0| 13.3176|\n",
            "|    18|CA-2018-167164|  13-05-18| 15-05-18|  Second Class|   AG-10270|   Alejandro Grove|   Consumer| United States|    West Jordan|          Utah|      84084|   West|Office Supplies|     Storage|Fellowes Super St...|    55.5|       2|       0|    9.99|\n",
            "|    19|CA-2018-143336|  27-08-18| 01-09-18|  Second Class|   ZD-21925|Zuschuss Donatelli|   Consumer| United States|  San Francisco|    California|      94109|   West|Office Supplies|         Art|          Newell 341|    8.56|       2|       0|  2.4824|\n",
            "|    20|CA-2018-143336|  27-08-18| 01-09-18|  Second Class|   ZD-21925|Zuschuss Donatelli|   Consumer| United States|  San Francisco|    California|      94109|   West|     Technology|      Phones|Cisco SPA 501G IP...|  213.48|       3|     0.2|  16.011|\n",
            "+------+--------------+----------+---------+--------------+-----------+------------------+-----------+--------------+---------------+--------------+-----------+-------+---------------+------------+--------------------+--------+--------+--------+--------+\n",
            "only showing top 20 rows\n",
            "\n"
          ]
        }
      ]
    },
    {
      "cell_type": "code",
      "source": [
        "file_pyspark=file_pyspark.withColumn('Profit %',file_pyspark['Profit']/file_pyspark['Sales']*100)"
      ],
      "metadata": {
        "id": "Xgg2bk0MuqCQ"
      },
      "execution_count": null,
      "outputs": []
    },
    {
      "cell_type": "code",
      "source": [
        "file_pyspark.show(5)"
      ],
      "metadata": {
        "colab": {
          "base_uri": "https://localhost:8080/"
        },
        "id": "GW6V8L0Pwenm",
        "outputId": "2c247681-802d-4197-c798-df5a993ba7c7"
      },
      "execution_count": null,
      "outputs": [
        {
          "output_type": "stream",
          "name": "stdout",
          "text": [
            "+------+--------------+----------+---------+--------------+-----------+---------------+---------+--------------+---------------+----------+-----------+------+---------------+------------+--------------------+--------+--------+--------+--------+------------------+\n",
            "|Row ID|      Order ID|Order Date|Ship Date|     Ship Mode|Customer ID|  Customer Name|  Segment|Country/Region|           City|     State|Postal Code|Region|       Category|Sub-Category|        Product Name|   Sales|Quantity|Discount|  Profit|          Profit %|\n",
            "+------+--------------+----------+---------+--------------+-----------+---------------+---------+--------------+---------------+----------+-----------+------+---------------+------------+--------------------+--------+--------+--------+--------+------------------+\n",
            "|     1|CA-2020-152156|  08-11-20| 11-11-20|  Second Class|   CG-12520|    Claire Gute| Consumer| United States|      Henderson|  Kentucky|      42420| South|      Furniture|   Bookcases|Bush Somerset Col...|  261.96|       2|       0| 41.9136|16.000000000000004|\n",
            "|     2|CA-2020-152156|  08-11-20| 11-11-20|  Second Class|   CG-12520|    Claire Gute| Consumer| United States|      Henderson|  Kentucky|      42420| South|      Furniture|      Chairs|Hon Deluxe Fabric...|  731.94|       3|       0| 219.582|              30.0|\n",
            "|     3|CA-2020-138688|  12-06-20| 16-06-20|  Second Class|   DV-13045|Darrin Van Huff|Corporate| United States|    Los Angeles|California|      90036|  West|Office Supplies|      Labels|Self-Adhesive Add...|   14.62|       2|       0|  6.8714|              47.0|\n",
            "|     4|US-2019-108966|  11-10-19| 18-10-19|Standard Class|   SO-20335| Sean O'Donnell| Consumer| United States|Fort Lauderdale|   Florida|      33311| South|      Furniture|      Tables|Bretford CR4500 S...|957.5775|       5|    0.45|-383.031|             -40.0|\n",
            "|     5|US-2019-108966|  11-10-19| 18-10-19|Standard Class|   SO-20335| Sean O'Donnell| Consumer| United States|Fort Lauderdale|   Florida|      33311| South|Office Supplies|     Storage|Eldon Fold 'N Rol...|  22.368|       2|     0.2|  2.5164|             11.25|\n",
            "+------+--------------+----------+---------+--------------+-----------+---------------+---------+--------------+---------------+----------+-----------+------+---------------+------------+--------------------+--------+--------+--------+--------+------------------+\n",
            "only showing top 5 rows\n",
            "\n"
          ]
        }
      ]
    },
    {
      "cell_type": "code",
      "source": [
        "file_pyspark.withColumnRenamed('Sales','Deal').show(3)\n",
        "\n"
      ],
      "metadata": {
        "colab": {
          "base_uri": "https://localhost:8080/"
        },
        "id": "_oIxcv1Dz2gd",
        "outputId": "e05e7d6f-2fb5-4eda-dace-3a6becfe69e5"
      },
      "execution_count": null,
      "outputs": [
        {
          "output_type": "stream",
          "name": "stdout",
          "text": [
            "+------+--------------+----------+---------+------------+-----------+---------------+---------+--------------+-----------+----------+-----------+------+---------------+------------+--------------------+------+--------+--------+-------+------------------+\n",
            "|Row ID|      Order ID|Order Date|Ship Date|   Ship Mode|Customer ID|  Customer Name|  Segment|Country/Region|       City|     State|Postal Code|Region|       Category|Sub-Category|        Product Name|  Deal|Quantity|Discount| Profit|          Profit %|\n",
            "+------+--------------+----------+---------+------------+-----------+---------------+---------+--------------+-----------+----------+-----------+------+---------------+------------+--------------------+------+--------+--------+-------+------------------+\n",
            "|     1|CA-2020-152156|  08-11-20| 11-11-20|Second Class|   CG-12520|    Claire Gute| Consumer| United States|  Henderson|  Kentucky|      42420| South|      Furniture|   Bookcases|Bush Somerset Col...|261.96|       2|       0|41.9136|16.000000000000004|\n",
            "|     2|CA-2020-152156|  08-11-20| 11-11-20|Second Class|   CG-12520|    Claire Gute| Consumer| United States|  Henderson|  Kentucky|      42420| South|      Furniture|      Chairs|Hon Deluxe Fabric...|731.94|       3|       0|219.582|              30.0|\n",
            "|     3|CA-2020-138688|  12-06-20| 16-06-20|Second Class|   DV-13045|Darrin Van Huff|Corporate| United States|Los Angeles|California|      90036|  West|Office Supplies|      Labels|Self-Adhesive Add...| 14.62|       2|       0| 6.8714|              47.0|\n",
            "+------+--------------+----------+---------+------------+-----------+---------------+---------+--------------+-----------+----------+-----------+------+---------------+------------+--------------------+------+--------+--------+-------+------------------+\n",
            "only showing top 3 rows\n",
            "\n"
          ]
        }
      ]
    },
    {
      "cell_type": "code",
      "source": [
        "file1=file_pyspark.na.drop().show(8)"
      ],
      "metadata": {
        "colab": {
          "base_uri": "https://localhost:8080/"
        },
        "id": "tKIntwJR0d-U",
        "outputId": "0b39fb23-3bb2-401d-bf38-5a4fcc34bb8c"
      },
      "execution_count": null,
      "outputs": [
        {
          "output_type": "stream",
          "name": "stdout",
          "text": [
            "+------+--------------+----------+---------+--------------+-----------+---------------+---------+--------------+---------------+----------+-----------+------+---------------+------------+--------------------+--------+--------+--------+--------+------------------+\n",
            "|Row ID|      Order ID|Order Date|Ship Date|     Ship Mode|Customer ID|  Customer Name|  Segment|Country/Region|           City|     State|Postal Code|Region|       Category|Sub-Category|        Product Name|   Sales|Quantity|Discount|  Profit|          Profit %|\n",
            "+------+--------------+----------+---------+--------------+-----------+---------------+---------+--------------+---------------+----------+-----------+------+---------------+------------+--------------------+--------+--------+--------+--------+------------------+\n",
            "|     1|CA-2020-152156|  08-11-20| 11-11-20|  Second Class|   CG-12520|    Claire Gute| Consumer| United States|      Henderson|  Kentucky|      42420| South|      Furniture|   Bookcases|Bush Somerset Col...|  261.96|       2|       0| 41.9136|16.000000000000004|\n",
            "|     2|CA-2020-152156|  08-11-20| 11-11-20|  Second Class|   CG-12520|    Claire Gute| Consumer| United States|      Henderson|  Kentucky|      42420| South|      Furniture|      Chairs|Hon Deluxe Fabric...|  731.94|       3|       0| 219.582|              30.0|\n",
            "|     3|CA-2020-138688|  12-06-20| 16-06-20|  Second Class|   DV-13045|Darrin Van Huff|Corporate| United States|    Los Angeles|California|      90036|  West|Office Supplies|      Labels|Self-Adhesive Add...|   14.62|       2|       0|  6.8714|              47.0|\n",
            "|     4|US-2019-108966|  11-10-19| 18-10-19|Standard Class|   SO-20335| Sean O'Donnell| Consumer| United States|Fort Lauderdale|   Florida|      33311| South|      Furniture|      Tables|Bretford CR4500 S...|957.5775|       5|    0.45|-383.031|             -40.0|\n",
            "|     5|US-2019-108966|  11-10-19| 18-10-19|Standard Class|   SO-20335| Sean O'Donnell| Consumer| United States|Fort Lauderdale|   Florida|      33311| South|Office Supplies|     Storage|Eldon Fold 'N Rol...|  22.368|       2|     0.2|  2.5164|             11.25|\n",
            "|     6|CA-2018-115812|  09-06-18| 14-06-18|Standard Class|   BH-11710|Brosina Hoffman| Consumer| United States|    Los Angeles|California|      90032|  West|      Furniture| Furnishings|Eldon Expressions...|   48.86|       7|       0| 14.1694|28.999999999999996|\n",
            "|     7|CA-2018-115812|  09-06-18| 14-06-18|Standard Class|   BH-11710|Brosina Hoffman| Consumer| United States|    Los Angeles|California|      90032|  West|Office Supplies|         Art|          Newell 322|    7.28|       4|       0|  1.9656|              27.0|\n",
            "|     8|CA-2018-115812|  09-06-18| 14-06-18|Standard Class|   BH-11710|Brosina Hoffman| Consumer| United States|    Los Angeles|California|      90032|  West|     Technology|      Phones|Mitel 5320 IP Pho...| 907.152|       6|     0.2| 90.7152|              10.0|\n",
            "+------+--------------+----------+---------+--------------+-----------+---------------+---------+--------------+---------------+----------+-----------+------+---------------+------------+--------------------+--------+--------+--------+--------+------------------+\n",
            "only showing top 8 rows\n",
            "\n"
          ]
        }
      ]
    },
    {
      "cell_type": "code",
      "source": [
        "file2=file_pyspark.na.drop(how=\"all\").show()"
      ],
      "metadata": {
        "colab": {
          "base_uri": "https://localhost:8080/"
        },
        "id": "UvbmBPvt1TMW",
        "outputId": "10613953-c2f9-4397-e034-479b7e5dd4bf"
      },
      "execution_count": null,
      "outputs": [
        {
          "output_type": "stream",
          "name": "stdout",
          "text": [
            "+------+--------------+----------+---------+--------------+-----------+------------------+-----------+--------------+---------------+--------------+-----------+-------+---------------+------------+--------------------+--------+--------+--------+--------+------------------+\n",
            "|Row ID|      Order ID|Order Date|Ship Date|     Ship Mode|Customer ID|     Customer Name|    Segment|Country/Region|           City|         State|Postal Code| Region|       Category|Sub-Category|        Product Name|   Sales|Quantity|Discount|  Profit|          Profit %|\n",
            "+------+--------------+----------+---------+--------------+-----------+------------------+-----------+--------------+---------------+--------------+-----------+-------+---------------+------------+--------------------+--------+--------+--------+--------+------------------+\n",
            "|     1|CA-2020-152156|  08-11-20| 11-11-20|  Second Class|   CG-12520|       Claire Gute|   Consumer| United States|      Henderson|      Kentucky|      42420|  South|      Furniture|   Bookcases|Bush Somerset Col...|  261.96|       2|       0| 41.9136|16.000000000000004|\n",
            "|     2|CA-2020-152156|  08-11-20| 11-11-20|  Second Class|   CG-12520|       Claire Gute|   Consumer| United States|      Henderson|      Kentucky|      42420|  South|      Furniture|      Chairs|Hon Deluxe Fabric...|  731.94|       3|       0| 219.582|              30.0|\n",
            "|     3|CA-2020-138688|  12-06-20| 16-06-20|  Second Class|   DV-13045|   Darrin Van Huff|  Corporate| United States|    Los Angeles|    California|      90036|   West|Office Supplies|      Labels|Self-Adhesive Add...|   14.62|       2|       0|  6.8714|              47.0|\n",
            "|     4|US-2019-108966|  11-10-19| 18-10-19|Standard Class|   SO-20335|    Sean O'Donnell|   Consumer| United States|Fort Lauderdale|       Florida|      33311|  South|      Furniture|      Tables|Bretford CR4500 S...|957.5775|       5|    0.45|-383.031|             -40.0|\n",
            "|     5|US-2019-108966|  11-10-19| 18-10-19|Standard Class|   SO-20335|    Sean O'Donnell|   Consumer| United States|Fort Lauderdale|       Florida|      33311|  South|Office Supplies|     Storage|Eldon Fold 'N Rol...|  22.368|       2|     0.2|  2.5164|             11.25|\n",
            "|     6|CA-2018-115812|  09-06-18| 14-06-18|Standard Class|   BH-11710|   Brosina Hoffman|   Consumer| United States|    Los Angeles|    California|      90032|   West|      Furniture| Furnishings|Eldon Expressions...|   48.86|       7|       0| 14.1694|28.999999999999996|\n",
            "|     7|CA-2018-115812|  09-06-18| 14-06-18|Standard Class|   BH-11710|   Brosina Hoffman|   Consumer| United States|    Los Angeles|    California|      90032|   West|Office Supplies|         Art|          Newell 322|    7.28|       4|       0|  1.9656|              27.0|\n",
            "|     8|CA-2018-115812|  09-06-18| 14-06-18|Standard Class|   BH-11710|   Brosina Hoffman|   Consumer| United States|    Los Angeles|    California|      90032|   West|     Technology|      Phones|Mitel 5320 IP Pho...| 907.152|       6|     0.2| 90.7152|              10.0|\n",
            "|     9|CA-2018-115812|  09-06-18| 14-06-18|Standard Class|   BH-11710|   Brosina Hoffman|   Consumer| United States|    Los Angeles|    California|      90032|   West|Office Supplies|     Binders|DXL Angle-View Bi...|  18.504|       3|     0.2|  5.7825|31.249999999999993|\n",
            "|    10|CA-2018-115812|  09-06-18| 14-06-18|Standard Class|   BH-11710|   Brosina Hoffman|   Consumer| United States|    Los Angeles|    California|      90032|   West|Office Supplies|  Appliances|Belkin F5C206VTEL...|   114.9|       5|       0|   34.47|              30.0|\n",
            "|    11|CA-2018-115812|  09-06-18| 14-06-18|Standard Class|   BH-11710|   Brosina Hoffman|   Consumer| United States|    Los Angeles|    California|      90032|   West|      Furniture|      Tables|Chromcraft Rectan...|1706.184|       9|     0.2| 85.3092|               5.0|\n",
            "|    12|CA-2018-115812|  09-06-18| 14-06-18|Standard Class|   BH-11710|   Brosina Hoffman|   Consumer| United States|    Los Angeles|    California|      90032|   West|     Technology|      Phones|Konftel 250 Confe...| 911.424|       4|     0.2| 68.3568| 7.500000000000001|\n",
            "|    13|CA-2021-114412|  15-04-21| 20-04-21|Standard Class|   AA-10480|      Andrew Allen|   Consumer| United States|        Concord|North Carolina|      28027|  South|Office Supplies|       Paper|          Xerox 1967|  15.552|       3|     0.2|  5.4432|              35.0|\n",
            "|    14|CA-2020-161389|  05-12-20| 10-12-20|Standard Class|   IM-15070|      Irene Maddox|   Consumer| United States|        Seattle|    Washington|      98103|   West|Office Supplies|     Binders|Fellowes PB200 Pl...| 407.976|       3|     0.2|132.5922| 32.49999999999999|\n",
            "|    15|US-2019-118983|  22-11-19| 26-11-19|Standard Class|   HP-14815|     Harold Pawlan|Home Office| United States|     Fort Worth|         Texas|      76106|Central|Office Supplies|  Appliances|Holmes Replacemen...|   68.81|       5|     0.8|-123.858|            -180.0|\n",
            "|    16|US-2019-118983|  22-11-19| 26-11-19|Standard Class|   HP-14815|     Harold Pawlan|Home Office| United States|     Fort Worth|         Texas|      76106|Central|Office Supplies|     Binders|Storex DuraTech R...|   2.544|       3|     0.8|  -3.816|            -150.0|\n",
            "|    17|CA-2018-105893|  11-11-18| 18-11-18|Standard Class|   PK-19075|         Pete Kriz|   Consumer| United States|        Madison|     Wisconsin|      53711|Central|Office Supplies|     Storage|\"Stur-D-Stor Shel...|  665.88|       6|       0| 13.3176|               2.0|\n",
            "|    18|CA-2018-167164|  13-05-18| 15-05-18|  Second Class|   AG-10270|   Alejandro Grove|   Consumer| United States|    West Jordan|          Utah|      84084|   West|Office Supplies|     Storage|Fellowes Super St...|    55.5|       2|       0|    9.99|              18.0|\n",
            "|    19|CA-2018-143336|  27-08-18| 01-09-18|  Second Class|   ZD-21925|Zuschuss Donatelli|   Consumer| United States|  San Francisco|    California|      94109|   West|Office Supplies|         Art|          Newell 341|    8.56|       2|       0|  2.4824|28.999999999999996|\n",
            "|    20|CA-2018-143336|  27-08-18| 01-09-18|  Second Class|   ZD-21925|Zuschuss Donatelli|   Consumer| United States|  San Francisco|    California|      94109|   West|     Technology|      Phones|Cisco SPA 501G IP...|  213.48|       3|     0.2|  16.011|               7.5|\n",
            "+------+--------------+----------+---------+--------------+-----------+------------------+-----------+--------------+---------------+--------------+-----------+-------+---------------+------------+--------------------+--------+--------+--------+--------+------------------+\n",
            "only showing top 20 rows\n",
            "\n"
          ]
        }
      ]
    },
    {
      "cell_type": "code",
      "source": [
        "file3=file_pyspark.na.drop(how=\"any\",thresh=7).show()"
      ],
      "metadata": {
        "colab": {
          "base_uri": "https://localhost:8080/"
        },
        "id": "JW7sLQUR14YB",
        "outputId": "46cdbab9-a305-4b54-b93c-d4c9c0e4ad47"
      },
      "execution_count": null,
      "outputs": [
        {
          "output_type": "stream",
          "name": "stdout",
          "text": [
            "+------+--------------+----------+---------+--------------+-----------+------------------+-----------+--------------+---------------+--------------+-----------+-------+---------------+------------+--------------------+--------+--------+--------+--------+------------------+\n",
            "|Row ID|      Order ID|Order Date|Ship Date|     Ship Mode|Customer ID|     Customer Name|    Segment|Country/Region|           City|         State|Postal Code| Region|       Category|Sub-Category|        Product Name|   Sales|Quantity|Discount|  Profit|          Profit %|\n",
            "+------+--------------+----------+---------+--------------+-----------+------------------+-----------+--------------+---------------+--------------+-----------+-------+---------------+------------+--------------------+--------+--------+--------+--------+------------------+\n",
            "|     1|CA-2020-152156|  08-11-20| 11-11-20|  Second Class|   CG-12520|       Claire Gute|   Consumer| United States|      Henderson|      Kentucky|      42420|  South|      Furniture|   Bookcases|Bush Somerset Col...|  261.96|       2|       0| 41.9136|16.000000000000004|\n",
            "|     2|CA-2020-152156|  08-11-20| 11-11-20|  Second Class|   CG-12520|       Claire Gute|   Consumer| United States|      Henderson|      Kentucky|      42420|  South|      Furniture|      Chairs|Hon Deluxe Fabric...|  731.94|       3|       0| 219.582|              30.0|\n",
            "|     3|CA-2020-138688|  12-06-20| 16-06-20|  Second Class|   DV-13045|   Darrin Van Huff|  Corporate| United States|    Los Angeles|    California|      90036|   West|Office Supplies|      Labels|Self-Adhesive Add...|   14.62|       2|       0|  6.8714|              47.0|\n",
            "|     4|US-2019-108966|  11-10-19| 18-10-19|Standard Class|   SO-20335|    Sean O'Donnell|   Consumer| United States|Fort Lauderdale|       Florida|      33311|  South|      Furniture|      Tables|Bretford CR4500 S...|957.5775|       5|    0.45|-383.031|             -40.0|\n",
            "|     5|US-2019-108966|  11-10-19| 18-10-19|Standard Class|   SO-20335|    Sean O'Donnell|   Consumer| United States|Fort Lauderdale|       Florida|      33311|  South|Office Supplies|     Storage|Eldon Fold 'N Rol...|  22.368|       2|     0.2|  2.5164|             11.25|\n",
            "|     6|CA-2018-115812|  09-06-18| 14-06-18|Standard Class|   BH-11710|   Brosina Hoffman|   Consumer| United States|    Los Angeles|    California|      90032|   West|      Furniture| Furnishings|Eldon Expressions...|   48.86|       7|       0| 14.1694|28.999999999999996|\n",
            "|     7|CA-2018-115812|  09-06-18| 14-06-18|Standard Class|   BH-11710|   Brosina Hoffman|   Consumer| United States|    Los Angeles|    California|      90032|   West|Office Supplies|         Art|          Newell 322|    7.28|       4|       0|  1.9656|              27.0|\n",
            "|     8|CA-2018-115812|  09-06-18| 14-06-18|Standard Class|   BH-11710|   Brosina Hoffman|   Consumer| United States|    Los Angeles|    California|      90032|   West|     Technology|      Phones|Mitel 5320 IP Pho...| 907.152|       6|     0.2| 90.7152|              10.0|\n",
            "|     9|CA-2018-115812|  09-06-18| 14-06-18|Standard Class|   BH-11710|   Brosina Hoffman|   Consumer| United States|    Los Angeles|    California|      90032|   West|Office Supplies|     Binders|DXL Angle-View Bi...|  18.504|       3|     0.2|  5.7825|31.249999999999993|\n",
            "|    10|CA-2018-115812|  09-06-18| 14-06-18|Standard Class|   BH-11710|   Brosina Hoffman|   Consumer| United States|    Los Angeles|    California|      90032|   West|Office Supplies|  Appliances|Belkin F5C206VTEL...|   114.9|       5|       0|   34.47|              30.0|\n",
            "|    11|CA-2018-115812|  09-06-18| 14-06-18|Standard Class|   BH-11710|   Brosina Hoffman|   Consumer| United States|    Los Angeles|    California|      90032|   West|      Furniture|      Tables|Chromcraft Rectan...|1706.184|       9|     0.2| 85.3092|               5.0|\n",
            "|    12|CA-2018-115812|  09-06-18| 14-06-18|Standard Class|   BH-11710|   Brosina Hoffman|   Consumer| United States|    Los Angeles|    California|      90032|   West|     Technology|      Phones|Konftel 250 Confe...| 911.424|       4|     0.2| 68.3568| 7.500000000000001|\n",
            "|    13|CA-2021-114412|  15-04-21| 20-04-21|Standard Class|   AA-10480|      Andrew Allen|   Consumer| United States|        Concord|North Carolina|      28027|  South|Office Supplies|       Paper|          Xerox 1967|  15.552|       3|     0.2|  5.4432|              35.0|\n",
            "|    14|CA-2020-161389|  05-12-20| 10-12-20|Standard Class|   IM-15070|      Irene Maddox|   Consumer| United States|        Seattle|    Washington|      98103|   West|Office Supplies|     Binders|Fellowes PB200 Pl...| 407.976|       3|     0.2|132.5922| 32.49999999999999|\n",
            "|    15|US-2019-118983|  22-11-19| 26-11-19|Standard Class|   HP-14815|     Harold Pawlan|Home Office| United States|     Fort Worth|         Texas|      76106|Central|Office Supplies|  Appliances|Holmes Replacemen...|   68.81|       5|     0.8|-123.858|            -180.0|\n",
            "|    16|US-2019-118983|  22-11-19| 26-11-19|Standard Class|   HP-14815|     Harold Pawlan|Home Office| United States|     Fort Worth|         Texas|      76106|Central|Office Supplies|     Binders|Storex DuraTech R...|   2.544|       3|     0.8|  -3.816|            -150.0|\n",
            "|    17|CA-2018-105893|  11-11-18| 18-11-18|Standard Class|   PK-19075|         Pete Kriz|   Consumer| United States|        Madison|     Wisconsin|      53711|Central|Office Supplies|     Storage|\"Stur-D-Stor Shel...|  665.88|       6|       0| 13.3176|               2.0|\n",
            "|    18|CA-2018-167164|  13-05-18| 15-05-18|  Second Class|   AG-10270|   Alejandro Grove|   Consumer| United States|    West Jordan|          Utah|      84084|   West|Office Supplies|     Storage|Fellowes Super St...|    55.5|       2|       0|    9.99|              18.0|\n",
            "|    19|CA-2018-143336|  27-08-18| 01-09-18|  Second Class|   ZD-21925|Zuschuss Donatelli|   Consumer| United States|  San Francisco|    California|      94109|   West|Office Supplies|         Art|          Newell 341|    8.56|       2|       0|  2.4824|28.999999999999996|\n",
            "|    20|CA-2018-143336|  27-08-18| 01-09-18|  Second Class|   ZD-21925|Zuschuss Donatelli|   Consumer| United States|  San Francisco|    California|      94109|   West|     Technology|      Phones|Cisco SPA 501G IP...|  213.48|       3|     0.2|  16.011|               7.5|\n",
            "+------+--------------+----------+---------+--------------+-----------+------------------+-----------+--------------+---------------+--------------+-----------+-------+---------------+------------+--------------------+--------+--------+--------+--------+------------------+\n",
            "only showing top 20 rows\n",
            "\n"
          ]
        }
      ]
    },
    {
      "cell_type": "code",
      "source": [
        "file4=file_pyspark.na.fill('Missing Values',['Order ID','Ship Mode']).show()"
      ],
      "metadata": {
        "colab": {
          "base_uri": "https://localhost:8080/"
        },
        "id": "tY02MXId2NVn",
        "outputId": "40ab0b59-ecf3-4c0a-aec1-f2e0eb4b6d1f"
      },
      "execution_count": null,
      "outputs": [
        {
          "output_type": "stream",
          "name": "stdout",
          "text": [
            "+------+--------------+----------+---------+--------------+-----------+------------------+-----------+--------------+---------------+--------------+-----------+-------+---------------+------------+--------------------+--------+--------+--------+--------+------------------+\n",
            "|Row ID|      Order ID|Order Date|Ship Date|     Ship Mode|Customer ID|     Customer Name|    Segment|Country/Region|           City|         State|Postal Code| Region|       Category|Sub-Category|        Product Name|   Sales|Quantity|Discount|  Profit|          Profit %|\n",
            "+------+--------------+----------+---------+--------------+-----------+------------------+-----------+--------------+---------------+--------------+-----------+-------+---------------+------------+--------------------+--------+--------+--------+--------+------------------+\n",
            "|     1|CA-2020-152156|  08-11-20| 11-11-20|  Second Class|   CG-12520|       Claire Gute|   Consumer| United States|      Henderson|      Kentucky|      42420|  South|      Furniture|   Bookcases|Bush Somerset Col...|  261.96|       2|       0| 41.9136|16.000000000000004|\n",
            "|     2|CA-2020-152156|  08-11-20| 11-11-20|  Second Class|   CG-12520|       Claire Gute|   Consumer| United States|      Henderson|      Kentucky|      42420|  South|      Furniture|      Chairs|Hon Deluxe Fabric...|  731.94|       3|       0| 219.582|              30.0|\n",
            "|     3|CA-2020-138688|  12-06-20| 16-06-20|  Second Class|   DV-13045|   Darrin Van Huff|  Corporate| United States|    Los Angeles|    California|      90036|   West|Office Supplies|      Labels|Self-Adhesive Add...|   14.62|       2|       0|  6.8714|              47.0|\n",
            "|     4|US-2019-108966|  11-10-19| 18-10-19|Standard Class|   SO-20335|    Sean O'Donnell|   Consumer| United States|Fort Lauderdale|       Florida|      33311|  South|      Furniture|      Tables|Bretford CR4500 S...|957.5775|       5|    0.45|-383.031|             -40.0|\n",
            "|     5|US-2019-108966|  11-10-19| 18-10-19|Standard Class|   SO-20335|    Sean O'Donnell|   Consumer| United States|Fort Lauderdale|       Florida|      33311|  South|Office Supplies|     Storage|Eldon Fold 'N Rol...|  22.368|       2|     0.2|  2.5164|             11.25|\n",
            "|     6|CA-2018-115812|  09-06-18| 14-06-18|Standard Class|   BH-11710|   Brosina Hoffman|   Consumer| United States|    Los Angeles|    California|      90032|   West|      Furniture| Furnishings|Eldon Expressions...|   48.86|       7|       0| 14.1694|28.999999999999996|\n",
            "|     7|CA-2018-115812|  09-06-18| 14-06-18|Standard Class|   BH-11710|   Brosina Hoffman|   Consumer| United States|    Los Angeles|    California|      90032|   West|Office Supplies|         Art|          Newell 322|    7.28|       4|       0|  1.9656|              27.0|\n",
            "|     8|CA-2018-115812|  09-06-18| 14-06-18|Standard Class|   BH-11710|   Brosina Hoffman|   Consumer| United States|    Los Angeles|    California|      90032|   West|     Technology|      Phones|Mitel 5320 IP Pho...| 907.152|       6|     0.2| 90.7152|              10.0|\n",
            "|     9|CA-2018-115812|  09-06-18| 14-06-18|Standard Class|   BH-11710|   Brosina Hoffman|   Consumer| United States|    Los Angeles|    California|      90032|   West|Office Supplies|     Binders|DXL Angle-View Bi...|  18.504|       3|     0.2|  5.7825|31.249999999999993|\n",
            "|    10|CA-2018-115812|  09-06-18| 14-06-18|Standard Class|   BH-11710|   Brosina Hoffman|   Consumer| United States|    Los Angeles|    California|      90032|   West|Office Supplies|  Appliances|Belkin F5C206VTEL...|   114.9|       5|       0|   34.47|              30.0|\n",
            "|    11|CA-2018-115812|  09-06-18| 14-06-18|Standard Class|   BH-11710|   Brosina Hoffman|   Consumer| United States|    Los Angeles|    California|      90032|   West|      Furniture|      Tables|Chromcraft Rectan...|1706.184|       9|     0.2| 85.3092|               5.0|\n",
            "|    12|CA-2018-115812|  09-06-18| 14-06-18|Standard Class|   BH-11710|   Brosina Hoffman|   Consumer| United States|    Los Angeles|    California|      90032|   West|     Technology|      Phones|Konftel 250 Confe...| 911.424|       4|     0.2| 68.3568| 7.500000000000001|\n",
            "|    13|CA-2021-114412|  15-04-21| 20-04-21|Standard Class|   AA-10480|      Andrew Allen|   Consumer| United States|        Concord|North Carolina|      28027|  South|Office Supplies|       Paper|          Xerox 1967|  15.552|       3|     0.2|  5.4432|              35.0|\n",
            "|    14|CA-2020-161389|  05-12-20| 10-12-20|Standard Class|   IM-15070|      Irene Maddox|   Consumer| United States|        Seattle|    Washington|      98103|   West|Office Supplies|     Binders|Fellowes PB200 Pl...| 407.976|       3|     0.2|132.5922| 32.49999999999999|\n",
            "|    15|US-2019-118983|  22-11-19| 26-11-19|Standard Class|   HP-14815|     Harold Pawlan|Home Office| United States|     Fort Worth|         Texas|      76106|Central|Office Supplies|  Appliances|Holmes Replacemen...|   68.81|       5|     0.8|-123.858|            -180.0|\n",
            "|    16|US-2019-118983|  22-11-19| 26-11-19|Standard Class|   HP-14815|     Harold Pawlan|Home Office| United States|     Fort Worth|         Texas|      76106|Central|Office Supplies|     Binders|Storex DuraTech R...|   2.544|       3|     0.8|  -3.816|            -150.0|\n",
            "|    17|CA-2018-105893|  11-11-18| 18-11-18|Standard Class|   PK-19075|         Pete Kriz|   Consumer| United States|        Madison|     Wisconsin|      53711|Central|Office Supplies|     Storage|\"Stur-D-Stor Shel...|  665.88|       6|       0| 13.3176|               2.0|\n",
            "|    18|CA-2018-167164|  13-05-18| 15-05-18|  Second Class|   AG-10270|   Alejandro Grove|   Consumer| United States|    West Jordan|          Utah|      84084|   West|Office Supplies|     Storage|Fellowes Super St...|    55.5|       2|       0|    9.99|              18.0|\n",
            "|    19|CA-2018-143336|  27-08-18| 01-09-18|  Second Class|   ZD-21925|Zuschuss Donatelli|   Consumer| United States|  San Francisco|    California|      94109|   West|Office Supplies|         Art|          Newell 341|    8.56|       2|       0|  2.4824|28.999999999999996|\n",
            "|    20|CA-2018-143336|  27-08-18| 01-09-18|  Second Class|   ZD-21925|Zuschuss Donatelli|   Consumer| United States|  San Francisco|    California|      94109|   West|     Technology|      Phones|Cisco SPA 501G IP...|  213.48|       3|     0.2|  16.011|               7.5|\n",
            "+------+--------------+----------+---------+--------------+-----------+------------------+-----------+--------------+---------------+--------------+-----------+-------+---------------+------------+--------------------+--------+--------+--------+--------+------------------+\n",
            "only showing top 20 rows\n",
            "\n"
          ]
        }
      ]
    },
    {
      "cell_type": "code",
      "source": [
        "file_pyspark=spark.read.csv('/content/drive/MyDrive/0.MKCE/19.Spark/Sample - Superstore.csv',header=True,inferSchema=True)"
      ],
      "metadata": {
        "id": "Yl9sfPdL2g36"
      },
      "execution_count": null,
      "outputs": []
    },
    {
      "cell_type": "code",
      "source": [
        "from pyspark.ml.feature import Imputer\n",
        "\n",
        "imputer = Imputer(\n",
        "    inputCols=['Quantity'], \n",
        "    outputCols=[\"{}_imputed\".format(c) for c in ['Quantity']]\n",
        "    ).setStrategy(\"median\")"
      ],
      "metadata": {
        "id": "0j6G04Mg22nH"
      },
      "execution_count": null,
      "outputs": []
    },
    {
      "cell_type": "code",
      "source": [
        ""
      ],
      "metadata": {
        "id": "mIctYUbf3UAL"
      },
      "execution_count": null,
      "outputs": []
    }
  ]
}