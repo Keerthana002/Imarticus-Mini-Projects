{
  "nbformat": 4,
  "nbformat_minor": 0,
  "metadata": {
    "colab": {
      "name": "using all methods.csv.ipynb",
      "provenance": [],
      "collapsed_sections": []
    },
    "kernelspec": {
      "name": "python3",
      "display_name": "Python 3"
    },
    "language_info": {
      "name": "python"
    }
  },
  "cells": [
    {
      "cell_type": "markdown",
      "source": [
        "                             USING ALL ML METHODS"
      ],
      "metadata": {
        "id": "S1zRtim0k3qP"
      }
    },
    {
      "cell_type": "code",
      "source": [
        "from google.colab import drive\n",
        "drive.mount('/content/drive/')"
      ],
      "metadata": {
        "colab": {
          "base_uri": "https://localhost:8080/"
        },
        "id": "K8zTfT_ZOMjj",
        "outputId": "c4e312e7-7664-4fd4-f148-347e8c0d0b7f"
      },
      "execution_count": null,
      "outputs": [
        {
          "output_type": "stream",
          "name": "stdout",
          "text": [
            "Drive already mounted at /content/drive/; to attempt to forcibly remount, call drive.mount(\"/content/drive/\", force_remount=True).\n"
          ]
        }
      ]
    },
    {
      "cell_type": "code",
      "source": [
        "import numpy as np\n",
        "import pandas as pd\n",
        "import matplotlib.pyplot as plt\n",
        "import seaborn as sns"
      ],
      "metadata": {
        "id": "In6WM1sAOwk-"
      },
      "execution_count": null,
      "outputs": []
    },
    {
      "cell_type": "code",
      "source": [
        "file=pd.read_csv('/content/drive/MyDrive/0.MKCE/Datasets/Raisin_Dataset.csv')"
      ],
      "metadata": {
        "id": "iHCtE1kyOSKN"
      },
      "execution_count": null,
      "outputs": []
    },
    {
      "cell_type": "code",
      "source": [
        "file.info()"
      ],
      "metadata": {
        "colab": {
          "base_uri": "https://localhost:8080/"
        },
        "id": "nq6zIHDqOu9P",
        "outputId": "b4efa248-47aa-48e5-e140-1d6547e542a3"
      },
      "execution_count": null,
      "outputs": [
        {
          "output_type": "stream",
          "name": "stdout",
          "text": [
            "<class 'pandas.core.frame.DataFrame'>\n",
            "RangeIndex: 900 entries, 0 to 899\n",
            "Data columns (total 8 columns):\n",
            " #   Column           Non-Null Count  Dtype  \n",
            "---  ------           --------------  -----  \n",
            " 0   Area             900 non-null    int64  \n",
            " 1   MajorAxisLength  900 non-null    float64\n",
            " 2   MinorAxisLength  900 non-null    float64\n",
            " 3   Eccentricity     900 non-null    float64\n",
            " 4   ConvexArea       900 non-null    int64  \n",
            " 5   Extent           900 non-null    float64\n",
            " 6   Perimeter        900 non-null    float64\n",
            " 7   Class            900 non-null    int64  \n",
            "dtypes: float64(5), int64(3)\n",
            "memory usage: 56.4 KB\n"
          ]
        }
      ]
    },
    {
      "cell_type": "code",
      "source": [
        "files=pd.DataFrame(file)\n",
        "files"
      ],
      "metadata": {
        "colab": {
          "base_uri": "https://localhost:8080/",
          "height": 423
        },
        "id": "RlU1_kqvQITc",
        "outputId": "e5653be1-8836-4aba-b4be-bc19222ef89e"
      },
      "execution_count": null,
      "outputs": [
        {
          "output_type": "execute_result",
          "data": {
            "text/plain": [
              "      Area  MajorAxisLength  MinorAxisLength  Eccentricity  ConvexArea  \\\n",
              "0    87524       442.246011       253.291155      0.819738       90546   \n",
              "1    75166       406.690687       243.032436      0.801805       78789   \n",
              "2    90856       442.267048       266.328318      0.798354       93717   \n",
              "3    45928       286.540559       208.760042      0.684989       47336   \n",
              "4    79408       352.190770       290.827533      0.564011       81463   \n",
              "..     ...              ...              ...           ...         ...   \n",
              "895  83248       430.077308       247.838695      0.817263       85839   \n",
              "896  87350       440.735698       259.293149      0.808629       90899   \n",
              "897  99657       431.706981       298.837323      0.721684      106264   \n",
              "898  93523       476.344094       254.176054      0.845739       97653   \n",
              "899  85609       512.081774       215.271976      0.907345       89197   \n",
              "\n",
              "       Extent  Perimeter  Class  \n",
              "0    0.758651   1184.040      1  \n",
              "1    0.684130   1121.786      1  \n",
              "2    0.637613   1208.575      1  \n",
              "3    0.699599    844.162      1  \n",
              "4    0.792772   1073.251      1  \n",
              "..        ...        ...    ...  \n",
              "895  0.668793   1129.072      0  \n",
              "896  0.636476   1214.252      0  \n",
              "897  0.741099   1292.828      0  \n",
              "898  0.658798   1258.548      0  \n",
              "899  0.632020   1272.862      0  \n",
              "\n",
              "[900 rows x 8 columns]"
            ],
            "text/html": [
              "\n",
              "  <div id=\"df-c03fa7d6-cb18-4ca3-b7bf-f79b8fdccd32\">\n",
              "    <div class=\"colab-df-container\">\n",
              "      <div>\n",
              "<style scoped>\n",
              "    .dataframe tbody tr th:only-of-type {\n",
              "        vertical-align: middle;\n",
              "    }\n",
              "\n",
              "    .dataframe tbody tr th {\n",
              "        vertical-align: top;\n",
              "    }\n",
              "\n",
              "    .dataframe thead th {\n",
              "        text-align: right;\n",
              "    }\n",
              "</style>\n",
              "<table border=\"1\" class=\"dataframe\">\n",
              "  <thead>\n",
              "    <tr style=\"text-align: right;\">\n",
              "      <th></th>\n",
              "      <th>Area</th>\n",
              "      <th>MajorAxisLength</th>\n",
              "      <th>MinorAxisLength</th>\n",
              "      <th>Eccentricity</th>\n",
              "      <th>ConvexArea</th>\n",
              "      <th>Extent</th>\n",
              "      <th>Perimeter</th>\n",
              "      <th>Class</th>\n",
              "    </tr>\n",
              "  </thead>\n",
              "  <tbody>\n",
              "    <tr>\n",
              "      <th>0</th>\n",
              "      <td>87524</td>\n",
              "      <td>442.246011</td>\n",
              "      <td>253.291155</td>\n",
              "      <td>0.819738</td>\n",
              "      <td>90546</td>\n",
              "      <td>0.758651</td>\n",
              "      <td>1184.040</td>\n",
              "      <td>1</td>\n",
              "    </tr>\n",
              "    <tr>\n",
              "      <th>1</th>\n",
              "      <td>75166</td>\n",
              "      <td>406.690687</td>\n",
              "      <td>243.032436</td>\n",
              "      <td>0.801805</td>\n",
              "      <td>78789</td>\n",
              "      <td>0.684130</td>\n",
              "      <td>1121.786</td>\n",
              "      <td>1</td>\n",
              "    </tr>\n",
              "    <tr>\n",
              "      <th>2</th>\n",
              "      <td>90856</td>\n",
              "      <td>442.267048</td>\n",
              "      <td>266.328318</td>\n",
              "      <td>0.798354</td>\n",
              "      <td>93717</td>\n",
              "      <td>0.637613</td>\n",
              "      <td>1208.575</td>\n",
              "      <td>1</td>\n",
              "    </tr>\n",
              "    <tr>\n",
              "      <th>3</th>\n",
              "      <td>45928</td>\n",
              "      <td>286.540559</td>\n",
              "      <td>208.760042</td>\n",
              "      <td>0.684989</td>\n",
              "      <td>47336</td>\n",
              "      <td>0.699599</td>\n",
              "      <td>844.162</td>\n",
              "      <td>1</td>\n",
              "    </tr>\n",
              "    <tr>\n",
              "      <th>4</th>\n",
              "      <td>79408</td>\n",
              "      <td>352.190770</td>\n",
              "      <td>290.827533</td>\n",
              "      <td>0.564011</td>\n",
              "      <td>81463</td>\n",
              "      <td>0.792772</td>\n",
              "      <td>1073.251</td>\n",
              "      <td>1</td>\n",
              "    </tr>\n",
              "    <tr>\n",
              "      <th>...</th>\n",
              "      <td>...</td>\n",
              "      <td>...</td>\n",
              "      <td>...</td>\n",
              "      <td>...</td>\n",
              "      <td>...</td>\n",
              "      <td>...</td>\n",
              "      <td>...</td>\n",
              "      <td>...</td>\n",
              "    </tr>\n",
              "    <tr>\n",
              "      <th>895</th>\n",
              "      <td>83248</td>\n",
              "      <td>430.077308</td>\n",
              "      <td>247.838695</td>\n",
              "      <td>0.817263</td>\n",
              "      <td>85839</td>\n",
              "      <td>0.668793</td>\n",
              "      <td>1129.072</td>\n",
              "      <td>0</td>\n",
              "    </tr>\n",
              "    <tr>\n",
              "      <th>896</th>\n",
              "      <td>87350</td>\n",
              "      <td>440.735698</td>\n",
              "      <td>259.293149</td>\n",
              "      <td>0.808629</td>\n",
              "      <td>90899</td>\n",
              "      <td>0.636476</td>\n",
              "      <td>1214.252</td>\n",
              "      <td>0</td>\n",
              "    </tr>\n",
              "    <tr>\n",
              "      <th>897</th>\n",
              "      <td>99657</td>\n",
              "      <td>431.706981</td>\n",
              "      <td>298.837323</td>\n",
              "      <td>0.721684</td>\n",
              "      <td>106264</td>\n",
              "      <td>0.741099</td>\n",
              "      <td>1292.828</td>\n",
              "      <td>0</td>\n",
              "    </tr>\n",
              "    <tr>\n",
              "      <th>898</th>\n",
              "      <td>93523</td>\n",
              "      <td>476.344094</td>\n",
              "      <td>254.176054</td>\n",
              "      <td>0.845739</td>\n",
              "      <td>97653</td>\n",
              "      <td>0.658798</td>\n",
              "      <td>1258.548</td>\n",
              "      <td>0</td>\n",
              "    </tr>\n",
              "    <tr>\n",
              "      <th>899</th>\n",
              "      <td>85609</td>\n",
              "      <td>512.081774</td>\n",
              "      <td>215.271976</td>\n",
              "      <td>0.907345</td>\n",
              "      <td>89197</td>\n",
              "      <td>0.632020</td>\n",
              "      <td>1272.862</td>\n",
              "      <td>0</td>\n",
              "    </tr>\n",
              "  </tbody>\n",
              "</table>\n",
              "<p>900 rows × 8 columns</p>\n",
              "</div>\n",
              "      <button class=\"colab-df-convert\" onclick=\"convertToInteractive('df-c03fa7d6-cb18-4ca3-b7bf-f79b8fdccd32')\"\n",
              "              title=\"Convert this dataframe to an interactive table.\"\n",
              "              style=\"display:none;\">\n",
              "        \n",
              "  <svg xmlns=\"http://www.w3.org/2000/svg\" height=\"24px\"viewBox=\"0 0 24 24\"\n",
              "       width=\"24px\">\n",
              "    <path d=\"M0 0h24v24H0V0z\" fill=\"none\"/>\n",
              "    <path d=\"M18.56 5.44l.94 2.06.94-2.06 2.06-.94-2.06-.94-.94-2.06-.94 2.06-2.06.94zm-11 1L8.5 8.5l.94-2.06 2.06-.94-2.06-.94L8.5 2.5l-.94 2.06-2.06.94zm10 10l.94 2.06.94-2.06 2.06-.94-2.06-.94-.94-2.06-.94 2.06-2.06.94z\"/><path d=\"M17.41 7.96l-1.37-1.37c-.4-.4-.92-.59-1.43-.59-.52 0-1.04.2-1.43.59L10.3 9.45l-7.72 7.72c-.78.78-.78 2.05 0 2.83L4 21.41c.39.39.9.59 1.41.59.51 0 1.02-.2 1.41-.59l7.78-7.78 2.81-2.81c.8-.78.8-2.07 0-2.86zM5.41 20L4 18.59l7.72-7.72 1.47 1.35L5.41 20z\"/>\n",
              "  </svg>\n",
              "      </button>\n",
              "      \n",
              "  <style>\n",
              "    .colab-df-container {\n",
              "      display:flex;\n",
              "      flex-wrap:wrap;\n",
              "      gap: 12px;\n",
              "    }\n",
              "\n",
              "    .colab-df-convert {\n",
              "      background-color: #E8F0FE;\n",
              "      border: none;\n",
              "      border-radius: 50%;\n",
              "      cursor: pointer;\n",
              "      display: none;\n",
              "      fill: #1967D2;\n",
              "      height: 32px;\n",
              "      padding: 0 0 0 0;\n",
              "      width: 32px;\n",
              "    }\n",
              "\n",
              "    .colab-df-convert:hover {\n",
              "      background-color: #E2EBFA;\n",
              "      box-shadow: 0px 1px 2px rgba(60, 64, 67, 0.3), 0px 1px 3px 1px rgba(60, 64, 67, 0.15);\n",
              "      fill: #174EA6;\n",
              "    }\n",
              "\n",
              "    [theme=dark] .colab-df-convert {\n",
              "      background-color: #3B4455;\n",
              "      fill: #D2E3FC;\n",
              "    }\n",
              "\n",
              "    [theme=dark] .colab-df-convert:hover {\n",
              "      background-color: #434B5C;\n",
              "      box-shadow: 0px 1px 3px 1px rgba(0, 0, 0, 0.15);\n",
              "      filter: drop-shadow(0px 1px 2px rgba(0, 0, 0, 0.3));\n",
              "      fill: #FFFFFF;\n",
              "    }\n",
              "  </style>\n",
              "\n",
              "      <script>\n",
              "        const buttonEl =\n",
              "          document.querySelector('#df-c03fa7d6-cb18-4ca3-b7bf-f79b8fdccd32 button.colab-df-convert');\n",
              "        buttonEl.style.display =\n",
              "          google.colab.kernel.accessAllowed ? 'block' : 'none';\n",
              "\n",
              "        async function convertToInteractive(key) {\n",
              "          const element = document.querySelector('#df-c03fa7d6-cb18-4ca3-b7bf-f79b8fdccd32');\n",
              "          const dataTable =\n",
              "            await google.colab.kernel.invokeFunction('convertToInteractive',\n",
              "                                                     [key], {});\n",
              "          if (!dataTable) return;\n",
              "\n",
              "          const docLinkHtml = 'Like what you see? Visit the ' +\n",
              "            '<a target=\"_blank\" href=https://colab.research.google.com/notebooks/data_table.ipynb>data table notebook</a>'\n",
              "            + ' to learn more about interactive tables.';\n",
              "          element.innerHTML = '';\n",
              "          dataTable['output_type'] = 'display_data';\n",
              "          await google.colab.output.renderOutput(dataTable, element);\n",
              "          const docLink = document.createElement('div');\n",
              "          docLink.innerHTML = docLinkHtml;\n",
              "          element.appendChild(docLink);\n",
              "        }\n",
              "      </script>\n",
              "    </div>\n",
              "  </div>\n",
              "  "
            ]
          },
          "metadata": {},
          "execution_count": 338
        }
      ]
    },
    {
      "cell_type": "code",
      "source": [
        "file.describe()"
      ],
      "metadata": {
        "colab": {
          "base_uri": "https://localhost:8080/",
          "height": 300
        },
        "id": "5im13QD-O4_G",
        "outputId": "85af89b4-1ce3-4814-dcbc-e2245ab546c6"
      },
      "execution_count": null,
      "outputs": [
        {
          "output_type": "execute_result",
          "data": {
            "text/plain": [
              "                Area  MajorAxisLength  MinorAxisLength  Eccentricity  \\\n",
              "count     900.000000       900.000000       900.000000    900.000000   \n",
              "mean    87804.127778       430.929950       254.488133      0.781542   \n",
              "std     39002.111390       116.035121        49.988902      0.090318   \n",
              "min     25387.000000       225.629541       143.710872      0.348730   \n",
              "25%     59348.000000       345.442898       219.111126      0.741766   \n",
              "50%     78902.000000       407.803951       247.848409      0.798846   \n",
              "75%    105028.250000       494.187014       279.888575      0.842571   \n",
              "max    235047.000000       997.291941       492.275279      0.962124   \n",
              "\n",
              "          ConvexArea      Extent    Perimeter       Class  \n",
              "count     900.000000  900.000000   900.000000  900.000000  \n",
              "mean    91186.090000    0.699508  1165.906636    0.500000  \n",
              "std     40769.290132    0.053468   273.764315    0.500278  \n",
              "min     26139.000000    0.379856   619.074000    0.000000  \n",
              "25%     61513.250000    0.670869   966.410750    0.000000  \n",
              "50%     81651.000000    0.707367  1119.509000    0.500000  \n",
              "75%    108375.750000    0.734991  1308.389750    1.000000  \n",
              "max    278217.000000    0.835455  2697.753000    1.000000  "
            ],
            "text/html": [
              "\n",
              "  <div id=\"df-32fdc2f9-2526-47c3-9b97-82f51d95e4bb\">\n",
              "    <div class=\"colab-df-container\">\n",
              "      <div>\n",
              "<style scoped>\n",
              "    .dataframe tbody tr th:only-of-type {\n",
              "        vertical-align: middle;\n",
              "    }\n",
              "\n",
              "    .dataframe tbody tr th {\n",
              "        vertical-align: top;\n",
              "    }\n",
              "\n",
              "    .dataframe thead th {\n",
              "        text-align: right;\n",
              "    }\n",
              "</style>\n",
              "<table border=\"1\" class=\"dataframe\">\n",
              "  <thead>\n",
              "    <tr style=\"text-align: right;\">\n",
              "      <th></th>\n",
              "      <th>Area</th>\n",
              "      <th>MajorAxisLength</th>\n",
              "      <th>MinorAxisLength</th>\n",
              "      <th>Eccentricity</th>\n",
              "      <th>ConvexArea</th>\n",
              "      <th>Extent</th>\n",
              "      <th>Perimeter</th>\n",
              "      <th>Class</th>\n",
              "    </tr>\n",
              "  </thead>\n",
              "  <tbody>\n",
              "    <tr>\n",
              "      <th>count</th>\n",
              "      <td>900.000000</td>\n",
              "      <td>900.000000</td>\n",
              "      <td>900.000000</td>\n",
              "      <td>900.000000</td>\n",
              "      <td>900.000000</td>\n",
              "      <td>900.000000</td>\n",
              "      <td>900.000000</td>\n",
              "      <td>900.000000</td>\n",
              "    </tr>\n",
              "    <tr>\n",
              "      <th>mean</th>\n",
              "      <td>87804.127778</td>\n",
              "      <td>430.929950</td>\n",
              "      <td>254.488133</td>\n",
              "      <td>0.781542</td>\n",
              "      <td>91186.090000</td>\n",
              "      <td>0.699508</td>\n",
              "      <td>1165.906636</td>\n",
              "      <td>0.500000</td>\n",
              "    </tr>\n",
              "    <tr>\n",
              "      <th>std</th>\n",
              "      <td>39002.111390</td>\n",
              "      <td>116.035121</td>\n",
              "      <td>49.988902</td>\n",
              "      <td>0.090318</td>\n",
              "      <td>40769.290132</td>\n",
              "      <td>0.053468</td>\n",
              "      <td>273.764315</td>\n",
              "      <td>0.500278</td>\n",
              "    </tr>\n",
              "    <tr>\n",
              "      <th>min</th>\n",
              "      <td>25387.000000</td>\n",
              "      <td>225.629541</td>\n",
              "      <td>143.710872</td>\n",
              "      <td>0.348730</td>\n",
              "      <td>26139.000000</td>\n",
              "      <td>0.379856</td>\n",
              "      <td>619.074000</td>\n",
              "      <td>0.000000</td>\n",
              "    </tr>\n",
              "    <tr>\n",
              "      <th>25%</th>\n",
              "      <td>59348.000000</td>\n",
              "      <td>345.442898</td>\n",
              "      <td>219.111126</td>\n",
              "      <td>0.741766</td>\n",
              "      <td>61513.250000</td>\n",
              "      <td>0.670869</td>\n",
              "      <td>966.410750</td>\n",
              "      <td>0.000000</td>\n",
              "    </tr>\n",
              "    <tr>\n",
              "      <th>50%</th>\n",
              "      <td>78902.000000</td>\n",
              "      <td>407.803951</td>\n",
              "      <td>247.848409</td>\n",
              "      <td>0.798846</td>\n",
              "      <td>81651.000000</td>\n",
              "      <td>0.707367</td>\n",
              "      <td>1119.509000</td>\n",
              "      <td>0.500000</td>\n",
              "    </tr>\n",
              "    <tr>\n",
              "      <th>75%</th>\n",
              "      <td>105028.250000</td>\n",
              "      <td>494.187014</td>\n",
              "      <td>279.888575</td>\n",
              "      <td>0.842571</td>\n",
              "      <td>108375.750000</td>\n",
              "      <td>0.734991</td>\n",
              "      <td>1308.389750</td>\n",
              "      <td>1.000000</td>\n",
              "    </tr>\n",
              "    <tr>\n",
              "      <th>max</th>\n",
              "      <td>235047.000000</td>\n",
              "      <td>997.291941</td>\n",
              "      <td>492.275279</td>\n",
              "      <td>0.962124</td>\n",
              "      <td>278217.000000</td>\n",
              "      <td>0.835455</td>\n",
              "      <td>2697.753000</td>\n",
              "      <td>1.000000</td>\n",
              "    </tr>\n",
              "  </tbody>\n",
              "</table>\n",
              "</div>\n",
              "      <button class=\"colab-df-convert\" onclick=\"convertToInteractive('df-32fdc2f9-2526-47c3-9b97-82f51d95e4bb')\"\n",
              "              title=\"Convert this dataframe to an interactive table.\"\n",
              "              style=\"display:none;\">\n",
              "        \n",
              "  <svg xmlns=\"http://www.w3.org/2000/svg\" height=\"24px\"viewBox=\"0 0 24 24\"\n",
              "       width=\"24px\">\n",
              "    <path d=\"M0 0h24v24H0V0z\" fill=\"none\"/>\n",
              "    <path d=\"M18.56 5.44l.94 2.06.94-2.06 2.06-.94-2.06-.94-.94-2.06-.94 2.06-2.06.94zm-11 1L8.5 8.5l.94-2.06 2.06-.94-2.06-.94L8.5 2.5l-.94 2.06-2.06.94zm10 10l.94 2.06.94-2.06 2.06-.94-2.06-.94-.94-2.06-.94 2.06-2.06.94z\"/><path d=\"M17.41 7.96l-1.37-1.37c-.4-.4-.92-.59-1.43-.59-.52 0-1.04.2-1.43.59L10.3 9.45l-7.72 7.72c-.78.78-.78 2.05 0 2.83L4 21.41c.39.39.9.59 1.41.59.51 0 1.02-.2 1.41-.59l7.78-7.78 2.81-2.81c.8-.78.8-2.07 0-2.86zM5.41 20L4 18.59l7.72-7.72 1.47 1.35L5.41 20z\"/>\n",
              "  </svg>\n",
              "      </button>\n",
              "      \n",
              "  <style>\n",
              "    .colab-df-container {\n",
              "      display:flex;\n",
              "      flex-wrap:wrap;\n",
              "      gap: 12px;\n",
              "    }\n",
              "\n",
              "    .colab-df-convert {\n",
              "      background-color: #E8F0FE;\n",
              "      border: none;\n",
              "      border-radius: 50%;\n",
              "      cursor: pointer;\n",
              "      display: none;\n",
              "      fill: #1967D2;\n",
              "      height: 32px;\n",
              "      padding: 0 0 0 0;\n",
              "      width: 32px;\n",
              "    }\n",
              "\n",
              "    .colab-df-convert:hover {\n",
              "      background-color: #E2EBFA;\n",
              "      box-shadow: 0px 1px 2px rgba(60, 64, 67, 0.3), 0px 1px 3px 1px rgba(60, 64, 67, 0.15);\n",
              "      fill: #174EA6;\n",
              "    }\n",
              "\n",
              "    [theme=dark] .colab-df-convert {\n",
              "      background-color: #3B4455;\n",
              "      fill: #D2E3FC;\n",
              "    }\n",
              "\n",
              "    [theme=dark] .colab-df-convert:hover {\n",
              "      background-color: #434B5C;\n",
              "      box-shadow: 0px 1px 3px 1px rgba(0, 0, 0, 0.15);\n",
              "      filter: drop-shadow(0px 1px 2px rgba(0, 0, 0, 0.3));\n",
              "      fill: #FFFFFF;\n",
              "    }\n",
              "  </style>\n",
              "\n",
              "      <script>\n",
              "        const buttonEl =\n",
              "          document.querySelector('#df-32fdc2f9-2526-47c3-9b97-82f51d95e4bb button.colab-df-convert');\n",
              "        buttonEl.style.display =\n",
              "          google.colab.kernel.accessAllowed ? 'block' : 'none';\n",
              "\n",
              "        async function convertToInteractive(key) {\n",
              "          const element = document.querySelector('#df-32fdc2f9-2526-47c3-9b97-82f51d95e4bb');\n",
              "          const dataTable =\n",
              "            await google.colab.kernel.invokeFunction('convertToInteractive',\n",
              "                                                     [key], {});\n",
              "          if (!dataTable) return;\n",
              "\n",
              "          const docLinkHtml = 'Like what you see? Visit the ' +\n",
              "            '<a target=\"_blank\" href=https://colab.research.google.com/notebooks/data_table.ipynb>data table notebook</a>'\n",
              "            + ' to learn more about interactive tables.';\n",
              "          element.innerHTML = '';\n",
              "          dataTable['output_type'] = 'display_data';\n",
              "          await google.colab.output.renderOutput(dataTable, element);\n",
              "          const docLink = document.createElement('div');\n",
              "          docLink.innerHTML = docLinkHtml;\n",
              "          element.appendChild(docLink);\n",
              "        }\n",
              "      </script>\n",
              "    </div>\n",
              "  </div>\n",
              "  "
            ]
          },
          "metadata": {},
          "execution_count": 339
        }
      ]
    },
    {
      "cell_type": "code",
      "source": [
        "file.duplicated()"
      ],
      "metadata": {
        "colab": {
          "base_uri": "https://localhost:8080/"
        },
        "id": "8Jjx6xrOPA5H",
        "outputId": "697b514c-0375-4f8b-9979-daf7a8cafdf4"
      },
      "execution_count": null,
      "outputs": [
        {
          "output_type": "execute_result",
          "data": {
            "text/plain": [
              "0      False\n",
              "1      False\n",
              "2      False\n",
              "3      False\n",
              "4      False\n",
              "       ...  \n",
              "895    False\n",
              "896    False\n",
              "897    False\n",
              "898    False\n",
              "899    False\n",
              "Length: 900, dtype: bool"
            ]
          },
          "metadata": {},
          "execution_count": 340
        }
      ]
    },
    {
      "cell_type": "code",
      "source": [
        "file.head()"
      ],
      "metadata": {
        "colab": {
          "base_uri": "https://localhost:8080/",
          "height": 206
        },
        "id": "ylEmDsiHPP2q",
        "outputId": "82d5a45c-1f74-45e1-90a1-3228777057eb"
      },
      "execution_count": null,
      "outputs": [
        {
          "output_type": "execute_result",
          "data": {
            "text/plain": [
              "    Area  MajorAxisLength  MinorAxisLength  Eccentricity  ConvexArea  \\\n",
              "0  87524       442.246011       253.291155      0.819738       90546   \n",
              "1  75166       406.690687       243.032436      0.801805       78789   \n",
              "2  90856       442.267048       266.328318      0.798354       93717   \n",
              "3  45928       286.540559       208.760042      0.684989       47336   \n",
              "4  79408       352.190770       290.827533      0.564011       81463   \n",
              "\n",
              "     Extent  Perimeter  Class  \n",
              "0  0.758651   1184.040      1  \n",
              "1  0.684130   1121.786      1  \n",
              "2  0.637613   1208.575      1  \n",
              "3  0.699599    844.162      1  \n",
              "4  0.792772   1073.251      1  "
            ],
            "text/html": [
              "\n",
              "  <div id=\"df-a544d797-d621-4984-94f8-64b8afacba6a\">\n",
              "    <div class=\"colab-df-container\">\n",
              "      <div>\n",
              "<style scoped>\n",
              "    .dataframe tbody tr th:only-of-type {\n",
              "        vertical-align: middle;\n",
              "    }\n",
              "\n",
              "    .dataframe tbody tr th {\n",
              "        vertical-align: top;\n",
              "    }\n",
              "\n",
              "    .dataframe thead th {\n",
              "        text-align: right;\n",
              "    }\n",
              "</style>\n",
              "<table border=\"1\" class=\"dataframe\">\n",
              "  <thead>\n",
              "    <tr style=\"text-align: right;\">\n",
              "      <th></th>\n",
              "      <th>Area</th>\n",
              "      <th>MajorAxisLength</th>\n",
              "      <th>MinorAxisLength</th>\n",
              "      <th>Eccentricity</th>\n",
              "      <th>ConvexArea</th>\n",
              "      <th>Extent</th>\n",
              "      <th>Perimeter</th>\n",
              "      <th>Class</th>\n",
              "    </tr>\n",
              "  </thead>\n",
              "  <tbody>\n",
              "    <tr>\n",
              "      <th>0</th>\n",
              "      <td>87524</td>\n",
              "      <td>442.246011</td>\n",
              "      <td>253.291155</td>\n",
              "      <td>0.819738</td>\n",
              "      <td>90546</td>\n",
              "      <td>0.758651</td>\n",
              "      <td>1184.040</td>\n",
              "      <td>1</td>\n",
              "    </tr>\n",
              "    <tr>\n",
              "      <th>1</th>\n",
              "      <td>75166</td>\n",
              "      <td>406.690687</td>\n",
              "      <td>243.032436</td>\n",
              "      <td>0.801805</td>\n",
              "      <td>78789</td>\n",
              "      <td>0.684130</td>\n",
              "      <td>1121.786</td>\n",
              "      <td>1</td>\n",
              "    </tr>\n",
              "    <tr>\n",
              "      <th>2</th>\n",
              "      <td>90856</td>\n",
              "      <td>442.267048</td>\n",
              "      <td>266.328318</td>\n",
              "      <td>0.798354</td>\n",
              "      <td>93717</td>\n",
              "      <td>0.637613</td>\n",
              "      <td>1208.575</td>\n",
              "      <td>1</td>\n",
              "    </tr>\n",
              "    <tr>\n",
              "      <th>3</th>\n",
              "      <td>45928</td>\n",
              "      <td>286.540559</td>\n",
              "      <td>208.760042</td>\n",
              "      <td>0.684989</td>\n",
              "      <td>47336</td>\n",
              "      <td>0.699599</td>\n",
              "      <td>844.162</td>\n",
              "      <td>1</td>\n",
              "    </tr>\n",
              "    <tr>\n",
              "      <th>4</th>\n",
              "      <td>79408</td>\n",
              "      <td>352.190770</td>\n",
              "      <td>290.827533</td>\n",
              "      <td>0.564011</td>\n",
              "      <td>81463</td>\n",
              "      <td>0.792772</td>\n",
              "      <td>1073.251</td>\n",
              "      <td>1</td>\n",
              "    </tr>\n",
              "  </tbody>\n",
              "</table>\n",
              "</div>\n",
              "      <button class=\"colab-df-convert\" onclick=\"convertToInteractive('df-a544d797-d621-4984-94f8-64b8afacba6a')\"\n",
              "              title=\"Convert this dataframe to an interactive table.\"\n",
              "              style=\"display:none;\">\n",
              "        \n",
              "  <svg xmlns=\"http://www.w3.org/2000/svg\" height=\"24px\"viewBox=\"0 0 24 24\"\n",
              "       width=\"24px\">\n",
              "    <path d=\"M0 0h24v24H0V0z\" fill=\"none\"/>\n",
              "    <path d=\"M18.56 5.44l.94 2.06.94-2.06 2.06-.94-2.06-.94-.94-2.06-.94 2.06-2.06.94zm-11 1L8.5 8.5l.94-2.06 2.06-.94-2.06-.94L8.5 2.5l-.94 2.06-2.06.94zm10 10l.94 2.06.94-2.06 2.06-.94-2.06-.94-.94-2.06-.94 2.06-2.06.94z\"/><path d=\"M17.41 7.96l-1.37-1.37c-.4-.4-.92-.59-1.43-.59-.52 0-1.04.2-1.43.59L10.3 9.45l-7.72 7.72c-.78.78-.78 2.05 0 2.83L4 21.41c.39.39.9.59 1.41.59.51 0 1.02-.2 1.41-.59l7.78-7.78 2.81-2.81c.8-.78.8-2.07 0-2.86zM5.41 20L4 18.59l7.72-7.72 1.47 1.35L5.41 20z\"/>\n",
              "  </svg>\n",
              "      </button>\n",
              "      \n",
              "  <style>\n",
              "    .colab-df-container {\n",
              "      display:flex;\n",
              "      flex-wrap:wrap;\n",
              "      gap: 12px;\n",
              "    }\n",
              "\n",
              "    .colab-df-convert {\n",
              "      background-color: #E8F0FE;\n",
              "      border: none;\n",
              "      border-radius: 50%;\n",
              "      cursor: pointer;\n",
              "      display: none;\n",
              "      fill: #1967D2;\n",
              "      height: 32px;\n",
              "      padding: 0 0 0 0;\n",
              "      width: 32px;\n",
              "    }\n",
              "\n",
              "    .colab-df-convert:hover {\n",
              "      background-color: #E2EBFA;\n",
              "      box-shadow: 0px 1px 2px rgba(60, 64, 67, 0.3), 0px 1px 3px 1px rgba(60, 64, 67, 0.15);\n",
              "      fill: #174EA6;\n",
              "    }\n",
              "\n",
              "    [theme=dark] .colab-df-convert {\n",
              "      background-color: #3B4455;\n",
              "      fill: #D2E3FC;\n",
              "    }\n",
              "\n",
              "    [theme=dark] .colab-df-convert:hover {\n",
              "      background-color: #434B5C;\n",
              "      box-shadow: 0px 1px 3px 1px rgba(0, 0, 0, 0.15);\n",
              "      filter: drop-shadow(0px 1px 2px rgba(0, 0, 0, 0.3));\n",
              "      fill: #FFFFFF;\n",
              "    }\n",
              "  </style>\n",
              "\n",
              "      <script>\n",
              "        const buttonEl =\n",
              "          document.querySelector('#df-a544d797-d621-4984-94f8-64b8afacba6a button.colab-df-convert');\n",
              "        buttonEl.style.display =\n",
              "          google.colab.kernel.accessAllowed ? 'block' : 'none';\n",
              "\n",
              "        async function convertToInteractive(key) {\n",
              "          const element = document.querySelector('#df-a544d797-d621-4984-94f8-64b8afacba6a');\n",
              "          const dataTable =\n",
              "            await google.colab.kernel.invokeFunction('convertToInteractive',\n",
              "                                                     [key], {});\n",
              "          if (!dataTable) return;\n",
              "\n",
              "          const docLinkHtml = 'Like what you see? Visit the ' +\n",
              "            '<a target=\"_blank\" href=https://colab.research.google.com/notebooks/data_table.ipynb>data table notebook</a>'\n",
              "            + ' to learn more about interactive tables.';\n",
              "          element.innerHTML = '';\n",
              "          dataTable['output_type'] = 'display_data';\n",
              "          await google.colab.output.renderOutput(dataTable, element);\n",
              "          const docLink = document.createElement('div');\n",
              "          docLink.innerHTML = docLinkHtml;\n",
              "          element.appendChild(docLink);\n",
              "        }\n",
              "      </script>\n",
              "    </div>\n",
              "  </div>\n",
              "  "
            ]
          },
          "metadata": {},
          "execution_count": 341
        }
      ]
    },
    {
      "cell_type": "code",
      "source": [
        "file.tail()"
      ],
      "metadata": {
        "colab": {
          "base_uri": "https://localhost:8080/",
          "height": 206
        },
        "id": "GnTUSge-Ph8g",
        "outputId": "ad1f1304-9b53-4856-9ba1-57116cd4a97b"
      },
      "execution_count": null,
      "outputs": [
        {
          "output_type": "execute_result",
          "data": {
            "text/plain": [
              "      Area  MajorAxisLength  MinorAxisLength  Eccentricity  ConvexArea  \\\n",
              "895  83248       430.077308       247.838695      0.817263       85839   \n",
              "896  87350       440.735698       259.293149      0.808629       90899   \n",
              "897  99657       431.706981       298.837323      0.721684      106264   \n",
              "898  93523       476.344094       254.176054      0.845739       97653   \n",
              "899  85609       512.081774       215.271976      0.907345       89197   \n",
              "\n",
              "       Extent  Perimeter  Class  \n",
              "895  0.668793   1129.072      0  \n",
              "896  0.636476   1214.252      0  \n",
              "897  0.741099   1292.828      0  \n",
              "898  0.658798   1258.548      0  \n",
              "899  0.632020   1272.862      0  "
            ],
            "text/html": [
              "\n",
              "  <div id=\"df-7b3f85c2-e4fe-4ed9-9784-cdc0750b1b85\">\n",
              "    <div class=\"colab-df-container\">\n",
              "      <div>\n",
              "<style scoped>\n",
              "    .dataframe tbody tr th:only-of-type {\n",
              "        vertical-align: middle;\n",
              "    }\n",
              "\n",
              "    .dataframe tbody tr th {\n",
              "        vertical-align: top;\n",
              "    }\n",
              "\n",
              "    .dataframe thead th {\n",
              "        text-align: right;\n",
              "    }\n",
              "</style>\n",
              "<table border=\"1\" class=\"dataframe\">\n",
              "  <thead>\n",
              "    <tr style=\"text-align: right;\">\n",
              "      <th></th>\n",
              "      <th>Area</th>\n",
              "      <th>MajorAxisLength</th>\n",
              "      <th>MinorAxisLength</th>\n",
              "      <th>Eccentricity</th>\n",
              "      <th>ConvexArea</th>\n",
              "      <th>Extent</th>\n",
              "      <th>Perimeter</th>\n",
              "      <th>Class</th>\n",
              "    </tr>\n",
              "  </thead>\n",
              "  <tbody>\n",
              "    <tr>\n",
              "      <th>895</th>\n",
              "      <td>83248</td>\n",
              "      <td>430.077308</td>\n",
              "      <td>247.838695</td>\n",
              "      <td>0.817263</td>\n",
              "      <td>85839</td>\n",
              "      <td>0.668793</td>\n",
              "      <td>1129.072</td>\n",
              "      <td>0</td>\n",
              "    </tr>\n",
              "    <tr>\n",
              "      <th>896</th>\n",
              "      <td>87350</td>\n",
              "      <td>440.735698</td>\n",
              "      <td>259.293149</td>\n",
              "      <td>0.808629</td>\n",
              "      <td>90899</td>\n",
              "      <td>0.636476</td>\n",
              "      <td>1214.252</td>\n",
              "      <td>0</td>\n",
              "    </tr>\n",
              "    <tr>\n",
              "      <th>897</th>\n",
              "      <td>99657</td>\n",
              "      <td>431.706981</td>\n",
              "      <td>298.837323</td>\n",
              "      <td>0.721684</td>\n",
              "      <td>106264</td>\n",
              "      <td>0.741099</td>\n",
              "      <td>1292.828</td>\n",
              "      <td>0</td>\n",
              "    </tr>\n",
              "    <tr>\n",
              "      <th>898</th>\n",
              "      <td>93523</td>\n",
              "      <td>476.344094</td>\n",
              "      <td>254.176054</td>\n",
              "      <td>0.845739</td>\n",
              "      <td>97653</td>\n",
              "      <td>0.658798</td>\n",
              "      <td>1258.548</td>\n",
              "      <td>0</td>\n",
              "    </tr>\n",
              "    <tr>\n",
              "      <th>899</th>\n",
              "      <td>85609</td>\n",
              "      <td>512.081774</td>\n",
              "      <td>215.271976</td>\n",
              "      <td>0.907345</td>\n",
              "      <td>89197</td>\n",
              "      <td>0.632020</td>\n",
              "      <td>1272.862</td>\n",
              "      <td>0</td>\n",
              "    </tr>\n",
              "  </tbody>\n",
              "</table>\n",
              "</div>\n",
              "      <button class=\"colab-df-convert\" onclick=\"convertToInteractive('df-7b3f85c2-e4fe-4ed9-9784-cdc0750b1b85')\"\n",
              "              title=\"Convert this dataframe to an interactive table.\"\n",
              "              style=\"display:none;\">\n",
              "        \n",
              "  <svg xmlns=\"http://www.w3.org/2000/svg\" height=\"24px\"viewBox=\"0 0 24 24\"\n",
              "       width=\"24px\">\n",
              "    <path d=\"M0 0h24v24H0V0z\" fill=\"none\"/>\n",
              "    <path d=\"M18.56 5.44l.94 2.06.94-2.06 2.06-.94-2.06-.94-.94-2.06-.94 2.06-2.06.94zm-11 1L8.5 8.5l.94-2.06 2.06-.94-2.06-.94L8.5 2.5l-.94 2.06-2.06.94zm10 10l.94 2.06.94-2.06 2.06-.94-2.06-.94-.94-2.06-.94 2.06-2.06.94z\"/><path d=\"M17.41 7.96l-1.37-1.37c-.4-.4-.92-.59-1.43-.59-.52 0-1.04.2-1.43.59L10.3 9.45l-7.72 7.72c-.78.78-.78 2.05 0 2.83L4 21.41c.39.39.9.59 1.41.59.51 0 1.02-.2 1.41-.59l7.78-7.78 2.81-2.81c.8-.78.8-2.07 0-2.86zM5.41 20L4 18.59l7.72-7.72 1.47 1.35L5.41 20z\"/>\n",
              "  </svg>\n",
              "      </button>\n",
              "      \n",
              "  <style>\n",
              "    .colab-df-container {\n",
              "      display:flex;\n",
              "      flex-wrap:wrap;\n",
              "      gap: 12px;\n",
              "    }\n",
              "\n",
              "    .colab-df-convert {\n",
              "      background-color: #E8F0FE;\n",
              "      border: none;\n",
              "      border-radius: 50%;\n",
              "      cursor: pointer;\n",
              "      display: none;\n",
              "      fill: #1967D2;\n",
              "      height: 32px;\n",
              "      padding: 0 0 0 0;\n",
              "      width: 32px;\n",
              "    }\n",
              "\n",
              "    .colab-df-convert:hover {\n",
              "      background-color: #E2EBFA;\n",
              "      box-shadow: 0px 1px 2px rgba(60, 64, 67, 0.3), 0px 1px 3px 1px rgba(60, 64, 67, 0.15);\n",
              "      fill: #174EA6;\n",
              "    }\n",
              "\n",
              "    [theme=dark] .colab-df-convert {\n",
              "      background-color: #3B4455;\n",
              "      fill: #D2E3FC;\n",
              "    }\n",
              "\n",
              "    [theme=dark] .colab-df-convert:hover {\n",
              "      background-color: #434B5C;\n",
              "      box-shadow: 0px 1px 3px 1px rgba(0, 0, 0, 0.15);\n",
              "      filter: drop-shadow(0px 1px 2px rgba(0, 0, 0, 0.3));\n",
              "      fill: #FFFFFF;\n",
              "    }\n",
              "  </style>\n",
              "\n",
              "      <script>\n",
              "        const buttonEl =\n",
              "          document.querySelector('#df-7b3f85c2-e4fe-4ed9-9784-cdc0750b1b85 button.colab-df-convert');\n",
              "        buttonEl.style.display =\n",
              "          google.colab.kernel.accessAllowed ? 'block' : 'none';\n",
              "\n",
              "        async function convertToInteractive(key) {\n",
              "          const element = document.querySelector('#df-7b3f85c2-e4fe-4ed9-9784-cdc0750b1b85');\n",
              "          const dataTable =\n",
              "            await google.colab.kernel.invokeFunction('convertToInteractive',\n",
              "                                                     [key], {});\n",
              "          if (!dataTable) return;\n",
              "\n",
              "          const docLinkHtml = 'Like what you see? Visit the ' +\n",
              "            '<a target=\"_blank\" href=https://colab.research.google.com/notebooks/data_table.ipynb>data table notebook</a>'\n",
              "            + ' to learn more about interactive tables.';\n",
              "          element.innerHTML = '';\n",
              "          dataTable['output_type'] = 'display_data';\n",
              "          await google.colab.output.renderOutput(dataTable, element);\n",
              "          const docLink = document.createElement('div');\n",
              "          docLink.innerHTML = docLinkHtml;\n",
              "          element.appendChild(docLink);\n",
              "        }\n",
              "      </script>\n",
              "    </div>\n",
              "  </div>\n",
              "  "
            ]
          },
          "metadata": {},
          "execution_count": 342
        }
      ]
    },
    {
      "cell_type": "code",
      "source": [
        "file.isnull().sum()"
      ],
      "metadata": {
        "colab": {
          "base_uri": "https://localhost:8080/"
        },
        "id": "HuxswQriPlZP",
        "outputId": "a4cb62ac-39e3-425f-95a5-315351c1ef38"
      },
      "execution_count": null,
      "outputs": [
        {
          "output_type": "execute_result",
          "data": {
            "text/plain": [
              "Area               0\n",
              "MajorAxisLength    0\n",
              "MinorAxisLength    0\n",
              "Eccentricity       0\n",
              "ConvexArea         0\n",
              "Extent             0\n",
              "Perimeter          0\n",
              "Class              0\n",
              "dtype: int64"
            ]
          },
          "metadata": {},
          "execution_count": 343
        }
      ]
    },
    {
      "cell_type": "code",
      "source": [
        "file.shape"
      ],
      "metadata": {
        "colab": {
          "base_uri": "https://localhost:8080/"
        },
        "id": "CDrK_yLmPn2m",
        "outputId": "1bab0404-902a-459e-fd77-cc396866999d"
      },
      "execution_count": null,
      "outputs": [
        {
          "output_type": "execute_result",
          "data": {
            "text/plain": [
              "(900, 8)"
            ]
          },
          "metadata": {},
          "execution_count": 344
        }
      ]
    },
    {
      "cell_type": "code",
      "source": [
        "file.dtypes"
      ],
      "metadata": {
        "colab": {
          "base_uri": "https://localhost:8080/"
        },
        "id": "NtSmOIacPtMq",
        "outputId": "6c5e1125-9ce0-4d9d-bd88-68b706781bfb"
      },
      "execution_count": null,
      "outputs": [
        {
          "output_type": "execute_result",
          "data": {
            "text/plain": [
              "Area                 int64\n",
              "MajorAxisLength    float64\n",
              "MinorAxisLength    float64\n",
              "Eccentricity       float64\n",
              "ConvexArea           int64\n",
              "Extent             float64\n",
              "Perimeter          float64\n",
              "Class                int64\n",
              "dtype: object"
            ]
          },
          "metadata": {},
          "execution_count": 345
        }
      ]
    },
    {
      "cell_type": "code",
      "source": [
        "file.hist(bins=50, figsize=(20,15),color='brown')\n",
        "plt.show()"
      ],
      "metadata": {
        "colab": {
          "base_uri": "https://localhost:8080/",
          "height": 765
        },
        "id": "m0Zo-S2OPvZP",
        "outputId": "b3cee0bc-0a5a-49fd-c545-664fa31b44cd"
      },
      "execution_count": null,
      "outputs": [
        {
          "output_type": "display_data",
          "data": {
            "text/plain": [
              "<Figure size 1440x1080 with 9 Axes>"
            ],
            "image/png": "[encoded data removed]"
          },
          "metadata": {}
        }
      ]
    },
    {
      "cell_type": "code",
      "source": [
        "corr=file.corr()"
      ],
      "metadata": {
        "id": "3z8sQkSSQ6gC"
      },
      "execution_count": null,
      "outputs": []
    },
    {
      "cell_type": "code",
      "source": [
        "plt.figure(figsize=(25,10))\n",
        "sns.heatmap(corr,annot=True,cmap='magma')"
      ],
      "metadata": {
        "colab": {
          "base_uri": "https://localhost:8080/",
          "height": 456
        },
        "id": "uf4yF5NkP3Tf",
        "outputId": "cde6b2dc-4bcf-4b8d-fb1b-41fdc34a1499"
      },
      "execution_count": null,
      "outputs": [
        {
          "output_type": "execute_result",
          "data": {
            "text/plain": [
              "<matplotlib.axes._subplots.AxesSubplot at 0x7f97620a9110>"
            ]
          },
          "metadata": {},
          "execution_count": 348
        },
        {
          "output_type": "display_data",
          "data": {
            "text/plain": [
              "<Figure size 1800x720 with 2 Axes>"
            ],
            "image/png": "[encoded data removed]"
          },
          "metadata": {}
        }
      ]
    },
    {
      "cell_type": "code",
      "source": [
        "sns.pairplot(file,kind='box')"
      ],
      "metadata": {
        "colab": {
          "base_uri": "https://localhost:8080/",
          "height": 1000
        },
        "id": "WsemxSCLQ49a",
        "outputId": "05e136c4-4bc4-481b-93ee-7d0e6d32c581"
      },
      "execution_count": null,
      "outputs": [
        {
          "output_type": "execute_result",
          "data": {
            "text/plain": [
              "<seaborn.axisgrid.PairGrid at 0x7f97678cd690>"
            ]
          },
          "metadata": {},
          "execution_count": 349
        },
        {
          "output_type": "display_data",
          "data": {
            "text/plain": [
              "<Figure size 1440x1440 with 72 Axes>"
            ],
            "image/png": "[encoded data removed]"
          },
          "metadata": {}
        }
      ]
    },
    {
      "cell_type": "code",
      "source": [
        "plt.figure(figsize=(20,10))\n",
        "sns.lineplot(data=file, x='ConvexArea', y='Extent',color='blue')"
      ],
      "metadata": {
        "colab": {
          "base_uri": "https://localhost:8080/",
          "height": 542
        },
        "id": "W274QUxQiZHa",
        "outputId": "b77658cb-3292-406f-b9de-876edcdd7c8e"
      },
      "execution_count": null,
      "outputs": [
        {
          "output_type": "execute_result",
          "data": {
            "text/plain": [
              "<matplotlib.axes._subplots.AxesSubplot at 0x7f9760dde650>"
            ]
          },
          "metadata": {},
          "execution_count": 406
        },
        {
          "output_type": "display_data",
          "data": {
            "text/plain": [
              "<Figure size 1440x720 with 1 Axes>"
            ],
            "image/png": "[encoded data removed]"
          },
          "metadata": {}
        }
      ]
    },
    {
      "cell_type": "code",
      "source": [
        "plt.figure(figsize=(12,7))\n",
        "sns.countplot(data=file, x='Class')"
      ],
      "metadata": {
        "colab": {
          "base_uri": "https://localhost:8080/",
          "height": 470
        },
        "id": "Tbe_TKAgRUSX",
        "outputId": "be7aad53-7e36-44fa-c079-4d8111f0cd04"
      },
      "execution_count": null,
      "outputs": [
        {
          "output_type": "execute_result",
          "data": {
            "text/plain": [
              "<matplotlib.axes._subplots.AxesSubplot at 0x7f9761559cd0>"
            ]
          },
          "metadata": {},
          "execution_count": 350
        },
        {
          "output_type": "display_data",
          "data": {
            "text/plain": [
              "<Figure size 864x504 with 1 Axes>"
            ],
            "image/png": "[encoded data removed]"
          },
          "metadata": {}
        }
      ]
    },
    {
      "cell_type": "code",
      "source": [
        "file.corr().style.background_gradient(cmap=\"bone_r\")"
      ],
      "metadata": {
        "colab": {
          "base_uri": "https://localhost:8080/",
          "height": 300
        },
        "id": "ITs4VbCaR6fJ",
        "outputId": "eab7e125-9e4a-452b-f3a0-9b97f678aa9b"
      },
      "execution_count": null,
      "outputs": [
        {
          "output_type": "execute_result",
          "data": {
            "text/plain": [
              "<pandas.io.formats.style.Styler at 0x7f97611e23d0>"
            ],
            "text/html": [
              "<style type=\"text/css\">\n",
              "#T_f15f4_row0_col0, #T_f15f4_row0_col4, #T_f15f4_row1_col1, #T_f15f4_row2_col2, #T_f15f4_row3_col3, #T_f15f4_row4_col0, #T_f15f4_row4_col4, #T_f15f4_row5_col5, #T_f15f4_row6_col6, #T_f15f4_row7_col7 {\n",
              "  background-color: #000000;\n",
              "  color: #f1f1f1;\n",
              "}\n",
              "#T_f15f4_row0_col1, #T_f15f4_row1_col0 {\n",
              "  background-color: #09090c;\n",
              "  color: #f1f1f1;\n",
              "}\n",
              "#T_f15f4_row0_col2 {\n",
              "  background-color: #0d0d12;\n",
              "  color: #f1f1f1;\n",
              "}\n",
              "#T_f15f4_row0_col3 {\n",
              "  background-color: #676f87;\n",
              "  color: #f1f1f1;\n",
              "}\n",
              "#T_f15f4_row0_col5 {\n",
              "  background-color: #a6c6c6;\n",
              "  color: #000000;\n",
              "}\n",
              "#T_f15f4_row0_col6 {\n",
              "  background-color: #040406;\n",
              "  color: #f1f1f1;\n",
              "}\n",
              "#T_f15f4_row0_col7, #T_f15f4_row4_col7 {\n",
              "  background-color: #f5f9f9;\n",
              "  color: #000000;\n",
              "}\n",
              "#T_f15f4_row1_col2 {\n",
              "  background-color: #282838;\n",
              "  color: #f1f1f1;\n",
              "}\n",
              "#T_f15f4_row1_col3 {\n",
              "  background-color: #41415a;\n",
              "  color: #f1f1f1;\n",
              "}\n",
              "#T_f15f4_row1_col4, #T_f15f4_row4_col1 {\n",
              "  background-color: #07070a;\n",
              "  color: #f1f1f1;\n",
              "}\n",
              "#T_f15f4_row1_col5 {\n",
              "  background-color: #d7e6e6;\n",
              "  color: #000000;\n",
              "}\n",
              "#T_f15f4_row1_col6, #T_f15f4_row4_col6, #T_f15f4_row6_col1, #T_f15f4_row6_col4 {\n",
              "  background-color: #030304;\n",
              "  color: #f1f1f1;\n",
              "}\n",
              "#T_f15f4_row1_col7, #T_f15f4_row3_col5, #T_f15f4_row7_col0, #T_f15f4_row7_col1, #T_f15f4_row7_col2, #T_f15f4_row7_col3, #T_f15f4_row7_col4, #T_f15f4_row7_col6 {\n",
              "  background-color: #ffffff;\n",
              "  color: #000000;\n",
              "}\n",
              "#T_f15f4_row2_col0 {\n",
              "  background-color: #0c0c11;\n",
              "  color: #f1f1f1;\n",
              "}\n",
              "#T_f15f4_row2_col1 {\n",
              "  background-color: #242432;\n",
              "  color: #f1f1f1;\n",
              "}\n",
              "#T_f15f4_row2_col3 {\n",
              "  background-color: #9fbcbf;\n",
              "  color: #000000;\n",
              "}\n",
              "#T_f15f4_row2_col4 {\n",
              "  background-color: #0e0e13;\n",
              "  color: #f1f1f1;\n",
              "}\n",
              "#T_f15f4_row2_col5 {\n",
              "  background-color: #8ca2ac;\n",
              "  color: #f1f1f1;\n",
              "}\n",
              "#T_f15f4_row2_col6 {\n",
              "  background-color: #171720;\n",
              "  color: #f1f1f1;\n",
              "}\n",
              "#T_f15f4_row2_col7 {\n",
              "  background-color: #dbe8e8;\n",
              "  color: #000000;\n",
              "}\n",
              "#T_f15f4_row3_col0 {\n",
              "  background-color: #5b5f7b;\n",
              "  color: #f1f1f1;\n",
              "}\n",
              "#T_f15f4_row3_col1 {\n",
              "  background-color: #37374d;\n",
              "  color: #f1f1f1;\n",
              "}\n",
              "#T_f15f4_row3_col2 {\n",
              "  background-color: #99b4b9;\n",
              "  color: #000000;\n",
              "}\n",
              "#T_f15f4_row3_col4 {\n",
              "  background-color: #595c79;\n",
              "  color: #f1f1f1;\n",
              "}\n",
              "#T_f15f4_row3_col6 {\n",
              "  background-color: #494966;\n",
              "  color: #f1f1f1;\n",
              "}\n",
              "#T_f15f4_row3_col7, #T_f15f4_row6_col5 {\n",
              "  background-color: #cfe0e0;\n",
              "  color: #000000;\n",
              "}\n",
              "#T_f15f4_row4_col2 {\n",
              "  background-color: #0f0f15;\n",
              "  color: #f1f1f1;\n",
              "}\n",
              "#T_f15f4_row4_col3 {\n",
              "  background-color: #656c84;\n",
              "  color: #f1f1f1;\n",
              "}\n",
              "#T_f15f4_row4_col5 {\n",
              "  background-color: #b1cdcd;\n",
              "  color: #000000;\n",
              "}\n",
              "#T_f15f4_row5_col0 {\n",
              "  background-color: #8ba1ab;\n",
              "  color: #f1f1f1;\n",
              "}\n",
              "#T_f15f4_row5_col1 {\n",
              "  background-color: #a1bfc1;\n",
              "  color: #000000;\n",
              "}\n",
              "#T_f15f4_row5_col2 {\n",
              "  background-color: #7f909f;\n",
              "  color: #f1f1f1;\n",
              "}\n",
              "#T_f15f4_row5_col3 {\n",
              "  background-color: #edf4f4;\n",
              "  color: #000000;\n",
              "}\n",
              "#T_f15f4_row5_col4 {\n",
              "  background-color: #91a9b1;\n",
              "  color: #f1f1f1;\n",
              "}\n",
              "#T_f15f4_row5_col6 {\n",
              "  background-color: #9dbabd;\n",
              "  color: #000000;\n",
              "}\n",
              "#T_f15f4_row5_col7 {\n",
              "  background-color: #717d91;\n",
              "  color: #f1f1f1;\n",
              "}\n",
              "#T_f15f4_row6_col0 {\n",
              "  background-color: #050507;\n",
              "  color: #f1f1f1;\n",
              "}\n",
              "#T_f15f4_row6_col2 {\n",
              "  background-color: #191923;\n",
              "  color: #f1f1f1;\n",
              "}\n",
              "#T_f15f4_row6_col3 {\n",
              "  background-color: #565776;\n",
              "  color: #f1f1f1;\n",
              "}\n",
              "#T_f15f4_row6_col7 {\n",
              "  background-color: #fefefe;\n",
              "  color: #000000;\n",
              "}\n",
              "#T_f15f4_row7_col5 {\n",
              "  background-color: #8aa0aa;\n",
              "  color: #f1f1f1;\n",
              "}\n",
              "</style>\n",
              "<table id=\"T_f15f4_\" class=\"dataframe\">\n",
              "  <thead>\n",
              "    <tr>\n",
              "      <th class=\"blank level0\" >&nbsp;</th>\n",
              "      <th class=\"col_heading level0 col0\" >Area</th>\n",
              "      <th class=\"col_heading level0 col1\" >MajorAxisLength</th>\n",
              "      <th class=\"col_heading level0 col2\" >MinorAxisLength</th>\n",
              "      <th class=\"col_heading level0 col3\" >Eccentricity</th>\n",
              "      <th class=\"col_heading level0 col4\" >ConvexArea</th>\n",
              "      <th class=\"col_heading level0 col5\" >Extent</th>\n",
              "      <th class=\"col_heading level0 col6\" >Perimeter</th>\n",
              "      <th class=\"col_heading level0 col7\" >Class</th>\n",
              "    </tr>\n",
              "  </thead>\n",
              "  <tbody>\n",
              "    <tr>\n",
              "      <th id=\"T_f15f4_level0_row0\" class=\"row_heading level0 row0\" >Area</th>\n",
              "      <td id=\"T_f15f4_row0_col0\" class=\"data row0 col0\" >1.000000</td>\n",
              "      <td id=\"T_f15f4_row0_col1\" class=\"data row0 col1\" >0.932774</td>\n",
              "      <td id=\"T_f15f4_row0_col2\" class=\"data row0 col2\" >0.906650</td>\n",
              "      <td id=\"T_f15f4_row0_col3\" class=\"data row0 col3\" >0.336107</td>\n",
              "      <td id=\"T_f15f4_row0_col4\" class=\"data row0 col4\" >0.995920</td>\n",
              "      <td id=\"T_f15f4_row0_col5\" class=\"data row0 col5\" >-0.013499</td>\n",
              "      <td id=\"T_f15f4_row0_col6\" class=\"data row0 col6\" >0.961352</td>\n",
              "      <td id=\"T_f15f4_row0_col7\" class=\"data row0 col7\" >-0.625715</td>\n",
              "    </tr>\n",
              "    <tr>\n",
              "      <th id=\"T_f15f4_level0_row1\" class=\"row_heading level0 row1\" >MajorAxisLength</th>\n",
              "      <td id=\"T_f15f4_row1_col0\" class=\"data row1 col0\" >0.932774</td>\n",
              "      <td id=\"T_f15f4_row1_col1\" class=\"data row1 col1\" >1.000000</td>\n",
              "      <td id=\"T_f15f4_row1_col2\" class=\"data row1 col2\" >0.728030</td>\n",
              "      <td id=\"T_f15f4_row1_col3\" class=\"data row1 col3\" >0.583608</td>\n",
              "      <td id=\"T_f15f4_row1_col4\" class=\"data row1 col4\" >0.945031</td>\n",
              "      <td id=\"T_f15f4_row1_col5\" class=\"data row1 col5\" >-0.203866</td>\n",
              "      <td id=\"T_f15f4_row1_col6\" class=\"data row1 col6\" >0.977978</td>\n",
              "      <td id=\"T_f15f4_row1_col7\" class=\"data row1 col7\" >-0.673194</td>\n",
              "    </tr>\n",
              "    <tr>\n",
              "      <th id=\"T_f15f4_level0_row2\" class=\"row_heading level0 row2\" >MinorAxisLength</th>\n",
              "      <td id=\"T_f15f4_row2_col0\" class=\"data row2 col0\" >0.906650</td>\n",
              "      <td id=\"T_f15f4_row2_col1\" class=\"data row2 col1\" >0.728030</td>\n",
              "      <td id=\"T_f15f4_row2_col2\" class=\"data row2 col2\" >1.000000</td>\n",
              "      <td id=\"T_f15f4_row2_col3\" class=\"data row2 col3\" >-0.027683</td>\n",
              "      <td id=\"T_f15f4_row2_col4\" class=\"data row2 col4\" >0.895651</td>\n",
              "      <td id=\"T_f15f4_row2_col5\" class=\"data row2 col5\" >0.145322</td>\n",
              "      <td id=\"T_f15f4_row2_col6\" class=\"data row2 col6\" >0.827417</td>\n",
              "      <td id=\"T_f15f4_row2_col7\" class=\"data row2 col7\" >-0.503102</td>\n",
              "    </tr>\n",
              "    <tr>\n",
              "      <th id=\"T_f15f4_level0_row3\" class=\"row_heading level0 row3\" >Eccentricity</th>\n",
              "      <td id=\"T_f15f4_row3_col0\" class=\"data row3 col0\" >0.336107</td>\n",
              "      <td id=\"T_f15f4_row3_col1\" class=\"data row3 col1\" >0.583608</td>\n",
              "      <td id=\"T_f15f4_row3_col2\" class=\"data row3 col2\" >-0.027683</td>\n",
              "      <td id=\"T_f15f4_row3_col3\" class=\"data row3 col3\" >1.000000</td>\n",
              "      <td id=\"T_f15f4_row3_col4\" class=\"data row3 col4\" >0.348210</td>\n",
              "      <td id=\"T_f15f4_row3_col5\" class=\"data row3 col5\" >-0.361061</td>\n",
              "      <td id=\"T_f15f4_row3_col6\" class=\"data row3 col6\" >0.447845</td>\n",
              "      <td id=\"T_f15f4_row3_col7\" class=\"data row3 col7\" >-0.438500</td>\n",
              "    </tr>\n",
              "    <tr>\n",
              "      <th id=\"T_f15f4_level0_row4\" class=\"row_heading level0 row4\" >ConvexArea</th>\n",
              "      <td id=\"T_f15f4_row4_col0\" class=\"data row4 col0\" >0.995920</td>\n",
              "      <td id=\"T_f15f4_row4_col1\" class=\"data row4 col1\" >0.945031</td>\n",
              "      <td id=\"T_f15f4_row4_col2\" class=\"data row4 col2\" >0.895651</td>\n",
              "      <td id=\"T_f15f4_row4_col3\" class=\"data row4 col3\" >0.348210</td>\n",
              "      <td id=\"T_f15f4_row4_col4\" class=\"data row4 col4\" >1.000000</td>\n",
              "      <td id=\"T_f15f4_row4_col5\" class=\"data row4 col5\" >-0.054802</td>\n",
              "      <td id=\"T_f15f4_row4_col6\" class=\"data row4 col6\" >0.976612</td>\n",
              "      <td id=\"T_f15f4_row4_col7\" class=\"data row4 col7\" >-0.625567</td>\n",
              "    </tr>\n",
              "    <tr>\n",
              "      <th id=\"T_f15f4_level0_row5\" class=\"row_heading level0 row5\" >Extent</th>\n",
              "      <td id=\"T_f15f4_row5_col0\" class=\"data row5 col0\" >-0.013499</td>\n",
              "      <td id=\"T_f15f4_row5_col1\" class=\"data row5 col1\" >-0.203866</td>\n",
              "      <td id=\"T_f15f4_row5_col2\" class=\"data row5 col2\" >0.145322</td>\n",
              "      <td id=\"T_f15f4_row5_col3\" class=\"data row5 col3\" >-0.361061</td>\n",
              "      <td id=\"T_f15f4_row5_col4\" class=\"data row5 col4\" >-0.054802</td>\n",
              "      <td id=\"T_f15f4_row5_col5\" class=\"data row5 col5\" >1.000000</td>\n",
              "      <td id=\"T_f15f4_row5_col6\" class=\"data row5 col6\" >-0.173449</td>\n",
              "      <td id=\"T_f15f4_row5_col7\" class=\"data row5 col7\" >0.154689</td>\n",
              "    </tr>\n",
              "    <tr>\n",
              "      <th id=\"T_f15f4_level0_row6\" class=\"row_heading level0 row6\" >Perimeter</th>\n",
              "      <td id=\"T_f15f4_row6_col0\" class=\"data row6 col0\" >0.961352</td>\n",
              "      <td id=\"T_f15f4_row6_col1\" class=\"data row6 col1\" >0.977978</td>\n",
              "      <td id=\"T_f15f4_row6_col2\" class=\"data row6 col2\" >0.827417</td>\n",
              "      <td id=\"T_f15f4_row6_col3\" class=\"data row6 col3\" >0.447845</td>\n",
              "      <td id=\"T_f15f4_row6_col4\" class=\"data row6 col4\" >0.976612</td>\n",
              "      <td id=\"T_f15f4_row6_col5\" class=\"data row6 col5\" >-0.173449</td>\n",
              "      <td id=\"T_f15f4_row6_col6\" class=\"data row6 col6\" >1.000000</td>\n",
              "      <td id=\"T_f15f4_row6_col7\" class=\"data row6 col7\" >-0.665981</td>\n",
              "    </tr>\n",
              "    <tr>\n",
              "      <th id=\"T_f15f4_level0_row7\" class=\"row_heading level0 row7\" >Class</th>\n",
              "      <td id=\"T_f15f4_row7_col0\" class=\"data row7 col0\" >-0.625715</td>\n",
              "      <td id=\"T_f15f4_row7_col1\" class=\"data row7 col1\" >-0.673194</td>\n",
              "      <td id=\"T_f15f4_row7_col2\" class=\"data row7 col2\" >-0.503102</td>\n",
              "      <td id=\"T_f15f4_row7_col3\" class=\"data row7 col3\" >-0.438500</td>\n",
              "      <td id=\"T_f15f4_row7_col4\" class=\"data row7 col4\" >-0.625567</td>\n",
              "      <td id=\"T_f15f4_row7_col5\" class=\"data row7 col5\" >0.154689</td>\n",
              "      <td id=\"T_f15f4_row7_col6\" class=\"data row7 col6\" >-0.665981</td>\n",
              "      <td id=\"T_f15f4_row7_col7\" class=\"data row7 col7\" >1.000000</td>\n",
              "    </tr>\n",
              "  </tbody>\n",
              "</table>\n"
            ]
          },
          "metadata": {},
          "execution_count": 351
        }
      ]
    },
    {
      "cell_type": "markdown",
      "source": [
        "                                          HANDLING OUTLIERS"
      ],
      "metadata": {
        "id": "KHMHlX8qlIMF"
      }
    },
    {
      "cell_type": "code",
      "source": [
        "p0=file.Class.min()\n",
        "p100=file.Class.max()\n",
        "\n"
      ],
      "metadata": {
        "id": "LFfubLJ5UXD6"
      },
      "execution_count": null,
      "outputs": []
    },
    {
      "cell_type": "code",
      "source": [
        "q1=file.Class.quantile(0.25)\n",
        "q2=file.Class.quantile(0.5)\n",
        "q3=file.Class.quantile(0.75)"
      ],
      "metadata": {
        "id": "JA3LQfuOUeb4"
      },
      "execution_count": null,
      "outputs": []
    },
    {
      "cell_type": "code",
      "source": [
        "iqr=q3-q1\n",
        "iqr\n"
      ],
      "metadata": {
        "colab": {
          "base_uri": "https://localhost:8080/"
        },
        "id": "fq-PPJ_wUsWm",
        "outputId": "a6931987-544c-4cd3-a865-9e1d1b473c49"
      },
      "execution_count": null,
      "outputs": [
        {
          "output_type": "execute_result",
          "data": {
            "text/plain": [
              "1.0"
            ]
          },
          "metadata": {},
          "execution_count": 354
        }
      ]
    },
    {
      "cell_type": "code",
      "source": [
        "lower_cutoff=q1-1.5*iqr\n",
        "lower_cutoff\n",
        "\n"
      ],
      "metadata": {
        "colab": {
          "base_uri": "https://localhost:8080/"
        },
        "id": "cLovcMBVUwCO",
        "outputId": "600c4dc1-bbe1-44dc-e959-31a9a44cf812"
      },
      "execution_count": null,
      "outputs": [
        {
          "output_type": "execute_result",
          "data": {
            "text/plain": [
              "-1.5"
            ]
          },
          "metadata": {},
          "execution_count": 355
        }
      ]
    },
    {
      "cell_type": "code",
      "source": [
        "upper_cutoff=q3+1.5*iqr\n",
        "upper_cutoff\n"
      ],
      "metadata": {
        "colab": {
          "base_uri": "https://localhost:8080/"
        },
        "id": "oEo9jvQlU0xy",
        "outputId": "91a1ccc7-7e48-4fb1-8e7e-ebe93014c929"
      },
      "execution_count": null,
      "outputs": [
        {
          "output_type": "execute_result",
          "data": {
            "text/plain": [
              "2.5"
            ]
          },
          "metadata": {},
          "execution_count": 356
        }
      ]
    },
    {
      "cell_type": "code",
      "source": [
        "sns.boxplot(file.Area,color='brown')"
      ],
      "metadata": {
        "colab": {
          "base_uri": "https://localhost:8080/",
          "height": 363
        },
        "id": "onFQ4sSaU4aX",
        "outputId": "79788581-03fe-4df6-8648-850b53ff7e45"
      },
      "execution_count": null,
      "outputs": [
        {
          "output_type": "stream",
          "name": "stderr",
          "text": [
            "/usr/local/lib/python3.7/dist-packages/seaborn/_decorators.py:43: FutureWarning: Pass the following variable as a keyword arg: x. From version 0.12, the only valid positional argument will be `data`, and passing other arguments without an explicit keyword will result in an error or misinterpretation.\n",
            "  FutureWarning\n"
          ]
        },
        {
          "output_type": "execute_result",
          "data": {
            "text/plain": [
              "<matplotlib.axes._subplots.AxesSubplot at 0x7f9761205cd0>"
            ]
          },
          "metadata": {},
          "execution_count": 357
        },
        {
          "output_type": "display_data",
          "data": {
            "text/plain": [
              "<Figure size 432x288 with 1 Axes>"
            ],
            "image/png": "[encoded data removed]"
          },
          "metadata": {}
        }
      ]
    },
    {
      "cell_type": "code",
      "source": [
        "file.Area.clip(upper=upper_cutoff)\n",
        "file.Area.plot(kind='box')"
      ],
      "metadata": {
        "colab": {
          "base_uri": "https://localhost:8080/",
          "height": 289
        },
        "id": "7USHZUZFYlj1",
        "outputId": "77182ef2-4b22-4c8a-f975-71c1dd2dc1df"
      },
      "execution_count": null,
      "outputs": [
        {
          "output_type": "execute_result",
          "data": {
            "text/plain": [
              "<matplotlib.axes._subplots.AxesSubplot at 0x7f976116ee50>"
            ]
          },
          "metadata": {},
          "execution_count": 358
        },
        {
          "output_type": "display_data",
          "data": {
            "text/plain": [
              "<Figure size 432x288 with 1 Axes>"
            ],
            "image/png": "[encoded data removed]"
          },
          "metadata": {}
        }
      ]
    },
    {
      "cell_type": "code",
      "source": [
        "file.Area.clip(upper=upper_cutoff,inplace=True)\n",
        "file.Area.plot(kind='box')"
      ],
      "metadata": {
        "colab": {
          "base_uri": "https://localhost:8080/",
          "height": 289
        },
        "id": "xUjiqeqMYs-d",
        "outputId": "cf0b1259-e8f0-4a0f-bded-1e9668df015f"
      },
      "execution_count": null,
      "outputs": [
        {
          "output_type": "execute_result",
          "data": {
            "text/plain": [
              "<matplotlib.axes._subplots.AxesSubplot at 0x7f9761132e50>"
            ]
          },
          "metadata": {},
          "execution_count": 359
        },
        {
          "output_type": "display_data",
          "data": {
            "text/plain": [
              "<Figure size 432x288 with 1 Axes>"
            ],
            "image/png": "[encoded data removed]"
          },
          "metadata": {}
        }
      ]
    },
    {
      "cell_type": "code",
      "source": [
        "num_fea = file.dtypes[file.dtypes != \"object\"].index\n",
        "print(num_fea)\n",
        "print(len(num_fea))\n",
        "\n"
      ],
      "metadata": {
        "colab": {
          "base_uri": "https://localhost:8080/"
        },
        "id": "FZ9ZGY20VeKQ",
        "outputId": "a5a233cd-d168-4bd3-99bc-6b0262ab41b4"
      },
      "execution_count": null,
      "outputs": [
        {
          "output_type": "stream",
          "name": "stdout",
          "text": [
            "Index(['Area', 'MajorAxisLength', 'MinorAxisLength', 'Eccentricity',\n",
            "       'ConvexArea', 'Extent', 'Perimeter', 'Class'],\n",
            "      dtype='object')\n",
            "8\n"
          ]
        }
      ]
    },
    {
      "cell_type": "code",
      "source": [
        ""
      ],
      "metadata": {
        "id": "UOb-A6L6Yrnh"
      },
      "execution_count": null,
      "outputs": []
    },
    {
      "cell_type": "code",
      "source": [
        "cat_fea =file.dtypes[file.dtypes == \"object\"].index\n",
        "print(cat_fea)\n",
        "print(len(cat_fea))"
      ],
      "metadata": {
        "colab": {
          "base_uri": "https://localhost:8080/"
        },
        "id": "ekbIdtwRV8ye",
        "outputId": "1779aca5-796f-4f75-a188-ec28cebd1ec0"
      },
      "execution_count": null,
      "outputs": [
        {
          "output_type": "stream",
          "name": "stdout",
          "text": [
            "Index([], dtype='object')\n",
            "0\n"
          ]
        }
      ]
    },
    {
      "cell_type": "code",
      "source": [
        "type(num_fea)"
      ],
      "metadata": {
        "colab": {
          "base_uri": "https://localhost:8080/"
        },
        "id": "6_Jl_xJFWAGv",
        "outputId": "aa98b6a1-6772-47dd-c102-c8fa3f641172"
      },
      "execution_count": null,
      "outputs": [
        {
          "output_type": "execute_result",
          "data": {
            "text/plain": [
              "pandas.core.indexes.base.Index"
            ]
          },
          "metadata": {},
          "execution_count": 362
        }
      ]
    },
    {
      "cell_type": "code",
      "source": [
        "df_num_fea= file.select_dtypes(include=[np.number])\n",
        "corr= df_num_fea.corr()\n",
        "corr[\"Class\"].sort_values(ascending=False)*100\n",
        "f, ax= plt.subplots(figsize=(14,14))\n",
        "plt.title(\"Correlation of Numeric Features\", y=1, size=20)\n",
        "sns.heatmap(corr, square= True, vmin=-0.2, vmax=0.8, cmap=\"Wistia\")"
      ],
      "metadata": {
        "colab": {
          "base_uri": "https://localhost:8080/",
          "height": 867
        },
        "id": "RkLwCQsKWYh1",
        "outputId": "599cabf1-62ff-4bfe-8538-e9379addb6bf"
      },
      "execution_count": null,
      "outputs": [
        {
          "output_type": "execute_result",
          "data": {
            "text/plain": [
              "<matplotlib.axes._subplots.AxesSubplot at 0x7f97610a45d0>"
            ]
          },
          "metadata": {},
          "execution_count": 363
        },
        {
          "output_type": "display_data",
          "data": {
            "text/plain": [
              "<Figure size 1008x1008 with 2 Axes>"
            ],
            "image/png": "[encoded data removed]"
          },
          "metadata": {}
        }
      ]
    },
    {
      "cell_type": "code",
      "source": [
        "file.isna().sum()/file.shape[0]"
      ],
      "metadata": {
        "colab": {
          "base_uri": "https://localhost:8080/"
        },
        "id": "J6zvx7w7ZptF",
        "outputId": "1e68738f-c7a6-4c45-9717-94c463ee48f0"
      },
      "execution_count": null,
      "outputs": [
        {
          "output_type": "execute_result",
          "data": {
            "text/plain": [
              "Area               0.0\n",
              "MajorAxisLength    0.0\n",
              "MinorAxisLength    0.0\n",
              "Eccentricity       0.0\n",
              "ConvexArea         0.0\n",
              "Extent             0.0\n",
              "Perimeter          0.0\n",
              "Class              0.0\n",
              "dtype: float64"
            ]
          },
          "metadata": {},
          "execution_count": 364
        }
      ]
    },
    {
      "cell_type": "code",
      "source": [
        "file.dropna(axis=1,inplace=True)\n",
        "file"
      ],
      "metadata": {
        "colab": {
          "base_uri": "https://localhost:8080/",
          "height": 423
        },
        "id": "OCS7v61-ZtQI",
        "outputId": "43fae419-5cd5-4774-88a7-191b397c7572"
      },
      "execution_count": null,
      "outputs": [
        {
          "output_type": "execute_result",
          "data": {
            "text/plain": [
              "     Area  MajorAxisLength  MinorAxisLength  Eccentricity  ConvexArea  \\\n",
              "0     2.5       442.246011       253.291155      0.819738       90546   \n",
              "1     2.5       406.690687       243.032436      0.801805       78789   \n",
              "2     2.5       442.267048       266.328318      0.798354       93717   \n",
              "3     2.5       286.540559       208.760042      0.684989       47336   \n",
              "4     2.5       352.190770       290.827533      0.564011       81463   \n",
              "..    ...              ...              ...           ...         ...   \n",
              "895   2.5       430.077308       247.838695      0.817263       85839   \n",
              "896   2.5       440.735698       259.293149      0.808629       90899   \n",
              "897   2.5       431.706981       298.837323      0.721684      106264   \n",
              "898   2.5       476.344094       254.176054      0.845739       97653   \n",
              "899   2.5       512.081774       215.271976      0.907345       89197   \n",
              "\n",
              "       Extent  Perimeter  Class  \n",
              "0    0.758651   1184.040      1  \n",
              "1    0.684130   1121.786      1  \n",
              "2    0.637613   1208.575      1  \n",
              "3    0.699599    844.162      1  \n",
              "4    0.792772   1073.251      1  \n",
              "..        ...        ...    ...  \n",
              "895  0.668793   1129.072      0  \n",
              "896  0.636476   1214.252      0  \n",
              "897  0.741099   1292.828      0  \n",
              "898  0.658798   1258.548      0  \n",
              "899  0.632020   1272.862      0  \n",
              "\n",
              "[900 rows x 8 columns]"
            ],
            "text/html": [
              "\n",
              "  <div id=\"df-98c1e253-ff8b-45c7-8754-a30519ffdaf1\">\n",
              "    <div class=\"colab-df-container\">\n",
              "      <div>\n",
              "<style scoped>\n",
              "    .dataframe tbody tr th:only-of-type {\n",
              "        vertical-align: middle;\n",
              "    }\n",
              "\n",
              "    .dataframe tbody tr th {\n",
              "        vertical-align: top;\n",
              "    }\n",
              "\n",
              "    .dataframe thead th {\n",
              "        text-align: right;\n",
              "    }\n",
              "</style>\n",
              "<table border=\"1\" class=\"dataframe\">\n",
              "  <thead>\n",
              "    <tr style=\"text-align: right;\">\n",
              "      <th></th>\n",
              "      <th>Area</th>\n",
              "      <th>MajorAxisLength</th>\n",
              "      <th>MinorAxisLength</th>\n",
              "      <th>Eccentricity</th>\n",
              "      <th>ConvexArea</th>\n",
              "      <th>Extent</th>\n",
              "      <th>Perimeter</th>\n",
              "      <th>Class</th>\n",
              "    </tr>\n",
              "  </thead>\n",
              "  <tbody>\n",
              "    <tr>\n",
              "      <th>0</th>\n",
              "      <td>2.5</td>\n",
              "      <td>442.246011</td>\n",
              "      <td>253.291155</td>\n",
              "      <td>0.819738</td>\n",
              "      <td>90546</td>\n",
              "      <td>0.758651</td>\n",
              "      <td>1184.040</td>\n",
              "      <td>1</td>\n",
              "    </tr>\n",
              "    <tr>\n",
              "      <th>1</th>\n",
              "      <td>2.5</td>\n",
              "      <td>406.690687</td>\n",
              "      <td>243.032436</td>\n",
              "      <td>0.801805</td>\n",
              "      <td>78789</td>\n",
              "      <td>0.684130</td>\n",
              "      <td>1121.786</td>\n",
              "      <td>1</td>\n",
              "    </tr>\n",
              "    <tr>\n",
              "      <th>2</th>\n",
              "      <td>2.5</td>\n",
              "      <td>442.267048</td>\n",
              "      <td>266.328318</td>\n",
              "      <td>0.798354</td>\n",
              "      <td>93717</td>\n",
              "      <td>0.637613</td>\n",
              "      <td>1208.575</td>\n",
              "      <td>1</td>\n",
              "    </tr>\n",
              "    <tr>\n",
              "      <th>3</th>\n",
              "      <td>2.5</td>\n",
              "      <td>286.540559</td>\n",
              "      <td>208.760042</td>\n",
              "      <td>0.684989</td>\n",
              "      <td>47336</td>\n",
              "      <td>0.699599</td>\n",
              "      <td>844.162</td>\n",
              "      <td>1</td>\n",
              "    </tr>\n",
              "    <tr>\n",
              "      <th>4</th>\n",
              "      <td>2.5</td>\n",
              "      <td>352.190770</td>\n",
              "      <td>290.827533</td>\n",
              "      <td>0.564011</td>\n",
              "      <td>81463</td>\n",
              "      <td>0.792772</td>\n",
              "      <td>1073.251</td>\n",
              "      <td>1</td>\n",
              "    </tr>\n",
              "    <tr>\n",
              "      <th>...</th>\n",
              "      <td>...</td>\n",
              "      <td>...</td>\n",
              "      <td>...</td>\n",
              "      <td>...</td>\n",
              "      <td>...</td>\n",
              "      <td>...</td>\n",
              "      <td>...</td>\n",
              "      <td>...</td>\n",
              "    </tr>\n",
              "    <tr>\n",
              "      <th>895</th>\n",
              "      <td>2.5</td>\n",
              "      <td>430.077308</td>\n",
              "      <td>247.838695</td>\n",
              "      <td>0.817263</td>\n",
              "      <td>85839</td>\n",
              "      <td>0.668793</td>\n",
              "      <td>1129.072</td>\n",
              "      <td>0</td>\n",
              "    </tr>\n",
              "    <tr>\n",
              "      <th>896</th>\n",
              "      <td>2.5</td>\n",
              "      <td>440.735698</td>\n",
              "      <td>259.293149</td>\n",
              "      <td>0.808629</td>\n",
              "      <td>90899</td>\n",
              "      <td>0.636476</td>\n",
              "      <td>1214.252</td>\n",
              "      <td>0</td>\n",
              "    </tr>\n",
              "    <tr>\n",
              "      <th>897</th>\n",
              "      <td>2.5</td>\n",
              "      <td>431.706981</td>\n",
              "      <td>298.837323</td>\n",
              "      <td>0.721684</td>\n",
              "      <td>106264</td>\n",
              "      <td>0.741099</td>\n",
              "      <td>1292.828</td>\n",
              "      <td>0</td>\n",
              "    </tr>\n",
              "    <tr>\n",
              "      <th>898</th>\n",
              "      <td>2.5</td>\n",
              "      <td>476.344094</td>\n",
              "      <td>254.176054</td>\n",
              "      <td>0.845739</td>\n",
              "      <td>97653</td>\n",
              "      <td>0.658798</td>\n",
              "      <td>1258.548</td>\n",
              "      <td>0</td>\n",
              "    </tr>\n",
              "    <tr>\n",
              "      <th>899</th>\n",
              "      <td>2.5</td>\n",
              "      <td>512.081774</td>\n",
              "      <td>215.271976</td>\n",
              "      <td>0.907345</td>\n",
              "      <td>89197</td>\n",
              "      <td>0.632020</td>\n",
              "      <td>1272.862</td>\n",
              "      <td>0</td>\n",
              "    </tr>\n",
              "  </tbody>\n",
              "</table>\n",
              "<p>900 rows × 8 columns</p>\n",
              "</div>\n",
              "      <button class=\"colab-df-convert\" onclick=\"convertToInteractive('df-98c1e253-ff8b-45c7-8754-a30519ffdaf1')\"\n",
              "              title=\"Convert this dataframe to an interactive table.\"\n",
              "              style=\"display:none;\">\n",
              "        \n",
              "  <svg xmlns=\"http://www.w3.org/2000/svg\" height=\"24px\"viewBox=\"0 0 24 24\"\n",
              "       width=\"24px\">\n",
              "    <path d=\"M0 0h24v24H0V0z\" fill=\"none\"/>\n",
              "    <path d=\"M18.56 5.44l.94 2.06.94-2.06 2.06-.94-2.06-.94-.94-2.06-.94 2.06-2.06.94zm-11 1L8.5 8.5l.94-2.06 2.06-.94-2.06-.94L8.5 2.5l-.94 2.06-2.06.94zm10 10l.94 2.06.94-2.06 2.06-.94-2.06-.94-.94-2.06-.94 2.06-2.06.94z\"/><path d=\"M17.41 7.96l-1.37-1.37c-.4-.4-.92-.59-1.43-.59-.52 0-1.04.2-1.43.59L10.3 9.45l-7.72 7.72c-.78.78-.78 2.05 0 2.83L4 21.41c.39.39.9.59 1.41.59.51 0 1.02-.2 1.41-.59l7.78-7.78 2.81-2.81c.8-.78.8-2.07 0-2.86zM5.41 20L4 18.59l7.72-7.72 1.47 1.35L5.41 20z\"/>\n",
              "  </svg>\n",
              "      </button>\n",
              "      \n",
              "  <style>\n",
              "    .colab-df-container {\n",
              "      display:flex;\n",
              "      flex-wrap:wrap;\n",
              "      gap: 12px;\n",
              "    }\n",
              "\n",
              "    .colab-df-convert {\n",
              "      background-color: #E8F0FE;\n",
              "      border: none;\n",
              "      border-radius: 50%;\n",
              "      cursor: pointer;\n",
              "      display: none;\n",
              "      fill: #1967D2;\n",
              "      height: 32px;\n",
              "      padding: 0 0 0 0;\n",
              "      width: 32px;\n",
              "    }\n",
              "\n",
              "    .colab-df-convert:hover {\n",
              "      background-color: #E2EBFA;\n",
              "      box-shadow: 0px 1px 2px rgba(60, 64, 67, 0.3), 0px 1px 3px 1px rgba(60, 64, 67, 0.15);\n",
              "      fill: #174EA6;\n",
              "    }\n",
              "\n",
              "    [theme=dark] .colab-df-convert {\n",
              "      background-color: #3B4455;\n",
              "      fill: #D2E3FC;\n",
              "    }\n",
              "\n",
              "    [theme=dark] .colab-df-convert:hover {\n",
              "      background-color: #434B5C;\n",
              "      box-shadow: 0px 1px 3px 1px rgba(0, 0, 0, 0.15);\n",
              "      filter: drop-shadow(0px 1px 2px rgba(0, 0, 0, 0.3));\n",
              "      fill: #FFFFFF;\n",
              "    }\n",
              "  </style>\n",
              "\n",
              "      <script>\n",
              "        const buttonEl =\n",
              "          document.querySelector('#df-98c1e253-ff8b-45c7-8754-a30519ffdaf1 button.colab-df-convert');\n",
              "        buttonEl.style.display =\n",
              "          google.colab.kernel.accessAllowed ? 'block' : 'none';\n",
              "\n",
              "        async function convertToInteractive(key) {\n",
              "          const element = document.querySelector('#df-98c1e253-ff8b-45c7-8754-a30519ffdaf1');\n",
              "          const dataTable =\n",
              "            await google.colab.kernel.invokeFunction('convertToInteractive',\n",
              "                                                     [key], {});\n",
              "          if (!dataTable) return;\n",
              "\n",
              "          const docLinkHtml = 'Like what you see? Visit the ' +\n",
              "            '<a target=\"_blank\" href=https://colab.research.google.com/notebooks/data_table.ipynb>data table notebook</a>'\n",
              "            + ' to learn more about interactive tables.';\n",
              "          element.innerHTML = '';\n",
              "          dataTable['output_type'] = 'display_data';\n",
              "          await google.colab.output.renderOutput(dataTable, element);\n",
              "          const docLink = document.createElement('div');\n",
              "          docLink.innerHTML = docLinkHtml;\n",
              "          element.appendChild(docLink);\n",
              "        }\n",
              "      </script>\n",
              "    </div>\n",
              "  </div>\n",
              "  "
            ]
          },
          "metadata": {},
          "execution_count": 365
        }
      ]
    },
    {
      "cell_type": "code",
      "source": [
        "file.select_dtypes(['float64','int64']).corr()"
      ],
      "metadata": {
        "colab": {
          "base_uri": "https://localhost:8080/",
          "height": 300
        },
        "id": "7KRXOb5MZzRE",
        "outputId": "e6d28aac-a99b-467e-94d1-363ae3e0401e"
      },
      "execution_count": null,
      "outputs": [
        {
          "output_type": "execute_result",
          "data": {
            "text/plain": [
              "                 Area  MajorAxisLength  MinorAxisLength  Eccentricity  \\\n",
              "Area              NaN              NaN              NaN           NaN   \n",
              "MajorAxisLength   NaN         1.000000         0.728030      0.583608   \n",
              "MinorAxisLength   NaN         0.728030         1.000000     -0.027683   \n",
              "Eccentricity      NaN         0.583608        -0.027683      1.000000   \n",
              "ConvexArea        NaN         0.945031         0.895651      0.348210   \n",
              "Extent            NaN        -0.203866         0.145322     -0.361061   \n",
              "Perimeter         NaN         0.977978         0.827417      0.447845   \n",
              "Class             NaN        -0.673194        -0.503102     -0.438500   \n",
              "\n",
              "                 ConvexArea    Extent  Perimeter     Class  \n",
              "Area                    NaN       NaN        NaN       NaN  \n",
              "MajorAxisLength    0.945031 -0.203866   0.977978 -0.673194  \n",
              "MinorAxisLength    0.895651  0.145322   0.827417 -0.503102  \n",
              "Eccentricity       0.348210 -0.361061   0.447845 -0.438500  \n",
              "ConvexArea         1.000000 -0.054802   0.976612 -0.625567  \n",
              "Extent            -0.054802  1.000000  -0.173449  0.154689  \n",
              "Perimeter          0.976612 -0.173449   1.000000 -0.665981  \n",
              "Class             -0.625567  0.154689  -0.665981  1.000000  "
            ],
            "text/html": [
              "\n",
              "  <div id=\"df-c60770ff-f74c-4830-838c-e43629672ab6\">\n",
              "    <div class=\"colab-df-container\">\n",
              "      <div>\n",
              "<style scoped>\n",
              "    .dataframe tbody tr th:only-of-type {\n",
              "        vertical-align: middle;\n",
              "    }\n",
              "\n",
              "    .dataframe tbody tr th {\n",
              "        vertical-align: top;\n",
              "    }\n",
              "\n",
              "    .dataframe thead th {\n",
              "        text-align: right;\n",
              "    }\n",
              "</style>\n",
              "<table border=\"1\" class=\"dataframe\">\n",
              "  <thead>\n",
              "    <tr style=\"text-align: right;\">\n",
              "      <th></th>\n",
              "      <th>Area</th>\n",
              "      <th>MajorAxisLength</th>\n",
              "      <th>MinorAxisLength</th>\n",
              "      <th>Eccentricity</th>\n",
              "      <th>ConvexArea</th>\n",
              "      <th>Extent</th>\n",
              "      <th>Perimeter</th>\n",
              "      <th>Class</th>\n",
              "    </tr>\n",
              "  </thead>\n",
              "  <tbody>\n",
              "    <tr>\n",
              "      <th>Area</th>\n",
              "      <td>NaN</td>\n",
              "      <td>NaN</td>\n",
              "      <td>NaN</td>\n",
              "      <td>NaN</td>\n",
              "      <td>NaN</td>\n",
              "      <td>NaN</td>\n",
              "      <td>NaN</td>\n",
              "      <td>NaN</td>\n",
              "    </tr>\n",
              "    <tr>\n",
              "      <th>MajorAxisLength</th>\n",
              "      <td>NaN</td>\n",
              "      <td>1.000000</td>\n",
              "      <td>0.728030</td>\n",
              "      <td>0.583608</td>\n",
              "      <td>0.945031</td>\n",
              "      <td>-0.203866</td>\n",
              "      <td>0.977978</td>\n",
              "      <td>-0.673194</td>\n",
              "    </tr>\n",
              "    <tr>\n",
              "      <th>MinorAxisLength</th>\n",
              "      <td>NaN</td>\n",
              "      <td>0.728030</td>\n",
              "      <td>1.000000</td>\n",
              "      <td>-0.027683</td>\n",
              "      <td>0.895651</td>\n",
              "      <td>0.145322</td>\n",
              "      <td>0.827417</td>\n",
              "      <td>-0.503102</td>\n",
              "    </tr>\n",
              "    <tr>\n",
              "      <th>Eccentricity</th>\n",
              "      <td>NaN</td>\n",
              "      <td>0.583608</td>\n",
              "      <td>-0.027683</td>\n",
              "      <td>1.000000</td>\n",
              "      <td>0.348210</td>\n",
              "      <td>-0.361061</td>\n",
              "      <td>0.447845</td>\n",
              "      <td>-0.438500</td>\n",
              "    </tr>\n",
              "    <tr>\n",
              "      <th>ConvexArea</th>\n",
              "      <td>NaN</td>\n",
              "      <td>0.945031</td>\n",
              "      <td>0.895651</td>\n",
              "      <td>0.348210</td>\n",
              "      <td>1.000000</td>\n",
              "      <td>-0.054802</td>\n",
              "      <td>0.976612</td>\n",
              "      <td>-0.625567</td>\n",
              "    </tr>\n",
              "    <tr>\n",
              "      <th>Extent</th>\n",
              "      <td>NaN</td>\n",
              "      <td>-0.203866</td>\n",
              "      <td>0.145322</td>\n",
              "      <td>-0.361061</td>\n",
              "      <td>-0.054802</td>\n",
              "      <td>1.000000</td>\n",
              "      <td>-0.173449</td>\n",
              "      <td>0.154689</td>\n",
              "    </tr>\n",
              "    <tr>\n",
              "      <th>Perimeter</th>\n",
              "      <td>NaN</td>\n",
              "      <td>0.977978</td>\n",
              "      <td>0.827417</td>\n",
              "      <td>0.447845</td>\n",
              "      <td>0.976612</td>\n",
              "      <td>-0.173449</td>\n",
              "      <td>1.000000</td>\n",
              "      <td>-0.665981</td>\n",
              "    </tr>\n",
              "    <tr>\n",
              "      <th>Class</th>\n",
              "      <td>NaN</td>\n",
              "      <td>-0.673194</td>\n",
              "      <td>-0.503102</td>\n",
              "      <td>-0.438500</td>\n",
              "      <td>-0.625567</td>\n",
              "      <td>0.154689</td>\n",
              "      <td>-0.665981</td>\n",
              "      <td>1.000000</td>\n",
              "    </tr>\n",
              "  </tbody>\n",
              "</table>\n",
              "</div>\n",
              "      <button class=\"colab-df-convert\" onclick=\"convertToInteractive('df-c60770ff-f74c-4830-838c-e43629672ab6')\"\n",
              "              title=\"Convert this dataframe to an interactive table.\"\n",
              "              style=\"display:none;\">\n",
              "        \n",
              "  <svg xmlns=\"http://www.w3.org/2000/svg\" height=\"24px\"viewBox=\"0 0 24 24\"\n",
              "       width=\"24px\">\n",
              "    <path d=\"M0 0h24v24H0V0z\" fill=\"none\"/>\n",
              "    <path d=\"M18.56 5.44l.94 2.06.94-2.06 2.06-.94-2.06-.94-.94-2.06-.94 2.06-2.06.94zm-11 1L8.5 8.5l.94-2.06 2.06-.94-2.06-.94L8.5 2.5l-.94 2.06-2.06.94zm10 10l.94 2.06.94-2.06 2.06-.94-2.06-.94-.94-2.06-.94 2.06-2.06.94z\"/><path d=\"M17.41 7.96l-1.37-1.37c-.4-.4-.92-.59-1.43-.59-.52 0-1.04.2-1.43.59L10.3 9.45l-7.72 7.72c-.78.78-.78 2.05 0 2.83L4 21.41c.39.39.9.59 1.41.59.51 0 1.02-.2 1.41-.59l7.78-7.78 2.81-2.81c.8-.78.8-2.07 0-2.86zM5.41 20L4 18.59l7.72-7.72 1.47 1.35L5.41 20z\"/>\n",
              "  </svg>\n",
              "      </button>\n",
              "      \n",
              "  <style>\n",
              "    .colab-df-container {\n",
              "      display:flex;\n",
              "      flex-wrap:wrap;\n",
              "      gap: 12px;\n",
              "    }\n",
              "\n",
              "    .colab-df-convert {\n",
              "      background-color: #E8F0FE;\n",
              "      border: none;\n",
              "      border-radius: 50%;\n",
              "      cursor: pointer;\n",
              "      display: none;\n",
              "      fill: #1967D2;\n",
              "      height: 32px;\n",
              "      padding: 0 0 0 0;\n",
              "      width: 32px;\n",
              "    }\n",
              "\n",
              "    .colab-df-convert:hover {\n",
              "      background-color: #E2EBFA;\n",
              "      box-shadow: 0px 1px 2px rgba(60, 64, 67, 0.3), 0px 1px 3px 1px rgba(60, 64, 67, 0.15);\n",
              "      fill: #174EA6;\n",
              "    }\n",
              "\n",
              "    [theme=dark] .colab-df-convert {\n",
              "      background-color: #3B4455;\n",
              "      fill: #D2E3FC;\n",
              "    }\n",
              "\n",
              "    [theme=dark] .colab-df-convert:hover {\n",
              "      background-color: #434B5C;\n",
              "      box-shadow: 0px 1px 3px 1px rgba(0, 0, 0, 0.15);\n",
              "      filter: drop-shadow(0px 1px 2px rgba(0, 0, 0, 0.3));\n",
              "      fill: #FFFFFF;\n",
              "    }\n",
              "  </style>\n",
              "\n",
              "      <script>\n",
              "        const buttonEl =\n",
              "          document.querySelector('#df-c60770ff-f74c-4830-838c-e43629672ab6 button.colab-df-convert');\n",
              "        buttonEl.style.display =\n",
              "          google.colab.kernel.accessAllowed ? 'block' : 'none';\n",
              "\n",
              "        async function convertToInteractive(key) {\n",
              "          const element = document.querySelector('#df-c60770ff-f74c-4830-838c-e43629672ab6');\n",
              "          const dataTable =\n",
              "            await google.colab.kernel.invokeFunction('convertToInteractive',\n",
              "                                                     [key], {});\n",
              "          if (!dataTable) return;\n",
              "\n",
              "          const docLinkHtml = 'Like what you see? Visit the ' +\n",
              "            '<a target=\"_blank\" href=https://colab.research.google.com/notebooks/data_table.ipynb>data table notebook</a>'\n",
              "            + ' to learn more about interactive tables.';\n",
              "          element.innerHTML = '';\n",
              "          dataTable['output_type'] = 'display_data';\n",
              "          await google.colab.output.renderOutput(dataTable, element);\n",
              "          const docLink = document.createElement('div');\n",
              "          docLink.innerHTML = docLinkHtml;\n",
              "          element.appendChild(docLink);\n",
              "        }\n",
              "      </script>\n",
              "    </div>\n",
              "  </div>\n",
              "  "
            ]
          },
          "metadata": {},
          "execution_count": 366
        }
      ]
    },
    {
      "cell_type": "code",
      "source": [
        "file.groupby('Class').Area.sum()"
      ],
      "metadata": {
        "colab": {
          "base_uri": "https://localhost:8080/"
        },
        "id": "IG3zuFQTZ3TV",
        "outputId": "26f824f9-fa30-4ea4-faff-a62aaaadf44e"
      },
      "execution_count": null,
      "outputs": [
        {
          "output_type": "execute_result",
          "data": {
            "text/plain": [
              "Class\n",
              "0    1125.0\n",
              "1    1125.0\n",
              "Name: Area, dtype: float64"
            ]
          },
          "metadata": {},
          "execution_count": 367
        }
      ]
    },
    {
      "cell_type": "code",
      "source": [
        "x=file.drop(columns='Class')\n",
        "x"
      ],
      "metadata": {
        "colab": {
          "base_uri": "https://localhost:8080/",
          "height": 423
        },
        "id": "F4ga18TAaCrG",
        "outputId": "ffc38344-b248-49fa-e43b-de9a8117daaa"
      },
      "execution_count": null,
      "outputs": [
        {
          "output_type": "execute_result",
          "data": {
            "text/plain": [
              "     Area  MajorAxisLength  MinorAxisLength  Eccentricity  ConvexArea  \\\n",
              "0     2.5       442.246011       253.291155      0.819738       90546   \n",
              "1     2.5       406.690687       243.032436      0.801805       78789   \n",
              "2     2.5       442.267048       266.328318      0.798354       93717   \n",
              "3     2.5       286.540559       208.760042      0.684989       47336   \n",
              "4     2.5       352.190770       290.827533      0.564011       81463   \n",
              "..    ...              ...              ...           ...         ...   \n",
              "895   2.5       430.077308       247.838695      0.817263       85839   \n",
              "896   2.5       440.735698       259.293149      0.808629       90899   \n",
              "897   2.5       431.706981       298.837323      0.721684      106264   \n",
              "898   2.5       476.344094       254.176054      0.845739       97653   \n",
              "899   2.5       512.081774       215.271976      0.907345       89197   \n",
              "\n",
              "       Extent  Perimeter  \n",
              "0    0.758651   1184.040  \n",
              "1    0.684130   1121.786  \n",
              "2    0.637613   1208.575  \n",
              "3    0.699599    844.162  \n",
              "4    0.792772   1073.251  \n",
              "..        ...        ...  \n",
              "895  0.668793   1129.072  \n",
              "896  0.636476   1214.252  \n",
              "897  0.741099   1292.828  \n",
              "898  0.658798   1258.548  \n",
              "899  0.632020   1272.862  \n",
              "\n",
              "[900 rows x 7 columns]"
            ],
            "text/html": [
              "\n",
              "  <div id=\"df-28f95e4f-2b6b-4241-af0a-ba9ee305bd88\">\n",
              "    <div class=\"colab-df-container\">\n",
              "      <div>\n",
              "<style scoped>\n",
              "    .dataframe tbody tr th:only-of-type {\n",
              "        vertical-align: middle;\n",
              "    }\n",
              "\n",
              "    .dataframe tbody tr th {\n",
              "        vertical-align: top;\n",
              "    }\n",
              "\n",
              "    .dataframe thead th {\n",
              "        text-align: right;\n",
              "    }\n",
              "</style>\n",
              "<table border=\"1\" class=\"dataframe\">\n",
              "  <thead>\n",
              "    <tr style=\"text-align: right;\">\n",
              "      <th></th>\n",
              "      <th>Area</th>\n",
              "      <th>MajorAxisLength</th>\n",
              "      <th>MinorAxisLength</th>\n",
              "      <th>Eccentricity</th>\n",
              "      <th>ConvexArea</th>\n",
              "      <th>Extent</th>\n",
              "      <th>Perimeter</th>\n",
              "    </tr>\n",
              "  </thead>\n",
              "  <tbody>\n",
              "    <tr>\n",
              "      <th>0</th>\n",
              "      <td>2.5</td>\n",
              "      <td>442.246011</td>\n",
              "      <td>253.291155</td>\n",
              "      <td>0.819738</td>\n",
              "      <td>90546</td>\n",
              "      <td>0.758651</td>\n",
              "      <td>1184.040</td>\n",
              "    </tr>\n",
              "    <tr>\n",
              "      <th>1</th>\n",
              "      <td>2.5</td>\n",
              "      <td>406.690687</td>\n",
              "      <td>243.032436</td>\n",
              "      <td>0.801805</td>\n",
              "      <td>78789</td>\n",
              "      <td>0.684130</td>\n",
              "      <td>1121.786</td>\n",
              "    </tr>\n",
              "    <tr>\n",
              "      <th>2</th>\n",
              "      <td>2.5</td>\n",
              "      <td>442.267048</td>\n",
              "      <td>266.328318</td>\n",
              "      <td>0.798354</td>\n",
              "      <td>93717</td>\n",
              "      <td>0.637613</td>\n",
              "      <td>1208.575</td>\n",
              "    </tr>\n",
              "    <tr>\n",
              "      <th>3</th>\n",
              "      <td>2.5</td>\n",
              "      <td>286.540559</td>\n",
              "      <td>208.760042</td>\n",
              "      <td>0.684989</td>\n",
              "      <td>47336</td>\n",
              "      <td>0.699599</td>\n",
              "      <td>844.162</td>\n",
              "    </tr>\n",
              "    <tr>\n",
              "      <th>4</th>\n",
              "      <td>2.5</td>\n",
              "      <td>352.190770</td>\n",
              "      <td>290.827533</td>\n",
              "      <td>0.564011</td>\n",
              "      <td>81463</td>\n",
              "      <td>0.792772</td>\n",
              "      <td>1073.251</td>\n",
              "    </tr>\n",
              "    <tr>\n",
              "      <th>...</th>\n",
              "      <td>...</td>\n",
              "      <td>...</td>\n",
              "      <td>...</td>\n",
              "      <td>...</td>\n",
              "      <td>...</td>\n",
              "      <td>...</td>\n",
              "      <td>...</td>\n",
              "    </tr>\n",
              "    <tr>\n",
              "      <th>895</th>\n",
              "      <td>2.5</td>\n",
              "      <td>430.077308</td>\n",
              "      <td>247.838695</td>\n",
              "      <td>0.817263</td>\n",
              "      <td>85839</td>\n",
              "      <td>0.668793</td>\n",
              "      <td>1129.072</td>\n",
              "    </tr>\n",
              "    <tr>\n",
              "      <th>896</th>\n",
              "      <td>2.5</td>\n",
              "      <td>440.735698</td>\n",
              "      <td>259.293149</td>\n",
              "      <td>0.808629</td>\n",
              "      <td>90899</td>\n",
              "      <td>0.636476</td>\n",
              "      <td>1214.252</td>\n",
              "    </tr>\n",
              "    <tr>\n",
              "      <th>897</th>\n",
              "      <td>2.5</td>\n",
              "      <td>431.706981</td>\n",
              "      <td>298.837323</td>\n",
              "      <td>0.721684</td>\n",
              "      <td>106264</td>\n",
              "      <td>0.741099</td>\n",
              "      <td>1292.828</td>\n",
              "    </tr>\n",
              "    <tr>\n",
              "      <th>898</th>\n",
              "      <td>2.5</td>\n",
              "      <td>476.344094</td>\n",
              "      <td>254.176054</td>\n",
              "      <td>0.845739</td>\n",
              "      <td>97653</td>\n",
              "      <td>0.658798</td>\n",
              "      <td>1258.548</td>\n",
              "    </tr>\n",
              "    <tr>\n",
              "      <th>899</th>\n",
              "      <td>2.5</td>\n",
              "      <td>512.081774</td>\n",
              "      <td>215.271976</td>\n",
              "      <td>0.907345</td>\n",
              "      <td>89197</td>\n",
              "      <td>0.632020</td>\n",
              "      <td>1272.862</td>\n",
              "    </tr>\n",
              "  </tbody>\n",
              "</table>\n",
              "<p>900 rows × 7 columns</p>\n",
              "</div>\n",
              "      <button class=\"colab-df-convert\" onclick=\"convertToInteractive('df-28f95e4f-2b6b-4241-af0a-ba9ee305bd88')\"\n",
              "              title=\"Convert this dataframe to an interactive table.\"\n",
              "              style=\"display:none;\">\n",
              "        \n",
              "  <svg xmlns=\"http://www.w3.org/2000/svg\" height=\"24px\"viewBox=\"0 0 24 24\"\n",
              "       width=\"24px\">\n",
              "    <path d=\"M0 0h24v24H0V0z\" fill=\"none\"/>\n",
              "    <path d=\"M18.56 5.44l.94 2.06.94-2.06 2.06-.94-2.06-.94-.94-2.06-.94 2.06-2.06.94zm-11 1L8.5 8.5l.94-2.06 2.06-.94-2.06-.94L8.5 2.5l-.94 2.06-2.06.94zm10 10l.94 2.06.94-2.06 2.06-.94-2.06-.94-.94-2.06-.94 2.06-2.06.94z\"/><path d=\"M17.41 7.96l-1.37-1.37c-.4-.4-.92-.59-1.43-.59-.52 0-1.04.2-1.43.59L10.3 9.45l-7.72 7.72c-.78.78-.78 2.05 0 2.83L4 21.41c.39.39.9.59 1.41.59.51 0 1.02-.2 1.41-.59l7.78-7.78 2.81-2.81c.8-.78.8-2.07 0-2.86zM5.41 20L4 18.59l7.72-7.72 1.47 1.35L5.41 20z\"/>\n",
              "  </svg>\n",
              "      </button>\n",
              "      \n",
              "  <style>\n",
              "    .colab-df-container {\n",
              "      display:flex;\n",
              "      flex-wrap:wrap;\n",
              "      gap: 12px;\n",
              "    }\n",
              "\n",
              "    .colab-df-convert {\n",
              "      background-color: #E8F0FE;\n",
              "      border: none;\n",
              "      border-radius: 50%;\n",
              "      cursor: pointer;\n",
              "      display: none;\n",
              "      fill: #1967D2;\n",
              "      height: 32px;\n",
              "      padding: 0 0 0 0;\n",
              "      width: 32px;\n",
              "    }\n",
              "\n",
              "    .colab-df-convert:hover {\n",
              "      background-color: #E2EBFA;\n",
              "      box-shadow: 0px 1px 2px rgba(60, 64, 67, 0.3), 0px 1px 3px 1px rgba(60, 64, 67, 0.15);\n",
              "      fill: #174EA6;\n",
              "    }\n",
              "\n",
              "    [theme=dark] .colab-df-convert {\n",
              "      background-color: #3B4455;\n",
              "      fill: #D2E3FC;\n",
              "    }\n",
              "\n",
              "    [theme=dark] .colab-df-convert:hover {\n",
              "      background-color: #434B5C;\n",
              "      box-shadow: 0px 1px 3px 1px rgba(0, 0, 0, 0.15);\n",
              "      filter: drop-shadow(0px 1px 2px rgba(0, 0, 0, 0.3));\n",
              "      fill: #FFFFFF;\n",
              "    }\n",
              "  </style>\n",
              "\n",
              "      <script>\n",
              "        const buttonEl =\n",
              "          document.querySelector('#df-28f95e4f-2b6b-4241-af0a-ba9ee305bd88 button.colab-df-convert');\n",
              "        buttonEl.style.display =\n",
              "          google.colab.kernel.accessAllowed ? 'block' : 'none';\n",
              "\n",
              "        async function convertToInteractive(key) {\n",
              "          const element = document.querySelector('#df-28f95e4f-2b6b-4241-af0a-ba9ee305bd88');\n",
              "          const dataTable =\n",
              "            await google.colab.kernel.invokeFunction('convertToInteractive',\n",
              "                                                     [key], {});\n",
              "          if (!dataTable) return;\n",
              "\n",
              "          const docLinkHtml = 'Like what you see? Visit the ' +\n",
              "            '<a target=\"_blank\" href=https://colab.research.google.com/notebooks/data_table.ipynb>data table notebook</a>'\n",
              "            + ' to learn more about interactive tables.';\n",
              "          element.innerHTML = '';\n",
              "          dataTable['output_type'] = 'display_data';\n",
              "          await google.colab.output.renderOutput(dataTable, element);\n",
              "          const docLink = document.createElement('div');\n",
              "          docLink.innerHTML = docLinkHtml;\n",
              "          element.appendChild(docLink);\n",
              "        }\n",
              "      </script>\n",
              "    </div>\n",
              "  </div>\n",
              "  "
            ]
          },
          "metadata": {},
          "execution_count": 368
        }
      ]
    },
    {
      "cell_type": "code",
      "source": [
        "y=file.Class"
      ],
      "metadata": {
        "id": "zqYiRdowav8o"
      },
      "execution_count": null,
      "outputs": []
    },
    {
      "cell_type": "code",
      "source": [
        "from sklearn.model_selection import train_test_split\n",
        "x_train, x_test, y_train, y_test = train_test_split(x, y, test_size = 0.15, random_state =0)\n"
      ],
      "metadata": {
        "id": "f7QqQde2ayHA"
      },
      "execution_count": null,
      "outputs": []
    },
    {
      "cell_type": "code",
      "source": [
        "from sklearn.preprocessing import LabelEncoder\n",
        "model = LabelEncoder()\n",
        "label = model.fit_transform(file['Class'])\n",
        "label\n",
        " \n"
      ],
      "metadata": {
        "colab": {
          "base_uri": "https://localhost:8080/"
        },
        "id": "q84f_lgea31f",
        "outputId": "3e884696-c825-45ca-f029-febac96b905f"
      },
      "execution_count": null,
      "outputs": [
        {
          "output_type": "execute_result",
          "data": {
            "text/plain": [
              "array([1, 1, 1, 1, 1, 1, 1, 1, 1, 1, 1, 1, 1, 1, 1, 1, 1, 1, 1, 1, 1, 1,\n",
              "       1, 1, 1, 1, 1, 1, 1, 1, 1, 1, 1, 1, 1, 1, 1, 1, 1, 1, 1, 1, 1, 1,\n",
              "       1, 1, 1, 1, 1, 1, 1, 1, 1, 1, 1, 1, 1, 1, 1, 1, 1, 1, 1, 1, 1, 1,\n",
              "       1, 1, 1, 1, 1, 1, 1, 1, 1, 1, 1, 1, 1, 1, 1, 1, 1, 1, 1, 1, 1, 1,\n",
              "       1, 1, 1, 1, 1, 1, 1, 1, 1, 1, 1, 1, 1, 1, 1, 1, 1, 1, 1, 1, 1, 1,\n",
              "       1, 1, 1, 1, 1, 1, 1, 1, 1, 1, 1, 1, 1, 1, 1, 1, 1, 1, 1, 1, 1, 1,\n",
              "       1, 1, 1, 1, 1, 1, 1, 1, 1, 1, 1, 1, 1, 1, 1, 1, 1, 1, 1, 1, 1, 1,\n",
              "       1, 1, 1, 1, 1, 1, 1, 1, 1, 1, 1, 1, 1, 1, 1, 1, 1, 1, 1, 1, 1, 1,\n",
              "       1, 1, 1, 1, 1, 1, 1, 1, 1, 1, 1, 1, 1, 1, 1, 1, 1, 1, 1, 1, 1, 1,\n",
              "       1, 1, 1, 1, 1, 1, 1, 1, 1, 1, 1, 1, 1, 1, 1, 1, 1, 1, 1, 1, 1, 1,\n",
              "       1, 1, 1, 1, 1, 1, 1, 1, 1, 1, 1, 1, 1, 1, 1, 1, 1, 1, 1, 1, 1, 1,\n",
              "       1, 1, 1, 1, 1, 1, 1, 1, 1, 1, 1, 1, 1, 1, 1, 1, 1, 1, 1, 1, 1, 1,\n",
              "       1, 1, 1, 1, 1, 1, 1, 1, 1, 1, 1, 1, 1, 1, 1, 1, 1, 1, 1, 1, 1, 1,\n",
              "       1, 1, 1, 1, 1, 1, 1, 1, 1, 1, 1, 1, 1, 1, 1, 1, 1, 1, 1, 1, 1, 1,\n",
              "       1, 1, 1, 1, 1, 1, 1, 1, 1, 1, 1, 1, 1, 1, 1, 1, 1, 1, 1, 1, 1, 1,\n",
              "       1, 1, 1, 1, 1, 1, 1, 1, 1, 1, 1, 1, 1, 1, 1, 1, 1, 1, 1, 1, 1, 1,\n",
              "       1, 1, 1, 1, 1, 1, 1, 1, 1, 1, 1, 1, 1, 1, 1, 1, 1, 1, 1, 1, 1, 1,\n",
              "       1, 1, 1, 1, 1, 1, 1, 1, 1, 1, 1, 1, 1, 1, 1, 1, 1, 1, 1, 1, 1, 1,\n",
              "       1, 1, 1, 1, 1, 1, 1, 1, 1, 1, 1, 1, 1, 1, 1, 1, 1, 1, 1, 1, 1, 1,\n",
              "       1, 1, 1, 1, 1, 1, 1, 1, 1, 1, 1, 1, 1, 1, 1, 1, 1, 1, 1, 1, 1, 1,\n",
              "       1, 1, 1, 1, 1, 1, 1, 1, 1, 1, 0, 0, 0, 0, 0, 0, 0, 0, 0, 0, 0, 0,\n",
              "       0, 0, 0, 0, 0, 0, 0, 0, 0, 0, 0, 0, 0, 0, 0, 0, 0, 0, 0, 0, 0, 0,\n",
              "       0, 0, 0, 0, 0, 0, 0, 0, 0, 0, 0, 0, 0, 0, 0, 0, 0, 0, 0, 0, 0, 0,\n",
              "       0, 0, 0, 0, 0, 0, 0, 0, 0, 0, 0, 0, 0, 0, 0, 0, 0, 0, 0, 0, 0, 0,\n",
              "       0, 0, 0, 0, 0, 0, 0, 0, 0, 0, 0, 0, 0, 0, 0, 0, 0, 0, 0, 0, 0, 0,\n",
              "       0, 0, 0, 0, 0, 0, 0, 0, 0, 0, 0, 0, 0, 0, 0, 0, 0, 0, 0, 0, 0, 0,\n",
              "       0, 0, 0, 0, 0, 0, 0, 0, 0, 0, 0, 0, 0, 0, 0, 0, 0, 0, 0, 0, 0, 0,\n",
              "       0, 0, 0, 0, 0, 0, 0, 0, 0, 0, 0, 0, 0, 0, 0, 0, 0, 0, 0, 0, 0, 0,\n",
              "       0, 0, 0, 0, 0, 0, 0, 0, 0, 0, 0, 0, 0, 0, 0, 0, 0, 0, 0, 0, 0, 0,\n",
              "       0, 0, 0, 0, 0, 0, 0, 0, 0, 0, 0, 0, 0, 0, 0, 0, 0, 0, 0, 0, 0, 0,\n",
              "       0, 0, 0, 0, 0, 0, 0, 0, 0, 0, 0, 0, 0, 0, 0, 0, 0, 0, 0, 0, 0, 0,\n",
              "       0, 0, 0, 0, 0, 0, 0, 0, 0, 0, 0, 0, 0, 0, 0, 0, 0, 0, 0, 0, 0, 0,\n",
              "       0, 0, 0, 0, 0, 0, 0, 0, 0, 0, 0, 0, 0, 0, 0, 0, 0, 0, 0, 0, 0, 0,\n",
              "       0, 0, 0, 0, 0, 0, 0, 0, 0, 0, 0, 0, 0, 0, 0, 0, 0, 0, 0, 0, 0, 0,\n",
              "       0, 0, 0, 0, 0, 0, 0, 0, 0, 0, 0, 0, 0, 0, 0, 0, 0, 0, 0, 0, 0, 0,\n",
              "       0, 0, 0, 0, 0, 0, 0, 0, 0, 0, 0, 0, 0, 0, 0, 0, 0, 0, 0, 0, 0, 0,\n",
              "       0, 0, 0, 0, 0, 0, 0, 0, 0, 0, 0, 0, 0, 0, 0, 0, 0, 0, 0, 0, 0, 0,\n",
              "       0, 0, 0, 0, 0, 0, 0, 0, 0, 0, 0, 0, 0, 0, 0, 0, 0, 0, 0, 0, 0, 0,\n",
              "       0, 0, 0, 0, 0, 0, 0, 0, 0, 0, 0, 0, 0, 0, 0, 0, 0, 0, 0, 0, 0, 0,\n",
              "       0, 0, 0, 0, 0, 0, 0, 0, 0, 0, 0, 0, 0, 0, 0, 0, 0, 0, 0, 0, 0, 0,\n",
              "       0, 0, 0, 0, 0, 0, 0, 0, 0, 0, 0, 0, 0, 0, 0, 0, 0, 0, 0, 0])"
            ]
          },
          "metadata": {},
          "execution_count": 371
        }
      ]
    },
    {
      "cell_type": "code",
      "source": [
        "file['Class']=label\n",
        "file"
      ],
      "metadata": {
        "colab": {
          "base_uri": "https://localhost:8080/",
          "height": 423
        },
        "id": "mIboDD7ta8zu",
        "outputId": "1b938927-a546-4cb8-886e-de57e6e25658"
      },
      "execution_count": null,
      "outputs": [
        {
          "output_type": "execute_result",
          "data": {
            "text/plain": [
              "     Area  MajorAxisLength  MinorAxisLength  Eccentricity  ConvexArea  \\\n",
              "0     2.5       442.246011       253.291155      0.819738       90546   \n",
              "1     2.5       406.690687       243.032436      0.801805       78789   \n",
              "2     2.5       442.267048       266.328318      0.798354       93717   \n",
              "3     2.5       286.540559       208.760042      0.684989       47336   \n",
              "4     2.5       352.190770       290.827533      0.564011       81463   \n",
              "..    ...              ...              ...           ...         ...   \n",
              "895   2.5       430.077308       247.838695      0.817263       85839   \n",
              "896   2.5       440.735698       259.293149      0.808629       90899   \n",
              "897   2.5       431.706981       298.837323      0.721684      106264   \n",
              "898   2.5       476.344094       254.176054      0.845739       97653   \n",
              "899   2.5       512.081774       215.271976      0.907345       89197   \n",
              "\n",
              "       Extent  Perimeter  Class  \n",
              "0    0.758651   1184.040      1  \n",
              "1    0.684130   1121.786      1  \n",
              "2    0.637613   1208.575      1  \n",
              "3    0.699599    844.162      1  \n",
              "4    0.792772   1073.251      1  \n",
              "..        ...        ...    ...  \n",
              "895  0.668793   1129.072      0  \n",
              "896  0.636476   1214.252      0  \n",
              "897  0.741099   1292.828      0  \n",
              "898  0.658798   1258.548      0  \n",
              "899  0.632020   1272.862      0  \n",
              "\n",
              "[900 rows x 8 columns]"
            ],
            "text/html": [
              "\n",
              "  <div id=\"df-e1255314-1715-4510-b435-3d8b55872782\">\n",
              "    <div class=\"colab-df-container\">\n",
              "      <div>\n",
              "<style scoped>\n",
              "    .dataframe tbody tr th:only-of-type {\n",
              "        vertical-align: middle;\n",
              "    }\n",
              "\n",
              "    .dataframe tbody tr th {\n",
              "        vertical-align: top;\n",
              "    }\n",
              "\n",
              "    .dataframe thead th {\n",
              "        text-align: right;\n",
              "    }\n",
              "</style>\n",
              "<table border=\"1\" class=\"dataframe\">\n",
              "  <thead>\n",
              "    <tr style=\"text-align: right;\">\n",
              "      <th></th>\n",
              "      <th>Area</th>\n",
              "      <th>MajorAxisLength</th>\n",
              "      <th>MinorAxisLength</th>\n",
              "      <th>Eccentricity</th>\n",
              "      <th>ConvexArea</th>\n",
              "      <th>Extent</th>\n",
              "      <th>Perimeter</th>\n",
              "      <th>Class</th>\n",
              "    </tr>\n",
              "  </thead>\n",
              "  <tbody>\n",
              "    <tr>\n",
              "      <th>0</th>\n",
              "      <td>2.5</td>\n",
              "      <td>442.246011</td>\n",
              "      <td>253.291155</td>\n",
              "      <td>0.819738</td>\n",
              "      <td>90546</td>\n",
              "      <td>0.758651</td>\n",
              "      <td>1184.040</td>\n",
              "      <td>1</td>\n",
              "    </tr>\n",
              "    <tr>\n",
              "      <th>1</th>\n",
              "      <td>2.5</td>\n",
              "      <td>406.690687</td>\n",
              "      <td>243.032436</td>\n",
              "      <td>0.801805</td>\n",
              "      <td>78789</td>\n",
              "      <td>0.684130</td>\n",
              "      <td>1121.786</td>\n",
              "      <td>1</td>\n",
              "    </tr>\n",
              "    <tr>\n",
              "      <th>2</th>\n",
              "      <td>2.5</td>\n",
              "      <td>442.267048</td>\n",
              "      <td>266.328318</td>\n",
              "      <td>0.798354</td>\n",
              "      <td>93717</td>\n",
              "      <td>0.637613</td>\n",
              "      <td>1208.575</td>\n",
              "      <td>1</td>\n",
              "    </tr>\n",
              "    <tr>\n",
              "      <th>3</th>\n",
              "      <td>2.5</td>\n",
              "      <td>286.540559</td>\n",
              "      <td>208.760042</td>\n",
              "      <td>0.684989</td>\n",
              "      <td>47336</td>\n",
              "      <td>0.699599</td>\n",
              "      <td>844.162</td>\n",
              "      <td>1</td>\n",
              "    </tr>\n",
              "    <tr>\n",
              "      <th>4</th>\n",
              "      <td>2.5</td>\n",
              "      <td>352.190770</td>\n",
              "      <td>290.827533</td>\n",
              "      <td>0.564011</td>\n",
              "      <td>81463</td>\n",
              "      <td>0.792772</td>\n",
              "      <td>1073.251</td>\n",
              "      <td>1</td>\n",
              "    </tr>\n",
              "    <tr>\n",
              "      <th>...</th>\n",
              "      <td>...</td>\n",
              "      <td>...</td>\n",
              "      <td>...</td>\n",
              "      <td>...</td>\n",
              "      <td>...</td>\n",
              "      <td>...</td>\n",
              "      <td>...</td>\n",
              "      <td>...</td>\n",
              "    </tr>\n",
              "    <tr>\n",
              "      <th>895</th>\n",
              "      <td>2.5</td>\n",
              "      <td>430.077308</td>\n",
              "      <td>247.838695</td>\n",
              "      <td>0.817263</td>\n",
              "      <td>85839</td>\n",
              "      <td>0.668793</td>\n",
              "      <td>1129.072</td>\n",
              "      <td>0</td>\n",
              "    </tr>\n",
              "    <tr>\n",
              "      <th>896</th>\n",
              "      <td>2.5</td>\n",
              "      <td>440.735698</td>\n",
              "      <td>259.293149</td>\n",
              "      <td>0.808629</td>\n",
              "      <td>90899</td>\n",
              "      <td>0.636476</td>\n",
              "      <td>1214.252</td>\n",
              "      <td>0</td>\n",
              "    </tr>\n",
              "    <tr>\n",
              "      <th>897</th>\n",
              "      <td>2.5</td>\n",
              "      <td>431.706981</td>\n",
              "      <td>298.837323</td>\n",
              "      <td>0.721684</td>\n",
              "      <td>106264</td>\n",
              "      <td>0.741099</td>\n",
              "      <td>1292.828</td>\n",
              "      <td>0</td>\n",
              "    </tr>\n",
              "    <tr>\n",
              "      <th>898</th>\n",
              "      <td>2.5</td>\n",
              "      <td>476.344094</td>\n",
              "      <td>254.176054</td>\n",
              "      <td>0.845739</td>\n",
              "      <td>97653</td>\n",
              "      <td>0.658798</td>\n",
              "      <td>1258.548</td>\n",
              "      <td>0</td>\n",
              "    </tr>\n",
              "    <tr>\n",
              "      <th>899</th>\n",
              "      <td>2.5</td>\n",
              "      <td>512.081774</td>\n",
              "      <td>215.271976</td>\n",
              "      <td>0.907345</td>\n",
              "      <td>89197</td>\n",
              "      <td>0.632020</td>\n",
              "      <td>1272.862</td>\n",
              "      <td>0</td>\n",
              "    </tr>\n",
              "  </tbody>\n",
              "</table>\n",
              "<p>900 rows × 8 columns</p>\n",
              "</div>\n",
              "      <button class=\"colab-df-convert\" onclick=\"convertToInteractive('df-e1255314-1715-4510-b435-3d8b55872782')\"\n",
              "              title=\"Convert this dataframe to an interactive table.\"\n",
              "              style=\"display:none;\">\n",
              "        \n",
              "  <svg xmlns=\"http://www.w3.org/2000/svg\" height=\"24px\"viewBox=\"0 0 24 24\"\n",
              "       width=\"24px\">\n",
              "    <path d=\"M0 0h24v24H0V0z\" fill=\"none\"/>\n",
              "    <path d=\"M18.56 5.44l.94 2.06.94-2.06 2.06-.94-2.06-.94-.94-2.06-.94 2.06-2.06.94zm-11 1L8.5 8.5l.94-2.06 2.06-.94-2.06-.94L8.5 2.5l-.94 2.06-2.06.94zm10 10l.94 2.06.94-2.06 2.06-.94-2.06-.94-.94-2.06-.94 2.06-2.06.94z\"/><path d=\"M17.41 7.96l-1.37-1.37c-.4-.4-.92-.59-1.43-.59-.52 0-1.04.2-1.43.59L10.3 9.45l-7.72 7.72c-.78.78-.78 2.05 0 2.83L4 21.41c.39.39.9.59 1.41.59.51 0 1.02-.2 1.41-.59l7.78-7.78 2.81-2.81c.8-.78.8-2.07 0-2.86zM5.41 20L4 18.59l7.72-7.72 1.47 1.35L5.41 20z\"/>\n",
              "  </svg>\n",
              "      </button>\n",
              "      \n",
              "  <style>\n",
              "    .colab-df-container {\n",
              "      display:flex;\n",
              "      flex-wrap:wrap;\n",
              "      gap: 12px;\n",
              "    }\n",
              "\n",
              "    .colab-df-convert {\n",
              "      background-color: #E8F0FE;\n",
              "      border: none;\n",
              "      border-radius: 50%;\n",
              "      cursor: pointer;\n",
              "      display: none;\n",
              "      fill: #1967D2;\n",
              "      height: 32px;\n",
              "      padding: 0 0 0 0;\n",
              "      width: 32px;\n",
              "    }\n",
              "\n",
              "    .colab-df-convert:hover {\n",
              "      background-color: #E2EBFA;\n",
              "      box-shadow: 0px 1px 2px rgba(60, 64, 67, 0.3), 0px 1px 3px 1px rgba(60, 64, 67, 0.15);\n",
              "      fill: #174EA6;\n",
              "    }\n",
              "\n",
              "    [theme=dark] .colab-df-convert {\n",
              "      background-color: #3B4455;\n",
              "      fill: #D2E3FC;\n",
              "    }\n",
              "\n",
              "    [theme=dark] .colab-df-convert:hover {\n",
              "      background-color: #434B5C;\n",
              "      box-shadow: 0px 1px 3px 1px rgba(0, 0, 0, 0.15);\n",
              "      filter: drop-shadow(0px 1px 2px rgba(0, 0, 0, 0.3));\n",
              "      fill: #FFFFFF;\n",
              "    }\n",
              "  </style>\n",
              "\n",
              "      <script>\n",
              "        const buttonEl =\n",
              "          document.querySelector('#df-e1255314-1715-4510-b435-3d8b55872782 button.colab-df-convert');\n",
              "        buttonEl.style.display =\n",
              "          google.colab.kernel.accessAllowed ? 'block' : 'none';\n",
              "\n",
              "        async function convertToInteractive(key) {\n",
              "          const element = document.querySelector('#df-e1255314-1715-4510-b435-3d8b55872782');\n",
              "          const dataTable =\n",
              "            await google.colab.kernel.invokeFunction('convertToInteractive',\n",
              "                                                     [key], {});\n",
              "          if (!dataTable) return;\n",
              "\n",
              "          const docLinkHtml = 'Like what you see? Visit the ' +\n",
              "            '<a target=\"_blank\" href=https://colab.research.google.com/notebooks/data_table.ipynb>data table notebook</a>'\n",
              "            + ' to learn more about interactive tables.';\n",
              "          element.innerHTML = '';\n",
              "          dataTable['output_type'] = 'display_data';\n",
              "          await google.colab.output.renderOutput(dataTable, element);\n",
              "          const docLink = document.createElement('div');\n",
              "          docLink.innerHTML = docLinkHtml;\n",
              "          element.appendChild(docLink);\n",
              "        }\n",
              "      </script>\n",
              "    </div>\n",
              "  </div>\n",
              "  "
            ]
          },
          "metadata": {},
          "execution_count": 372
        }
      ]
    },
    {
      "cell_type": "markdown",
      "source": [
        "                                  USING LOGISTIC REGRESSION"
      ],
      "metadata": {
        "id": "spJJjWolmHNb"
      }
    },
    {
      "cell_type": "code",
      "source": [
        "from sklearn.linear_model import LogisticRegression"
      ],
      "metadata": {
        "id": "zg7LCG8qbGD-"
      },
      "execution_count": null,
      "outputs": []
    },
    {
      "cell_type": "code",
      "source": [
        "model=LogisticRegression()\n",
        "model.fit(x_train,y_train)"
      ],
      "metadata": {
        "colab": {
          "base_uri": "https://localhost:8080/"
        },
        "id": "YXDqkPxzbJ2A",
        "outputId": "626156fd-4070-4a9c-ef0a-24bc3e3b5932"
      },
      "execution_count": null,
      "outputs": [
        {
          "output_type": "execute_result",
          "data": {
            "text/plain": [
              "LogisticRegression()"
            ]
          },
          "metadata": {},
          "execution_count": 374
        }
      ]
    },
    {
      "cell_type": "code",
      "source": [
        "ypred=model.predict(x_test)\n",
        "model.predict_proba(x_test)"
      ],
      "metadata": {
        "id": "OWuP9mFCbMTg",
        "colab": {
          "base_uri": "https://localhost:8080/"
        },
        "outputId": "be40698e-55d3-4c4f-a8f7-3fb756dd8903"
      },
      "execution_count": null,
      "outputs": [
        {
          "output_type": "execute_result",
          "data": {
            "text/plain": [
              "array([[8.03370283e-01, 1.96629717e-01],\n",
              "       [2.08042773e-01, 7.91957227e-01],\n",
              "       [7.26341534e-01, 2.73658466e-01],\n",
              "       [1.17886139e-01, 8.82113861e-01],\n",
              "       [9.36294406e-01, 6.37055937e-02],\n",
              "       [9.56736511e-01, 4.32634891e-02],\n",
              "       [8.01436696e-01, 1.98563304e-01],\n",
              "       [9.03120341e-02, 9.09687966e-01],\n",
              "       [1.00424973e-01, 8.99575027e-01],\n",
              "       [6.24739445e-01, 3.75260555e-01],\n",
              "       [9.93942321e-01, 6.05767906e-03],\n",
              "       [1.29387170e-01, 8.70612830e-01],\n",
              "       [5.81915655e-02, 9.41808434e-01],\n",
              "       [4.19596377e-01, 5.80403623e-01],\n",
              "       [8.12050022e-01, 1.87949978e-01],\n",
              "       [4.14080441e-01, 5.85919559e-01],\n",
              "       [3.67438164e-01, 6.32561836e-01],\n",
              "       [8.83391663e-01, 1.16608337e-01],\n",
              "       [7.26838617e-01, 2.73161383e-01],\n",
              "       [6.33812517e-01, 3.66187483e-01],\n",
              "       [3.11573947e-01, 6.88426053e-01],\n",
              "       [9.45175157e-01, 5.48248432e-02],\n",
              "       [9.91469673e-01, 8.53032749e-03],\n",
              "       [9.99014373e-01, 9.85627258e-04],\n",
              "       [3.99359035e-01, 6.00640965e-01],\n",
              "       [2.28242864e-01, 7.71757136e-01],\n",
              "       [3.87280887e-02, 9.61271911e-01],\n",
              "       [8.67988634e-01, 1.32011366e-01],\n",
              "       [6.93441681e-01, 3.06558319e-01],\n",
              "       [8.63532239e-01, 1.36467761e-01],\n",
              "       [1.05652737e-01, 8.94347263e-01],\n",
              "       [9.98502525e-01, 1.49747543e-03],\n",
              "       [1.35194185e-01, 8.64805815e-01],\n",
              "       [4.86231772e-01, 5.13768228e-01],\n",
              "       [9.97554418e-01, 2.44558167e-03],\n",
              "       [9.99996432e-01, 3.56800674e-06],\n",
              "       [1.87876981e-01, 8.12123019e-01],\n",
              "       [2.91914496e-01, 7.08085504e-01],\n",
              "       [9.74400813e-01, 2.55991867e-02],\n",
              "       [6.75285571e-01, 3.24714429e-01],\n",
              "       [1.24412884e-01, 8.75587116e-01],\n",
              "       [3.17160531e-02, 9.68283947e-01],\n",
              "       [5.12874527e-02, 9.48712547e-01],\n",
              "       [5.38742639e-01, 4.61257361e-01],\n",
              "       [7.09725792e-01, 2.90274208e-01],\n",
              "       [9.97365384e-01, 2.63461551e-03],\n",
              "       [1.20201012e-01, 8.79798988e-01],\n",
              "       [6.45409388e-02, 9.35459061e-01],\n",
              "       [1.75317096e-01, 8.24682904e-01],\n",
              "       [9.76501017e-01, 2.34989833e-02],\n",
              "       [2.09896644e-01, 7.90103356e-01],\n",
              "       [1.47277935e-01, 8.52722065e-01],\n",
              "       [8.83503958e-02, 9.11649604e-01],\n",
              "       [1.55726423e-01, 8.44273577e-01],\n",
              "       [9.92718254e-01, 7.28174636e-03],\n",
              "       [6.46373903e-02, 9.35362610e-01],\n",
              "       [5.77123247e-02, 9.42287675e-01],\n",
              "       [9.99030845e-01, 9.69154938e-04],\n",
              "       [2.62315884e-01, 7.37684116e-01],\n",
              "       [5.71320672e-02, 9.42867933e-01],\n",
              "       [9.93762989e-01, 6.23701097e-03],\n",
              "       [1.06732228e-01, 8.93267772e-01],\n",
              "       [3.53837548e-02, 9.64616245e-01],\n",
              "       [8.80655278e-01, 1.19344722e-01],\n",
              "       [4.43012788e-01, 5.56987212e-01],\n",
              "       [8.36292145e-01, 1.63707855e-01],\n",
              "       [9.65302168e-01, 3.46978322e-02],\n",
              "       [8.95905086e-01, 1.04094914e-01],\n",
              "       [5.99941600e-01, 4.00058400e-01],\n",
              "       [9.99548663e-01, 4.51336651e-04],\n",
              "       [8.53772715e-01, 1.46227285e-01],\n",
              "       [9.99973661e-01, 2.63390039e-05],\n",
              "       [1.38281354e-01, 8.61718646e-01],\n",
              "       [9.99230559e-01, 7.69440981e-04],\n",
              "       [2.93975896e-01, 7.06024104e-01],\n",
              "       [6.99397956e-01, 3.00602044e-01],\n",
              "       [7.95805741e-01, 2.04194259e-01],\n",
              "       [6.32427617e-02, 9.36757238e-01],\n",
              "       [3.64845314e-01, 6.35154686e-01],\n",
              "       [3.12578980e-01, 6.87421020e-01],\n",
              "       [1.28926138e-01, 8.71073862e-01],\n",
              "       [9.74963523e-01, 2.50364772e-02],\n",
              "       [9.97550100e-01, 2.44989971e-03],\n",
              "       [2.04709206e-02, 9.79529079e-01],\n",
              "       [8.70523764e-01, 1.29476236e-01],\n",
              "       [9.30826558e-01, 6.91734423e-02],\n",
              "       [9.28210102e-01, 7.17898978e-02],\n",
              "       [9.99999995e-01, 4.70811638e-09],\n",
              "       [1.13178535e-01, 8.86821465e-01],\n",
              "       [2.96203210e-01, 7.03796790e-01],\n",
              "       [4.86659471e-01, 5.13340529e-01],\n",
              "       [2.38802161e-01, 7.61197839e-01],\n",
              "       [8.98419049e-01, 1.01580951e-01],\n",
              "       [7.67327440e-01, 2.32672560e-01],\n",
              "       [7.90927065e-01, 2.09072935e-01],\n",
              "       [9.43233090e-01, 5.67669103e-02],\n",
              "       [1.43491858e-01, 8.56508142e-01],\n",
              "       [9.88206591e-01, 1.17934087e-02],\n",
              "       [9.68390745e-01, 3.16092553e-02],\n",
              "       [8.44188210e-02, 9.15581179e-01],\n",
              "       [9.77579881e-01, 2.24201187e-02],\n",
              "       [3.36408298e-02, 9.66359170e-01],\n",
              "       [5.94996869e-02, 9.40500313e-01],\n",
              "       [8.45635480e-01, 1.54364520e-01],\n",
              "       [8.44494888e-01, 1.55505112e-01],\n",
              "       [5.14194878e-01, 4.85805122e-01],\n",
              "       [9.95069491e-01, 4.93050865e-03],\n",
              "       [5.16787068e-01, 4.83212932e-01],\n",
              "       [9.98676175e-01, 1.32382497e-03],\n",
              "       [9.99945381e-01, 5.46188810e-05],\n",
              "       [2.49582436e-01, 7.50417564e-01],\n",
              "       [4.34439545e-02, 9.56556046e-01],\n",
              "       [9.90486623e-01, 9.51337685e-03],\n",
              "       [2.22170617e-02, 9.77782938e-01],\n",
              "       [9.76261351e-01, 2.37386487e-02],\n",
              "       [7.73678141e-01, 2.26321859e-01],\n",
              "       [8.77308832e-01, 1.22691168e-01],\n",
              "       [8.07648960e-01, 1.92351040e-01],\n",
              "       [2.59668425e-02, 9.74033157e-01],\n",
              "       [6.05197958e-02, 9.39480204e-01],\n",
              "       [9.88612746e-01, 1.13872536e-02],\n",
              "       [9.99579723e-01, 4.20276974e-04],\n",
              "       [9.99164210e-01, 8.35790123e-04],\n",
              "       [6.55129826e-01, 3.44870174e-01],\n",
              "       [2.05682672e-01, 7.94317328e-01],\n",
              "       [4.87318526e-01, 5.12681474e-01],\n",
              "       [8.79639918e-01, 1.20360082e-01],\n",
              "       [8.40511716e-02, 9.15948828e-01],\n",
              "       [2.33370732e-01, 7.66629268e-01],\n",
              "       [5.37666750e-02, 9.46233325e-01],\n",
              "       [1.01804746e-01, 8.98195254e-01],\n",
              "       [1.81459083e-01, 8.18540917e-01],\n",
              "       [7.12808728e-01, 2.87191272e-01],\n",
              "       [9.54362243e-01, 4.56377569e-02],\n",
              "       [1.10512082e-01, 8.89487918e-01]])"
            ]
          },
          "metadata": {},
          "execution_count": 375
        }
      ]
    },
    {
      "cell_type": "code",
      "source": [
        "y_pred=model.predict(x_test)\n",
        "y_pred\n"
      ],
      "metadata": {
        "colab": {
          "base_uri": "https://localhost:8080/"
        },
        "id": "mS5t8xPobPc_",
        "outputId": "d969ffdb-e066-4833-b60b-02025bbbed65"
      },
      "execution_count": null,
      "outputs": [
        {
          "output_type": "execute_result",
          "data": {
            "text/plain": [
              "array([0, 1, 0, 1, 0, 0, 0, 1, 1, 0, 0, 1, 1, 1, 0, 1, 1, 0, 0, 0, 1, 0,\n",
              "       0, 0, 1, 1, 1, 0, 0, 0, 1, 0, 1, 1, 0, 0, 1, 1, 0, 0, 1, 1, 1, 0,\n",
              "       0, 0, 1, 1, 1, 0, 1, 1, 1, 1, 0, 1, 1, 0, 1, 1, 0, 1, 1, 0, 1, 0,\n",
              "       0, 0, 0, 0, 0, 0, 1, 0, 1, 0, 0, 1, 1, 1, 1, 0, 0, 1, 0, 0, 0, 0,\n",
              "       1, 1, 1, 1, 0, 0, 0, 0, 1, 0, 0, 1, 0, 1, 1, 0, 0, 0, 0, 0, 0, 0,\n",
              "       1, 1, 0, 1, 0, 0, 0, 0, 1, 1, 0, 0, 0, 0, 1, 1, 0, 1, 1, 1, 1, 1,\n",
              "       0, 0, 1])"
            ]
          },
          "metadata": {},
          "execution_count": 376
        }
      ]
    },
    {
      "cell_type": "code",
      "source": [
        "from sklearn.metrics import accuracy_score,confusion_matrix,classification_report"
      ],
      "metadata": {
        "id": "iMiznfvalhR6"
      },
      "execution_count": null,
      "outputs": []
    },
    {
      "cell_type": "code",
      "source": [
        "accuracy_score(y_test,ypred)"
      ],
      "metadata": {
        "colab": {
          "base_uri": "https://localhost:8080/"
        },
        "id": "khlIGEJ7lxJb",
        "outputId": "0cdf6432-a619-4abb-e823-db7cb09d20e5"
      },
      "execution_count": null,
      "outputs": [
        {
          "output_type": "execute_result",
          "data": {
            "text/plain": [
              "0.9037037037037037"
            ]
          },
          "metadata": {},
          "execution_count": 425
        }
      ]
    },
    {
      "cell_type": "code",
      "source": [
        "confusion_matrix(y_test,ypred)"
      ],
      "metadata": {
        "colab": {
          "base_uri": "https://localhost:8080/"
        },
        "id": "-QoJFIyFl1NV",
        "outputId": "69d0cea1-2e78-4ff1-a55e-734a77768181"
      },
      "execution_count": null,
      "outputs": [
        {
          "output_type": "execute_result",
          "data": {
            "text/plain": [
              "array([[71,  6],\n",
              "       [ 7, 51]])"
            ]
          },
          "metadata": {},
          "execution_count": 428
        }
      ]
    },
    {
      "cell_type": "code",
      "source": [
        "classification_report(y_test,ypred)"
      ],
      "metadata": {
        "colab": {
          "base_uri": "https://localhost:8080/",
          "height": 72
        },
        "id": "EQFpm9irl9om",
        "outputId": "2250d3de-f058-4258-d091-6b6e72e7803d"
      },
      "execution_count": null,
      "outputs": [
        {
          "output_type": "execute_result",
          "data": {
            "text/plain": [
              "'              precision    recall  f1-score   support\\n\\n           0       0.91      0.92      0.92        77\\n           1       0.89      0.88      0.89        58\\n\\n    accuracy                           0.90       135\\n   macro avg       0.90      0.90      0.90       135\\nweighted avg       0.90      0.90      0.90       135\\n'"
            ],
            "application/vnd.google.colaboratory.intrinsic+json": {
              "type": "string"
            }
          },
          "metadata": {},
          "execution_count": 429
        }
      ]
    },
    {
      "cell_type": "markdown",
      "source": [
        "                            USING DECISION TREE"
      ],
      "metadata": {
        "id": "1LeHXndab_jy"
      }
    },
    {
      "cell_type": "code",
      "source": [
        "from sklearn.tree import DecisionTreeClassifier\n",
        "model=DecisionTreeClassifier()"
      ],
      "metadata": {
        "id": "m16HdjncbTQf"
      },
      "execution_count": null,
      "outputs": []
    },
    {
      "cell_type": "code",
      "source": [
        "model.fit(x_train,y_train)"
      ],
      "metadata": {
        "colab": {
          "base_uri": "https://localhost:8080/"
        },
        "id": "AxfAw-oBbXJp",
        "outputId": "8ee247ce-e0ab-4bc0-fb17-b7c99857de7a"
      },
      "execution_count": null,
      "outputs": [
        {
          "output_type": "execute_result",
          "data": {
            "text/plain": [
              "DecisionTreeClassifier()"
            ]
          },
          "metadata": {},
          "execution_count": 378
        }
      ]
    },
    {
      "cell_type": "code",
      "source": [
        "ypred=model.predict(x_test)\n",
        "model.predict_proba(x_test)\n"
      ],
      "metadata": {
        "colab": {
          "base_uri": "https://localhost:8080/"
        },
        "id": "PTqvWCjqbZgN",
        "outputId": "62c24632-e48f-4140-cf92-54e0158f08d1"
      },
      "execution_count": null,
      "outputs": [
        {
          "output_type": "execute_result",
          "data": {
            "text/plain": [
              "array([[1., 0.],\n",
              "       [0., 1.],\n",
              "       [1., 0.],\n",
              "       [1., 0.],\n",
              "       [0., 1.],\n",
              "       [1., 0.],\n",
              "       [1., 0.],\n",
              "       [0., 1.],\n",
              "       [0., 1.],\n",
              "       [0., 1.],\n",
              "       [1., 0.],\n",
              "       [1., 0.],\n",
              "       [0., 1.],\n",
              "       [1., 0.],\n",
              "       [1., 0.],\n",
              "       [1., 0.],\n",
              "       [1., 0.],\n",
              "       [1., 0.],\n",
              "       [1., 0.],\n",
              "       [1., 0.],\n",
              "       [0., 1.],\n",
              "       [1., 0.],\n",
              "       [1., 0.],\n",
              "       [1., 0.],\n",
              "       [1., 0.],\n",
              "       [0., 1.],\n",
              "       [0., 1.],\n",
              "       [1., 0.],\n",
              "       [1., 0.],\n",
              "       [1., 0.],\n",
              "       [0., 1.],\n",
              "       [1., 0.],\n",
              "       [0., 1.],\n",
              "       [1., 0.],\n",
              "       [1., 0.],\n",
              "       [1., 0.],\n",
              "       [0., 1.],\n",
              "       [0., 1.],\n",
              "       [1., 0.],\n",
              "       [1., 0.],\n",
              "       [0., 1.],\n",
              "       [0., 1.],\n",
              "       [1., 0.],\n",
              "       [0., 1.],\n",
              "       [1., 0.],\n",
              "       [1., 0.],\n",
              "       [0., 1.],\n",
              "       [0., 1.],\n",
              "       [0., 1.],\n",
              "       [1., 0.],\n",
              "       [0., 1.],\n",
              "       [0., 1.],\n",
              "       [0., 1.],\n",
              "       [0., 1.],\n",
              "       [1., 0.],\n",
              "       [0., 1.],\n",
              "       [0., 1.],\n",
              "       [1., 0.],\n",
              "       [0., 1.],\n",
              "       [0., 1.],\n",
              "       [1., 0.],\n",
              "       [0., 1.],\n",
              "       [0., 1.],\n",
              "       [1., 0.],\n",
              "       [1., 0.],\n",
              "       [1., 0.],\n",
              "       [1., 0.],\n",
              "       [1., 0.],\n",
              "       [0., 1.],\n",
              "       [1., 0.],\n",
              "       [1., 0.],\n",
              "       [1., 0.],\n",
              "       [1., 0.],\n",
              "       [1., 0.],\n",
              "       [0., 1.],\n",
              "       [0., 1.],\n",
              "       [1., 0.],\n",
              "       [0., 1.],\n",
              "       [0., 1.],\n",
              "       [1., 0.],\n",
              "       [0., 1.],\n",
              "       [1., 0.],\n",
              "       [1., 0.],\n",
              "       [1., 0.],\n",
              "       [1., 0.],\n",
              "       [1., 0.],\n",
              "       [1., 0.],\n",
              "       [1., 0.],\n",
              "       [0., 1.],\n",
              "       [0., 1.],\n",
              "       [1., 0.],\n",
              "       [0., 1.],\n",
              "       [1., 0.],\n",
              "       [0., 1.],\n",
              "       [1., 0.],\n",
              "       [1., 0.],\n",
              "       [0., 1.],\n",
              "       [1., 0.],\n",
              "       [0., 1.],\n",
              "       [0., 1.],\n",
              "       [1., 0.],\n",
              "       [0., 1.],\n",
              "       [0., 1.],\n",
              "       [1., 0.],\n",
              "       [1., 0.],\n",
              "       [1., 0.],\n",
              "       [1., 0.],\n",
              "       [1., 0.],\n",
              "       [1., 0.],\n",
              "       [1., 0.],\n",
              "       [1., 0.],\n",
              "       [0., 1.],\n",
              "       [1., 0.],\n",
              "       [0., 1.],\n",
              "       [1., 0.],\n",
              "       [0., 1.],\n",
              "       [1., 0.],\n",
              "       [1., 0.],\n",
              "       [0., 1.],\n",
              "       [0., 1.],\n",
              "       [1., 0.],\n",
              "       [1., 0.],\n",
              "       [1., 0.],\n",
              "       [1., 0.],\n",
              "       [0., 1.],\n",
              "       [0., 1.],\n",
              "       [1., 0.],\n",
              "       [0., 1.],\n",
              "       [1., 0.],\n",
              "       [0., 1.],\n",
              "       [0., 1.],\n",
              "       [0., 1.],\n",
              "       [1., 0.],\n",
              "       [0., 1.],\n",
              "       [0., 1.]])"
            ]
          },
          "metadata": {},
          "execution_count": 379
        }
      ]
    },
    {
      "cell_type": "code",
      "source": [
        "from sklearn.metrics import accuracy_score,confusion_matrix,classification_report"
      ],
      "metadata": {
        "id": "LV0Ty7eUbbyx"
      },
      "execution_count": null,
      "outputs": []
    },
    {
      "cell_type": "code",
      "source": [
        "accuracy_score(y_test,ypred)"
      ],
      "metadata": {
        "colab": {
          "base_uri": "https://localhost:8080/"
        },
        "id": "IaLokvUYbfja",
        "outputId": "c76d042c-9c32-45e2-bf82-c2ccc5469e30"
      },
      "execution_count": null,
      "outputs": [
        {
          "output_type": "execute_result",
          "data": {
            "text/plain": [
              "0.8"
            ]
          },
          "metadata": {},
          "execution_count": 381
        }
      ]
    },
    {
      "cell_type": "code",
      "source": [
        "confusion_matrix(y_test,ypred)"
      ],
      "metadata": {
        "colab": {
          "base_uri": "https://localhost:8080/"
        },
        "id": "-1vMQO_cbizj",
        "outputId": "0afe266e-caed-4aa8-981b-7f4fcd7b318a"
      },
      "execution_count": null,
      "outputs": [
        {
          "output_type": "execute_result",
          "data": {
            "text/plain": [
              "array([[64, 13],\n",
              "       [14, 44]])"
            ]
          },
          "metadata": {},
          "execution_count": 382
        }
      ]
    },
    {
      "cell_type": "code",
      "source": [
        "print(classification_report(y_test,ypred))"
      ],
      "metadata": {
        "colab": {
          "base_uri": "https://localhost:8080/"
        },
        "id": "-IA7JdN3bl0j",
        "outputId": "7d827ff7-4f4f-4c05-e2db-6ff2ccf599c4"
      },
      "execution_count": null,
      "outputs": [
        {
          "output_type": "stream",
          "name": "stdout",
          "text": [
            "              precision    recall  f1-score   support\n",
            "\n",
            "           0       0.82      0.83      0.83        77\n",
            "           1       0.77      0.76      0.77        58\n",
            "\n",
            "    accuracy                           0.80       135\n",
            "   macro avg       0.80      0.79      0.80       135\n",
            "weighted avg       0.80      0.80      0.80       135\n",
            "\n"
          ]
        }
      ]
    },
    {
      "cell_type": "markdown",
      "source": [
        "                                    USING PRINCIPAL COMPONENT ANALYSIS"
      ],
      "metadata": {
        "id": "surIYoP6c4l8"
      }
    },
    {
      "cell_type": "code",
      "source": [
        "from sklearn.decomposition import PCA"
      ],
      "metadata": {
        "id": "AuWb4Sr3dHYb"
      },
      "execution_count": null,
      "outputs": []
    },
    {
      "cell_type": "code",
      "source": [
        "pca=PCA(n_components=1)\n",
        "pca"
      ],
      "metadata": {
        "colab": {
          "base_uri": "https://localhost:8080/"
        },
        "id": "BLs8Mx6HdI2C",
        "outputId": "3a5a57fb-01d6-4d29-a8f5-f6f16d1e75d7"
      },
      "execution_count": null,
      "outputs": [
        {
          "output_type": "execute_result",
          "data": {
            "text/plain": [
              "PCA(n_components=1)"
            ]
          },
          "metadata": {},
          "execution_count": 385
        }
      ]
    },
    {
      "cell_type": "code",
      "source": [
        "pca.fit(x_train)"
      ],
      "metadata": {
        "colab": {
          "base_uri": "https://localhost:8080/"
        },
        "id": "_KzYvtnmdMUI",
        "outputId": "322d7e0c-77d7-4c53-a447-b1b26db44351"
      },
      "execution_count": null,
      "outputs": [
        {
          "output_type": "execute_result",
          "data": {
            "text/plain": [
              "PCA(n_components=1)"
            ]
          },
          "metadata": {},
          "execution_count": 386
        }
      ]
    },
    {
      "cell_type": "code",
      "source": [
        "xtrain_transformed=pca.transform(x_train)"
      ],
      "metadata": {
        "id": "KuTAzTnHdPjw"
      },
      "execution_count": null,
      "outputs": []
    },
    {
      "cell_type": "code",
      "source": [
        "print(xtrain_transformed.shape)"
      ],
      "metadata": {
        "colab": {
          "base_uri": "https://localhost:8080/"
        },
        "id": "hC9wEI6GdW6a",
        "outputId": "ebe333d1-f3a7-4606-f54c-9b7aacf3047f"
      },
      "execution_count": null,
      "outputs": [
        {
          "output_type": "stream",
          "name": "stdout",
          "text": [
            "(765, 1)\n"
          ]
        }
      ]
    },
    {
      "cell_type": "code",
      "source": [
        "xtrain_transformed"
      ],
      "metadata": {
        "colab": {
          "base_uri": "https://localhost:8080/"
        },
        "id": "8OubxSdvdcsu",
        "outputId": "ea196de1-5e61-4c81-f785-c3b05e7cd5ed"
      },
      "execution_count": null,
      "outputs": [
        {
          "output_type": "execute_result",
          "data": {
            "text/plain": [
              "array([[ 1.87613885e+05],\n",
              "       [-8.05463802e+03],\n",
              "       [-1.99078273e+04],\n",
              "       [-3.75056949e+03],\n",
              "       [ 6.57937866e+04],\n",
              "       [ 3.38232371e+04],\n",
              "       [-1.19158101e+04],\n",
              "       [-3.88404550e+04],\n",
              "       [ 2.01454006e+04],\n",
              "       [-3.41606067e+04],\n",
              "       [-3.20803239e+04],\n",
              "       [-4.28727244e+04],\n",
              "       [ 7.37806110e+03],\n",
              "       [-4.72495421e+04],\n",
              "       [ 6.93993276e+04],\n",
              "       [-3.07658308e+04],\n",
              "       [ 2.89392433e+02],\n",
              "       [-2.57127949e+04],\n",
              "       [-1.90190233e+04],\n",
              "       [-3.16200040e+04],\n",
              "       [-3.91583865e+03],\n",
              "       [-4.21545881e+04],\n",
              "       [ 1.07077261e+04],\n",
              "       [-2.90918284e+04],\n",
              "       [-6.20051692e+04],\n",
              "       [-3.49487486e+04],\n",
              "       [-8.89177022e+03],\n",
              "       [-4.14242466e+04],\n",
              "       [ 4.39653232e+04],\n",
              "       [ 4.14992454e+04],\n",
              "       [ 1.48485386e+05],\n",
              "       [-1.01361934e+04],\n",
              "       [-5.08467165e+04],\n",
              "       [ 1.74438878e+04],\n",
              "       [-3.37602382e+04],\n",
              "       [-4.33456387e+04],\n",
              "       [-1.58072555e+04],\n",
              "       [-7.86409911e+03],\n",
              "       [-6.89857803e+02],\n",
              "       [ 1.30791007e+05],\n",
              "       [-5.66004803e+03],\n",
              "       [-3.88682379e+04],\n",
              "       [ 6.23765475e+04],\n",
              "       [-1.31024014e+04],\n",
              "       [-1.95085483e+04],\n",
              "       [-2.61868229e+04],\n",
              "       [-4.05083667e+04],\n",
              "       [-3.70801252e+04],\n",
              "       [-1.18210120e+04],\n",
              "       [ 1.00719378e+04],\n",
              "       [-2.96948300e+04],\n",
              "       [ 1.85477548e+04],\n",
              "       [-1.29043112e+04],\n",
              "       [ 1.13675312e+04],\n",
              "       [ 9.06792915e+04],\n",
              "       [ 5.98074306e+04],\n",
              "       [-3.99394608e+04],\n",
              "       [ 7.72756617e+03],\n",
              "       [-2.02633859e+04],\n",
              "       [-7.19114735e+03],\n",
              "       [-2.88996868e+04],\n",
              "       [-1.15957493e+04],\n",
              "       [-2.51482361e+04],\n",
              "       [-4.78167061e+04],\n",
              "       [-1.16579268e+04],\n",
              "       [-1.49572793e+04],\n",
              "       [ 2.63521593e+04],\n",
              "       [-3.36223929e+04],\n",
              "       [-3.12280759e+04],\n",
              "       [-3.40848983e+04],\n",
              "       [-3.10827768e+03],\n",
              "       [ 2.00018127e+04],\n",
              "       [-2.62043378e+04],\n",
              "       [ 1.58086085e+02],\n",
              "       [ 2.26465116e+04],\n",
              "       [-3.03786025e+04],\n",
              "       [-3.18009079e+04],\n",
              "       [-2.99098727e+04],\n",
              "       [ 1.01023495e+04],\n",
              "       [ 9.69516714e+04],\n",
              "       [-1.02947419e+03],\n",
              "       [-4.08911551e+04],\n",
              "       [-4.86877730e+04],\n",
              "       [-3.97314621e+04],\n",
              "       [-6.97591624e+03],\n",
              "       [-3.16380618e+04],\n",
              "       [-4.58974919e+04],\n",
              "       [-2.92032368e+03],\n",
              "       [-4.34386693e+04],\n",
              "       [-3.24682056e+04],\n",
              "       [ 1.62789525e+04],\n",
              "       [-3.98792719e+04],\n",
              "       [-1.78865731e+04],\n",
              "       [-4.42112948e+04],\n",
              "       [-1.27860674e+04],\n",
              "       [-3.19811424e+04],\n",
              "       [-1.21674276e+04],\n",
              "       [ 8.65617472e+04],\n",
              "       [-3.82154122e+04],\n",
              "       [-3.50788882e+04],\n",
              "       [-4.81066196e+04],\n",
              "       [-5.10478606e+04],\n",
              "       [ 7.83919330e+04],\n",
              "       [ 1.13319567e+04],\n",
              "       [-3.06339539e+04],\n",
              "       [-6.14969722e+03],\n",
              "       [-4.47393045e+04],\n",
              "       [-3.76980473e+04],\n",
              "       [-9.00227242e+02],\n",
              "       [-3.57359078e+04],\n",
              "       [ 9.64935374e+03],\n",
              "       [-4.29084775e+03],\n",
              "       [ 5.73015911e+03],\n",
              "       [-3.16869175e+04],\n",
              "       [ 1.06821556e+05],\n",
              "       [-3.99321281e+04],\n",
              "       [ 3.10729435e+03],\n",
              "       [ 1.83041646e+04],\n",
              "       [-2.16685424e+02],\n",
              "       [ 9.91906219e+04],\n",
              "       [ 1.49592043e+04],\n",
              "       [-6.08694273e+03],\n",
              "       [ 5.37217959e+03],\n",
              "       [ 3.84927916e+04],\n",
              "       [-5.70719114e+04],\n",
              "       [-1.87615302e+04],\n",
              "       [ 6.78808470e+04],\n",
              "       [ 1.19506459e+05],\n",
              "       [-9.92965914e+03],\n",
              "       [-2.62641835e+04],\n",
              "       [-3.64360986e+04],\n",
              "       [-3.54642501e+04],\n",
              "       [-2.84809309e+04],\n",
              "       [-3.89971427e+03],\n",
              "       [-7.30389380e+03],\n",
              "       [-1.31732784e+04],\n",
              "       [-4.28091379e+04],\n",
              "       [ 2.03753575e+04],\n",
              "       [-3.81492140e+04],\n",
              "       [ 2.62101468e+04],\n",
              "       [ 1.84426039e+04],\n",
              "       [ 1.63515113e+04],\n",
              "       [-2.83975747e+04],\n",
              "       [-1.76774572e+03],\n",
              "       [-2.32383654e+04],\n",
              "       [-3.17320961e+04],\n",
              "       [ 8.99920059e+03],\n",
              "       [-2.62895199e+04],\n",
              "       [-1.13128532e+04],\n",
              "       [-2.53125331e+04],\n",
              "       [-4.54786278e+04],\n",
              "       [-3.07768440e+04],\n",
              "       [-3.29782256e+04],\n",
              "       [-1.92742550e+04],\n",
              "       [-5.00140271e+04],\n",
              "       [ 4.21941100e+04],\n",
              "       [-4.38260917e+04],\n",
              "       [-1.52577116e+04],\n",
              "       [ 1.68131098e+04],\n",
              "       [ 7.84512899e+04],\n",
              "       [ 2.06966011e+04],\n",
              "       [-3.37560577e+04],\n",
              "       [ 1.36456571e+04],\n",
              "       [ 4.85155151e+04],\n",
              "       [ 8.27536280e+04],\n",
              "       [-2.38977707e+04],\n",
              "       [ 9.35455209e+03],\n",
              "       [-3.76620324e+04],\n",
              "       [ 7.29142234e+04],\n",
              "       [-1.03252297e+04],\n",
              "       [-3.45349139e+04],\n",
              "       [ 4.86810098e+03],\n",
              "       [-4.63193140e+03],\n",
              "       [-3.16351648e+04],\n",
              "       [ 1.06218818e+04],\n",
              "       [ 3.29782607e+04],\n",
              "       [-3.17441855e+04],\n",
              "       [ 7.09770829e+03],\n",
              "       [-1.98013081e+04],\n",
              "       [-1.19691663e+04],\n",
              "       [ 3.28764230e+04],\n",
              "       [-2.80998120e+04],\n",
              "       [ 1.29347253e+05],\n",
              "       [-2.70146555e+04],\n",
              "       [-3.70046368e+03],\n",
              "       [ 1.42000546e+03],\n",
              "       [-3.12460095e+04],\n",
              "       [-2.89372113e+04],\n",
              "       [-9.92208040e+03],\n",
              "       [-9.73822220e+03],\n",
              "       [-2.91417128e+04],\n",
              "       [ 1.18634160e+05],\n",
              "       [-4.75157581e+04],\n",
              "       [-3.35017666e+04],\n",
              "       [-4.76462190e+04],\n",
              "       [-7.96786533e+03],\n",
              "       [-1.69811175e+04],\n",
              "       [ 4.90921154e+04],\n",
              "       [-2.38278542e+04],\n",
              "       [-3.96043457e+04],\n",
              "       [ 2.49930072e+04],\n",
              "       [-3.55304030e+03],\n",
              "       [ 5.31000372e+03],\n",
              "       [-4.12442514e+04],\n",
              "       [ 1.18972327e+05],\n",
              "       [-2.08859754e+03],\n",
              "       [-3.41469186e+04],\n",
              "       [-4.21349845e+04],\n",
              "       [-1.22513118e+04],\n",
              "       [-2.87766850e+04],\n",
              "       [-4.58581169e+04],\n",
              "       [-1.99615953e+04],\n",
              "       [-1.59178641e+03],\n",
              "       [ 7.04359912e+03],\n",
              "       [-1.86166792e+04],\n",
              "       [ 9.82395372e+04],\n",
              "       [-8.77112241e+03],\n",
              "       [ 5.87944539e+04],\n",
              "       [ 5.80891977e+04],\n",
              "       [-4.26494103e+03],\n",
              "       [-5.52360201e+04],\n",
              "       [ 6.81832395e+03],\n",
              "       [ 7.17678831e+04],\n",
              "       [ 1.02091431e+05],\n",
              "       [-3.50720272e+04],\n",
              "       [ 1.34987797e+05],\n",
              "       [-5.47880703e+04],\n",
              "       [ 4.00400406e+04],\n",
              "       [-2.58884978e+04],\n",
              "       [-3.54531130e+04],\n",
              "       [ 9.08043772e+04],\n",
              "       [-2.68156438e+03],\n",
              "       [ 1.69113561e+04],\n",
              "       [-4.78197040e+04],\n",
              "       [ 1.73743831e+04],\n",
              "       [-7.46712071e+03],\n",
              "       [ 1.22905588e+04],\n",
              "       [ 5.84672000e+04],\n",
              "       [-1.14124941e+04],\n",
              "       [-1.56655203e+04],\n",
              "       [ 1.85522021e+04],\n",
              "       [ 5.16474386e+03],\n",
              "       [ 2.22161173e+04],\n",
              "       [-1.26523987e+04],\n",
              "       [-2.74298862e+04],\n",
              "       [-4.19532051e+04],\n",
              "       [-1.00428197e+04],\n",
              "       [-4.38064740e+04],\n",
              "       [ 4.23927548e+04],\n",
              "       [ 2.47709470e+03],\n",
              "       [-5.48178088e+04],\n",
              "       [-3.19100218e+04],\n",
              "       [ 3.04479124e+04],\n",
              "       [-4.67074028e+04],\n",
              "       [ 1.09305158e+04],\n",
              "       [ 1.00493338e+04],\n",
              "       [-1.36349701e+04],\n",
              "       [-2.90257724e+04],\n",
              "       [-7.11124473e+03],\n",
              "       [ 4.58714233e+03],\n",
              "       [-4.98468262e+04],\n",
              "       [-1.80254861e+04],\n",
              "       [ 2.77047310e+04],\n",
              "       [-3.52191968e+04],\n",
              "       [-7.66141074e+03],\n",
              "       [ 6.53988768e+03],\n",
              "       [-6.18325652e+03],\n",
              "       [-2.15716308e+04],\n",
              "       [ 2.18875392e+04],\n",
              "       [-1.36978958e+04],\n",
              "       [-1.99501076e+03],\n",
              "       [-8.04817076e+03],\n",
              "       [-2.46603744e+04],\n",
              "       [-4.26379539e+03],\n",
              "       [-1.44565374e+04],\n",
              "       [-9.28496764e+03],\n",
              "       [-1.09334484e+04],\n",
              "       [-3.97324823e+04],\n",
              "       [ 2.21564640e+04],\n",
              "       [-2.26397330e+04],\n",
              "       [-4.54375007e+04],\n",
              "       [-9.81138581e+03],\n",
              "       [-4.53264542e+04],\n",
              "       [-4.92505447e+04],\n",
              "       [-2.98109262e+03],\n",
              "       [ 6.48860911e+04],\n",
              "       [-4.01431897e+04],\n",
              "       [-5.40958249e+04],\n",
              "       [-1.96779853e+04],\n",
              "       [-4.90177670e+04],\n",
              "       [-5.04787183e+04],\n",
              "       [-4.19803799e+04],\n",
              "       [ 1.73594158e+04],\n",
              "       [ 5.60654958e+04],\n",
              "       [ 1.58292690e+04],\n",
              "       [-5.06857937e+04],\n",
              "       [ 3.22939448e+04],\n",
              "       [-2.59162922e+04],\n",
              "       [-9.57865115e+03],\n",
              "       [ 4.83832730e+04],\n",
              "       [ 4.36008331e+04],\n",
              "       [ 6.84544304e+04],\n",
              "       [-3.61731624e+04],\n",
              "       [-3.97762784e+04],\n",
              "       [-1.13901606e+04],\n",
              "       [-4.03133844e+04],\n",
              "       [ 2.28163514e+04],\n",
              "       [-6.37995124e+01],\n",
              "       [-1.92895593e+04],\n",
              "       [-2.89676268e+04],\n",
              "       [-3.75510948e+04],\n",
              "       [ 7.69541394e+04],\n",
              "       [-3.08136172e+04],\n",
              "       [-2.61118786e+04],\n",
              "       [-1.88845479e+04],\n",
              "       [ 4.30955758e+04],\n",
              "       [-3.70611430e+04],\n",
              "       [-7.90206353e+03],\n",
              "       [ 5.14017462e+03],\n",
              "       [-2.17045836e+04],\n",
              "       [-2.07667074e+04],\n",
              "       [ 3.67336243e+04],\n",
              "       [-3.16571409e+04],\n",
              "       [-2.03714137e+03],\n",
              "       [-5.62920819e+03],\n",
              "       [-3.02318861e+04],\n",
              "       [ 1.06817055e+05],\n",
              "       [-1.24506438e+04],\n",
              "       [ 1.15475879e+04],\n",
              "       [-4.06150124e+04],\n",
              "       [ 9.13458679e+04],\n",
              "       [ 8.01727208e+04],\n",
              "       [-3.46508756e+04],\n",
              "       [-3.13037945e+04],\n",
              "       [ 1.54264153e+04],\n",
              "       [-1.27203150e+04],\n",
              "       [ 3.57816546e+02],\n",
              "       [ 1.75877633e+04],\n",
              "       [-6.02961795e+04],\n",
              "       [-4.15224299e+04],\n",
              "       [ 1.80230368e+03],\n",
              "       [-4.99524250e+03],\n",
              "       [-1.60657761e+04],\n",
              "       [-2.34109418e+04],\n",
              "       [ 4.41871916e+04],\n",
              "       [-4.04461687e+04],\n",
              "       [-5.40836843e+03],\n",
              "       [ 1.74624172e+04],\n",
              "       [ 3.57160131e+04],\n",
              "       [-1.90591411e+04],\n",
              "       [-4.32753848e+04],\n",
              "       [-3.53229503e+04],\n",
              "       [-5.28648197e+04],\n",
              "       [-1.91065713e+04],\n",
              "       [ 3.91489402e+04],\n",
              "       [-5.32108279e+04],\n",
              "       [-4.49919601e+02],\n",
              "       [-2.03368722e+04],\n",
              "       [-3.85338997e+04],\n",
              "       [-2.32202714e+04],\n",
              "       [-4.23114401e+04],\n",
              "       [ 3.94498588e+04],\n",
              "       [ 1.16589461e+05],\n",
              "       [ 2.26616445e+04],\n",
              "       [-1.08953780e+04],\n",
              "       [-5.00727628e+04],\n",
              "       [-8.63415493e+03],\n",
              "       [ 8.03456620e+04],\n",
              "       [-3.15706279e+04],\n",
              "       [-3.22028910e+04],\n",
              "       [ 3.03127556e+04],\n",
              "       [-2.99467045e+04],\n",
              "       [-4.43241340e+04],\n",
              "       [-3.83322035e+03],\n",
              "       [-5.96122936e+01],\n",
              "       [ 1.81806877e+04],\n",
              "       [ 3.78368773e+04],\n",
              "       [ 4.01571203e+04],\n",
              "       [-2.33240123e+04],\n",
              "       [-2.39616812e+04],\n",
              "       [-3.87638479e+04],\n",
              "       [-3.59618420e+04],\n",
              "       [-3.78391994e+04],\n",
              "       [ 2.23661187e+04],\n",
              "       [-1.82808688e+04],\n",
              "       [-4.94027922e+04],\n",
              "       [ 7.11740541e+04],\n",
              "       [ 1.39574995e+04],\n",
              "       [-2.91145193e+04],\n",
              "       [-2.82820329e+04],\n",
              "       [-1.43581068e+04],\n",
              "       [ 3.31900607e+03],\n",
              "       [ 1.20434789e+04],\n",
              "       [-8.99704753e+03],\n",
              "       [-1.57854478e+04],\n",
              "       [ 2.06348471e+03],\n",
              "       [-3.44908848e+04],\n",
              "       [-1.02554618e+04],\n",
              "       [-2.13774775e+04],\n",
              "       [-1.76545880e+04],\n",
              "       [ 2.61781652e+04],\n",
              "       [ 2.15920230e+04],\n",
              "       [-3.06679010e+04],\n",
              "       [-3.79919687e+04],\n",
              "       [ 7.12926634e+04],\n",
              "       [ 8.36739909e+04],\n",
              "       [ 7.68030647e+04],\n",
              "       [ 4.59459904e+04],\n",
              "       [ 1.70792646e+03],\n",
              "       [ 1.80637312e+02],\n",
              "       [ 1.32733644e+04],\n",
              "       [-1.54724849e+03],\n",
              "       [-3.98633150e+04],\n",
              "       [-7.53587852e+03],\n",
              "       [ 4.95058442e+03],\n",
              "       [-1.98914994e+04],\n",
              "       [-6.44735510e+04],\n",
              "       [ 8.93533384e+04],\n",
              "       [ 5.52903743e+04],\n",
              "       [ 8.36679210e+04],\n",
              "       [ 1.36562152e+05],\n",
              "       [-4.71686360e+04],\n",
              "       [-2.82474385e+03],\n",
              "       [-2.72704011e+03],\n",
              "       [ 2.59215461e+04],\n",
              "       [ 5.15504849e+04],\n",
              "       [-3.95822934e+04],\n",
              "       [ 5.88833555e+04],\n",
              "       [-3.47322444e+04],\n",
              "       [ 1.09421264e+03],\n",
              "       [-2.44653734e+04],\n",
              "       [-9.14749320e+03],\n",
              "       [-1.56175991e+03],\n",
              "       [-4.40793459e+04],\n",
              "       [-1.56080401e+04],\n",
              "       [ 4.53666167e+04],\n",
              "       [ 2.06313419e+04],\n",
              "       [ 9.55943593e+03],\n",
              "       [ 8.11860940e+04],\n",
              "       [ 5.79195880e+04],\n",
              "       [ 7.68342580e+04],\n",
              "       [-1.24057887e+03],\n",
              "       [-1.05161408e+04],\n",
              "       [-1.61293637e+04],\n",
              "       [-2.09100905e+04],\n",
              "       [-3.23369347e+04],\n",
              "       [-2.10745055e+04],\n",
              "       [-1.87674239e+04],\n",
              "       [ 6.32965326e+04],\n",
              "       [-1.17686610e+04],\n",
              "       [ 9.07434339e+04],\n",
              "       [ 6.77622049e+04],\n",
              "       [ 1.48907571e+04],\n",
              "       [ 7.49752308e+04],\n",
              "       [-4.13742903e+04],\n",
              "       [ 4.03390034e+04],\n",
              "       [ 3.44744642e+04],\n",
              "       [ 3.44576486e+04],\n",
              "       [ 9.59484805e+03],\n",
              "       [-1.00527997e+03],\n",
              "       [-2.27444386e+03],\n",
              "       [-3.43677689e+03],\n",
              "       [-1.67460453e+04],\n",
              "       [-3.91553188e+04],\n",
              "       [-2.41913563e+04],\n",
              "       [ 5.85474325e+04],\n",
              "       [ 4.43411488e+04],\n",
              "       [ 8.13954743e+04],\n",
              "       [-8.61122802e+03],\n",
              "       [ 5.12096268e+04],\n",
              "       [ 3.50297016e+04],\n",
              "       [ 1.53468521e+04],\n",
              "       [-3.80110661e+04],\n",
              "       [ 1.00141377e+05],\n",
              "       [-2.19847493e+04],\n",
              "       [-1.39082456e+04],\n",
              "       [ 1.01368231e+04],\n",
              "       [ 1.02054022e+04],\n",
              "       [ 3.45232806e+04],\n",
              "       [-5.13317706e+04],\n",
              "       [ 6.90856092e+04],\n",
              "       [ 3.26203986e+04],\n",
              "       [ 1.05968405e+05],\n",
              "       [ 7.01339543e+03],\n",
              "       [-4.15363730e+04],\n",
              "       [ 1.67032159e+04],\n",
              "       [-2.56483506e+04],\n",
              "       [-1.65652903e+04],\n",
              "       [ 7.76833463e+04],\n",
              "       [ 8.41107512e+04],\n",
              "       [-4.90247063e+04],\n",
              "       [-2.27633259e+04],\n",
              "       [-8.02600876e+03],\n",
              "       [-1.34923187e+04],\n",
              "       [-2.80310002e+04],\n",
              "       [-2.73606757e+04],\n",
              "       [ 8.47551722e+03],\n",
              "       [ 4.61849250e+04],\n",
              "       [-3.39718900e+04],\n",
              "       [-2.07305620e+04],\n",
              "       [-2.55414989e+03],\n",
              "       [ 4.08309573e+03],\n",
              "       [-2.68866874e+04],\n",
              "       [-1.71935560e+04],\n",
              "       [ 4.28668584e+04],\n",
              "       [-6.06978742e+03],\n",
              "       [ 2.15285589e+02],\n",
              "       [-3.79189357e+04],\n",
              "       [-9.16817037e+03],\n",
              "       [ 8.95121471e+03],\n",
              "       [-1.85603991e+03],\n",
              "       [ 5.15051865e+04],\n",
              "       [-1.25781550e+04],\n",
              "       [ 4.03326875e+03],\n",
              "       [ 8.62127987e+04],\n",
              "       [ 9.67529172e+03],\n",
              "       [ 4.92011765e+04],\n",
              "       [-2.88182656e+03],\n",
              "       [ 2.81766114e+04],\n",
              "       [-2.72137665e+04],\n",
              "       [-5.31938315e+04],\n",
              "       [-1.04718556e+04],\n",
              "       [ 2.02618573e+03],\n",
              "       [-4.04452419e+04],\n",
              "       [ 1.05202493e+05],\n",
              "       [-2.99631005e+04],\n",
              "       [-2.10037427e+04],\n",
              "       [-1.32535224e+04],\n",
              "       [ 7.27123310e+02],\n",
              "       [-3.25160926e+04],\n",
              "       [-1.98513788e+04],\n",
              "       [-2.41652582e+04],\n",
              "       [ 3.26961126e+04],\n",
              "       [ 4.35307202e+04],\n",
              "       [ 1.07063842e+05],\n",
              "       [ 4.88917965e+04],\n",
              "       [ 1.88914697e+04],\n",
              "       [ 5.82675316e+04],\n",
              "       [-6.02882161e+03],\n",
              "       [-2.31002450e+04],\n",
              "       [ 1.06622729e+04],\n",
              "       [-8.92072509e+03],\n",
              "       [ 5.08339630e+04],\n",
              "       [ 1.21961528e+05],\n",
              "       [ 2.98089098e+04],\n",
              "       [ 3.10908032e+03],\n",
              "       [-3.34136660e+04],\n",
              "       [-3.18247672e+04],\n",
              "       [ 1.10855292e+05],\n",
              "       [ 9.58665944e+03],\n",
              "       [-1.87314859e+04],\n",
              "       [ 3.52469944e+04],\n",
              "       [ 1.87045229e+04],\n",
              "       [-3.83612455e+04],\n",
              "       [ 5.91164677e+02],\n",
              "       [ 7.25503514e+03],\n",
              "       [-5.80479513e+04],\n",
              "       [-4.06150994e+04],\n",
              "       [-3.12665252e+02],\n",
              "       [-2.12540958e+04],\n",
              "       [-4.40800414e+04],\n",
              "       [-3.61009137e+04],\n",
              "       [-2.65837815e+04],\n",
              "       [-4.96190352e+03],\n",
              "       [ 1.18848317e+05],\n",
              "       [-4.41680690e+04],\n",
              "       [ 2.91640453e+04],\n",
              "       [ 2.10145243e+04],\n",
              "       [-2.11045405e+04],\n",
              "       [ 4.41696594e+04],\n",
              "       [ 2.61743963e+04],\n",
              "       [-2.04693377e+04],\n",
              "       [ 1.13864853e+05],\n",
              "       [-1.15243945e+04],\n",
              "       [-3.64949439e+04],\n",
              "       [ 1.22204582e+05],\n",
              "       [-1.13805205e+04],\n",
              "       [ 1.38588669e+04],\n",
              "       [-5.45636547e+03],\n",
              "       [-2.60576833e+04],\n",
              "       [ 1.18276336e+03],\n",
              "       [ 3.28547951e+04],\n",
              "       [-1.31174704e+04],\n",
              "       [-5.64575019e+03],\n",
              "       [-2.25327445e+04],\n",
              "       [-1.31565212e+04],\n",
              "       [ 3.00485903e+04],\n",
              "       [ 3.24210104e+03],\n",
              "       [ 5.38360335e+04],\n",
              "       [-2.17963341e+04],\n",
              "       [ 1.40380528e+03],\n",
              "       [ 2.15402055e+04],\n",
              "       [-2.67137310e+04],\n",
              "       [-1.64354439e+04],\n",
              "       [ 5.74696536e+04],\n",
              "       [-2.57995862e+04],\n",
              "       [ 5.20421042e+04],\n",
              "       [-2.82266978e+04],\n",
              "       [-3.19782462e+04],\n",
              "       [-1.82472405e+04],\n",
              "       [-3.13858839e+04],\n",
              "       [-3.24331290e+04],\n",
              "       [-1.63684833e+04],\n",
              "       [ 2.02037927e+03],\n",
              "       [-3.48368904e+04],\n",
              "       [ 1.02313571e+05],\n",
              "       [ 7.47768951e+04],\n",
              "       [-3.00140610e+04],\n",
              "       [ 5.46194903e+03],\n",
              "       [ 2.07591603e+04],\n",
              "       [-4.77107792e+03],\n",
              "       [-2.07214757e+04],\n",
              "       [-7.80357228e+03],\n",
              "       [-1.79927007e+04],\n",
              "       [-2.46165871e+04],\n",
              "       [ 3.49145253e+04],\n",
              "       [-5.58251904e+04],\n",
              "       [ 5.05592965e+03],\n",
              "       [-2.52079650e+04],\n",
              "       [-1.30693706e+04],\n",
              "       [-3.77080770e+04],\n",
              "       [-3.43940015e+04],\n",
              "       [-4.55904757e+04],\n",
              "       [ 3.16167589e+03],\n",
              "       [-1.76084893e+04],\n",
              "       [-3.28870355e+04],\n",
              "       [ 1.37651275e+05],\n",
              "       [-1.83875564e+04],\n",
              "       [-1.73455293e+04],\n",
              "       [-1.17533638e+04],\n",
              "       [-1.87919839e+03],\n",
              "       [-3.97544954e+04],\n",
              "       [-4.91656173e+04],\n",
              "       [-3.34080300e+03],\n",
              "       [ 4.91974487e+04],\n",
              "       [-3.10906770e+04],\n",
              "       [ 1.13112104e+04],\n",
              "       [ 1.07243862e+05],\n",
              "       [-4.07342980e+04],\n",
              "       [-5.07028301e+04],\n",
              "       [-1.43235350e+04],\n",
              "       [ 3.76996180e+04],\n",
              "       [-2.58788833e+04],\n",
              "       [-3.90727030e+04],\n",
              "       [ 3.50560969e+04],\n",
              "       [-5.69130051e+04],\n",
              "       [ 1.48194119e+04],\n",
              "       [-2.18786434e+04],\n",
              "       [-2.69698883e+04],\n",
              "       [-2.73735013e+03],\n",
              "       [-1.14418587e+04],\n",
              "       [-2.26117832e+03],\n",
              "       [-2.10131181e+04],\n",
              "       [-1.62374417e+04],\n",
              "       [ 1.78745075e+03],\n",
              "       [-2.74937606e+04],\n",
              "       [-8.21602072e+03],\n",
              "       [-3.09864820e+03],\n",
              "       [-5.04647630e+04],\n",
              "       [-1.99359037e+04],\n",
              "       [ 1.76866674e+04],\n",
              "       [-4.36903324e+04],\n",
              "       [ 1.18877454e+05],\n",
              "       [-2.68546110e+04],\n",
              "       [ 9.11064018e+04],\n",
              "       [ 1.22710018e+04],\n",
              "       [ 2.39289618e+04],\n",
              "       [ 5.26197988e+04],\n",
              "       [-2.25925063e+04],\n",
              "       [-3.45808549e+04],\n",
              "       [-3.90563859e+04],\n",
              "       [ 2.95140170e+02],\n",
              "       [-1.86567221e+04],\n",
              "       [-1.45042282e+04],\n",
              "       [-4.74977019e+04],\n",
              "       [-1.02533589e+04],\n",
              "       [-2.33117090e+04],\n",
              "       [-1.50474175e+04],\n",
              "       [-1.06401968e+04],\n",
              "       [-3.46047540e+04],\n",
              "       [ 4.88491229e+04],\n",
              "       [-1.58923220e+04],\n",
              "       [-4.73086079e+03],\n",
              "       [-3.19139662e+04],\n",
              "       [-2.82306316e+04],\n",
              "       [-3.11618956e+04],\n",
              "       [ 1.58896594e+04],\n",
              "       [-9.00745742e+03],\n",
              "       [-2.41345769e+04],\n",
              "       [-3.51548649e+04],\n",
              "       [-3.37621026e+04],\n",
              "       [-4.57755824e+04],\n",
              "       [ 1.28652943e+04],\n",
              "       [-2.98727958e+04],\n",
              "       [-1.13552606e+04],\n",
              "       [ 4.21177594e+04],\n",
              "       [-1.76292455e+04],\n",
              "       [-3.54678940e+04],\n",
              "       [-2.02504657e+04],\n",
              "       [ 6.50732820e+04],\n",
              "       [ 2.93978312e+03],\n",
              "       [ 4.11040932e+03],\n",
              "       [-4.18239571e+04],\n",
              "       [-2.00975545e+04],\n",
              "       [-4.17112816e+04],\n",
              "       [-1.54523518e+04],\n",
              "       [-8.05858731e+03],\n",
              "       [-4.49421059e+04],\n",
              "       [ 3.09747554e+03],\n",
              "       [-5.60959889e+03],\n",
              "       [ 2.43860192e+04],\n",
              "       [-3.13000086e+04],\n",
              "       [-3.55842449e+03],\n",
              "       [-8.15310857e+02],\n",
              "       [ 3.17656907e+04],\n",
              "       [ 1.73828068e+04],\n",
              "       [-2.00539500e+04],\n",
              "       [ 4.75983409e+03],\n",
              "       [-9.63727505e+03],\n",
              "       [-1.41612803e+04],\n",
              "       [-4.98647449e+04],\n",
              "       [-3.44359570e+04],\n",
              "       [-4.99876722e+03],\n",
              "       [ 4.54636925e+03],\n",
              "       [-2.01560144e+04],\n",
              "       [-3.70233745e+04],\n",
              "       [-1.47127865e+04],\n",
              "       [ 1.75101710e+04],\n",
              "       [-3.85405841e+04],\n",
              "       [-3.01167543e+04],\n",
              "       [ 8.29186381e+04],\n",
              "       [ 2.10976755e+04],\n",
              "       [ 8.50710242e+04],\n",
              "       [-4.36801430e+03],\n",
              "       [ 9.48652026e+04],\n",
              "       [-1.77151642e+04],\n",
              "       [ 6.49914837e+04],\n",
              "       [-5.31798930e+03],\n",
              "       [ 5.99255076e+04],\n",
              "       [ 1.65592869e+04],\n",
              "       [ 8.35472913e+04],\n",
              "       [-3.67179572e+04],\n",
              "       [-5.01398611e+04],\n",
              "       [-1.73320120e+04],\n",
              "       [ 2.04795806e+04],\n",
              "       [-7.22577766e+03],\n",
              "       [-2.55537342e+04],\n",
              "       [-1.24850665e+04],\n",
              "       [ 4.64301336e+03],\n",
              "       [ 2.11556000e+04],\n",
              "       [ 8.64649829e+03],\n",
              "       [ 6.67445231e+04],\n",
              "       [ 1.35307690e+05],\n",
              "       [ 2.54616565e+04],\n",
              "       [-2.29094984e+04],\n",
              "       [ 1.38982467e+04],\n",
              "       [-2.44857302e+04],\n",
              "       [-2.39715571e+04],\n",
              "       [ 9.06858388e+03],\n",
              "       [ 2.28667179e+04],\n",
              "       [ 5.63775515e+03],\n",
              "       [-5.17380354e+04],\n",
              "       [-1.80341423e+03],\n",
              "       [ 5.34250299e+04],\n",
              "       [ 2.27633816e+03]])"
            ]
          },
          "metadata": {},
          "execution_count": 389
        }
      ]
    },
    {
      "cell_type": "code",
      "source": [
        "xtest_transformed=pca.transform(x_test)"
      ],
      "metadata": {
        "id": "iU1KDOVgdfq4"
      },
      "execution_count": null,
      "outputs": []
    },
    {
      "cell_type": "code",
      "source": [
        "print(xtest_transformed.shape)"
      ],
      "metadata": {
        "colab": {
          "base_uri": "https://localhost:8080/"
        },
        "id": "0r3b1gPqdkF0",
        "outputId": "962d0c6e-a0e7-4a8f-81c9-60b443358e3b"
      },
      "execution_count": null,
      "outputs": [
        {
          "output_type": "stream",
          "name": "stdout",
          "text": [
            "(135, 1)\n"
          ]
        }
      ]
    },
    {
      "cell_type": "code",
      "source": [
        "xtest_transformed"
      ],
      "metadata": {
        "colab": {
          "base_uri": "https://localhost:8080/"
        },
        "id": "Gfw_rtL6dvY9",
        "outputId": "54c76870-1056-4773-a3a1-c39c6be077c1"
      },
      "execution_count": null,
      "outputs": [
        {
          "output_type": "execute_result",
          "data": {
            "text/plain": [
              "array([[ 1.35764819e+04],\n",
              "       [-3.45218362e+04],\n",
              "       [ 1.76012870e+04],\n",
              "       [-4.67733771e+04],\n",
              "       [ 1.89839412e+04],\n",
              "       [ 3.63508866e+04],\n",
              "       [ 1.12684260e+04],\n",
              "       [-2.10238229e+04],\n",
              "       [-2.31078514e+04],\n",
              "       [ 1.71119213e+03],\n",
              "       [ 5.45493229e+04],\n",
              "       [-2.15136921e+04],\n",
              "       [-2.47859812e+04],\n",
              "       [-6.67803338e+03],\n",
              "       [ 5.57185570e+04],\n",
              "       [-1.21450137e+04],\n",
              "       [ 2.54856651e+02],\n",
              "       [ 1.85696230e+04],\n",
              "       [-2.01227611e+04],\n",
              "       [-1.44526993e+04],\n",
              "       [-1.38032497e+04],\n",
              "       [ 4.32017471e+04],\n",
              "       [ 4.74696409e+04],\n",
              "       [ 8.14854525e+04],\n",
              "       [-1.89621994e+04],\n",
              "       [-3.32146226e+04],\n",
              "       [-4.87516876e+04],\n",
              "       [ 5.13156872e+03],\n",
              "       [ 3.76975956e+04],\n",
              "       [ 6.88663377e+03],\n",
              "       [-4.24691664e+04],\n",
              "       [ 6.90724500e+04],\n",
              "       [-3.01209045e+04],\n",
              "       [ 2.86999632e+03],\n",
              "       [ 8.40012586e+04],\n",
              "       [ 1.38586976e+05],\n",
              "       [-2.30866785e+04],\n",
              "       [-2.46524594e+04],\n",
              "       [ 3.88349846e+04],\n",
              "       [ 9.50320979e+03],\n",
              "       [-3.60348621e+04],\n",
              "       [-3.57512113e+04],\n",
              "       [-3.00310823e+04],\n",
              "       [-1.01129610e+04],\n",
              "       [-8.28174095e+03],\n",
              "       [ 3.74929282e+04],\n",
              "       [-2.13707136e+04],\n",
              "       [-4.14082704e+04],\n",
              "       [-2.91466729e+04],\n",
              "       [ 3.17520699e+04],\n",
              "       [-1.77914322e+04],\n",
              "       [-1.98916905e+04],\n",
              "       [-2.22278650e+04],\n",
              "       [-1.86735649e+04],\n",
              "       [ 6.48020523e+04],\n",
              "       [-4.56673759e+04],\n",
              "       [-4.65594999e+04],\n",
              "       [ 6.39408402e+04],\n",
              "       [-2.37854749e+04],\n",
              "       [-2.57189891e+04],\n",
              "       [ 5.36913701e+04],\n",
              "       [-1.42555475e+04],\n",
              "       [-5.31699374e+04],\n",
              "       [ 1.95085389e+04],\n",
              "       [-1.50700997e+04],\n",
              "       [-1.30885077e+04],\n",
              "       [ 2.49409779e+04],\n",
              "       [ 2.32786818e+04],\n",
              "       [ 1.70712634e+03],\n",
              "       [ 9.03855491e+04],\n",
              "       [ 1.49397432e+04],\n",
              "       [ 1.10632936e+05],\n",
              "       [-4.58682230e+04],\n",
              "       [ 8.96803363e+04],\n",
              "       [-6.07921063e+03],\n",
              "       [-3.37977540e+03],\n",
              "       [ 1.74843640e+04],\n",
              "       [-4.25343447e+04],\n",
              "       [-1.84402567e+04],\n",
              "       [-4.21208967e+04],\n",
              "       [-3.87820050e+04],\n",
              "       [ 4.08899975e+04],\n",
              "       [ 5.56225315e+04],\n",
              "       [-4.23364658e+04],\n",
              "       [ 1.73296513e+04],\n",
              "       [ 2.99367078e+04],\n",
              "       [-1.41203596e+03],\n",
              "       [ 1.30922688e+05],\n",
              "       [-2.81188242e+04],\n",
              "       [-2.66135599e+04],\n",
              "       [ 1.05037318e+02],\n",
              "       [-1.70174814e+04],\n",
              "       [ 8.55670667e+03],\n",
              "       [ 1.11074050e+04],\n",
              "       [-7.61944758e+03],\n",
              "       [ 1.93829499e+04],\n",
              "       [-2.71067608e+04],\n",
              "       [ 2.08196245e+04],\n",
              "       [ 1.33091175e+04],\n",
              "       [-4.24283158e+04],\n",
              "       [ 2.74891956e+04],\n",
              "       [-2.35790762e+04],\n",
              "       [-3.85952882e+04],\n",
              "       [ 1.56545320e+04],\n",
              "       [ 2.35185513e+04],\n",
              "       [ 3.21140772e+03],\n",
              "       [ 4.75244967e+04],\n",
              "       [-8.89201095e+03],\n",
              "       [ 6.10358020e+04],\n",
              "       [ 8.36706061e+04],\n",
              "       [-3.06425952e+04],\n",
              "       [-4.18492824e+04],\n",
              "       [ 4.52052252e+04],\n",
              "       [-3.03572301e+04],\n",
              "       [ 5.42528852e+04],\n",
              "       [ 1.43633837e+03],\n",
              "       [-7.64236073e+03],\n",
              "       [ 1.62964227e+04],\n",
              "       [-4.60767396e+04],\n",
              "       [-2.56860049e+04],\n",
              "       [ 4.60031350e+04],\n",
              "       [ 7.01009291e+04],\n",
              "       [ 7.68626113e+04],\n",
              "       [-1.56279718e+03],\n",
              "       [-8.83143759e+03],\n",
              "       [-2.76362285e+04],\n",
              "       [ 3.21664964e+03],\n",
              "       [-4.31253461e+04],\n",
              "       [-1.16333685e+04],\n",
              "       [-2.65899910e+04],\n",
              "       [-3.92431661e+04],\n",
              "       [-2.79966606e+04],\n",
              "       [-5.82965898e+03],\n",
              "       [ 1.80059576e+04],\n",
              "       [-3.66671060e+04]])"
            ]
          },
          "metadata": {},
          "execution_count": 392
        }
      ]
    },
    {
      "cell_type": "code",
      "source": [
        "new=LogisticRegression(penalty='l1',solver='liblinear')"
      ],
      "metadata": {
        "id": "_V5NR5jyd0gm"
      },
      "execution_count": null,
      "outputs": []
    },
    {
      "cell_type": "code",
      "source": [
        "new.fit(xtrain_transformed,y_train)"
      ],
      "metadata": {
        "colab": {
          "base_uri": "https://localhost:8080/"
        },
        "id": "XJBq52yJd4vL",
        "outputId": "b1a853be-e7cc-47fd-c4a1-9f617f821b52"
      },
      "execution_count": null,
      "outputs": [
        {
          "output_type": "execute_result",
          "data": {
            "text/plain": [
              "LogisticRegression(penalty='l1', solver='liblinear')"
            ]
          },
          "metadata": {},
          "execution_count": 394
        }
      ]
    },
    {
      "cell_type": "code",
      "source": [
        "new_pred=new.predict(xtest_transformed)"
      ],
      "metadata": {
        "id": "pNhwGIEdd7uw"
      },
      "execution_count": null,
      "outputs": []
    },
    {
      "cell_type": "code",
      "source": [
        "print(new_pred)"
      ],
      "metadata": {
        "id": "njAL7lsfd_tY",
        "colab": {
          "base_uri": "https://localhost:8080/"
        },
        "outputId": "20057173-13d9-4cbd-ff0f-cbb879e3e798"
      },
      "execution_count": null,
      "outputs": [
        {
          "output_type": "stream",
          "name": "stdout",
          "text": [
            "[0 1 0 1 0 0 0 1 1 0 0 1 1 1 0 1 0 0 1 1 1 0 0 0 1 1 1 0 0 0 1 0 1 0 0 0 1\n",
            " 1 0 0 1 1 1 1 1 0 1 1 1 0 1 1 1 1 0 1 1 0 1 1 0 1 1 0 1 1 0 0 0 0 0 0 1 0\n",
            " 1 0 0 1 1 1 1 0 0 1 0 0 0 0 1 1 0 1 0 0 1 0 1 0 0 1 0 1 1 0 0 0 0 1 0 0 1\n",
            " 1 0 1 0 0 1 0 1 1 0 0 0 0 1 1 0 1 1 1 1 1 1 0 1]\n"
          ]
        }
      ]
    },
    {
      "cell_type": "code",
      "source": [
        "accuracy_score(y_test,new_pred)"
      ],
      "metadata": {
        "colab": {
          "base_uri": "https://localhost:8080/"
        },
        "id": "xoE3oNtdfERr",
        "outputId": "f104a2c2-e5ad-4603-bbd3-6dc4c973b547"
      },
      "execution_count": null,
      "outputs": [
        {
          "output_type": "execute_result",
          "data": {
            "text/plain": [
              "0.8444444444444444"
            ]
          },
          "metadata": {},
          "execution_count": 397
        }
      ]
    },
    {
      "cell_type": "code",
      "source": [
        "from sklearn.metrics import classification_report"
      ],
      "metadata": {
        "id": "mN8wKl_HfyFw"
      },
      "execution_count": null,
      "outputs": []
    },
    {
      "cell_type": "code",
      "source": [
        "print(classification_report(y_test,new_pred))"
      ],
      "metadata": {
        "colab": {
          "base_uri": "https://localhost:8080/"
        },
        "id": "Fp1kjucaf6Ra",
        "outputId": "f89e913a-2de1-46b8-c446-376ac2d1cb14"
      },
      "execution_count": null,
      "outputs": [
        {
          "output_type": "stream",
          "name": "stdout",
          "text": [
            "              precision    recall  f1-score   support\n",
            "\n",
            "           0       0.92      0.79      0.85        77\n",
            "           1       0.77      0.91      0.83        58\n",
            "\n",
            "    accuracy                           0.84       135\n",
            "   macro avg       0.85      0.85      0.84       135\n",
            "weighted avg       0.86      0.84      0.85       135\n",
            "\n"
          ]
        }
      ]
    },
    {
      "cell_type": "markdown",
      "source": [
        "                                   USING BAGGING"
      ],
      "metadata": {
        "id": "eK1uZBMCjZaU"
      }
    },
    {
      "cell_type": "code",
      "source": [
        "from sklearn.ensemble import BaggingClassifier\n",
        "from sklearn.tree import DecisionTreeClassifier\n",
        "\n"
      ],
      "metadata": {
        "id": "Hx1jHX5njeAz"
      },
      "execution_count": null,
      "outputs": []
    },
    {
      "cell_type": "code",
      "source": [
        "bag_clas= BaggingClassifier(\n",
        "      DecisionTreeClassifier(class_weight='balanced'),\n",
        "    max_samples=0.10, max_features=0.15,random_state=2)\n",
        "\n"
      ],
      "metadata": {
        "id": "MJDNDNdYjhN8"
      },
      "execution_count": null,
      "outputs": []
    },
    {
      "cell_type": "code",
      "source": [
        "bag_clas.fit(x_train, y_train)"
      ],
      "metadata": {
        "colab": {
          "base_uri": "https://localhost:8080/"
        },
        "id": "H6y-nbm2jj_f",
        "outputId": "06ab126e-916e-42ea-befb-1f256078ceb4"
      },
      "execution_count": null,
      "outputs": [
        {
          "output_type": "execute_result",
          "data": {
            "text/plain": [
              "BaggingClassifier(base_estimator=DecisionTreeClassifier(class_weight='balanced'),\n",
              "                  max_features=0.15, max_samples=0.1, random_state=2)"
            ]
          },
          "metadata": {},
          "execution_count": 410
        }
      ]
    },
    {
      "cell_type": "code",
      "source": [
        "ypred=bag_clas.predict(x_test)\n",
        "bag_clas.predict_proba(x_test)\n"
      ],
      "metadata": {
        "colab": {
          "base_uri": "https://localhost:8080/"
        },
        "id": "CDiL8IgJjqMe",
        "outputId": "81c7a9f9-4f43-45ac-c277-fb0def7be584"
      },
      "execution_count": null,
      "outputs": [
        {
          "output_type": "execute_result",
          "data": {
            "text/plain": [
              "array([[0.94596813, 0.05403187],\n",
              "       [0.04596813, 0.95403187],\n",
              "       [0.54596813, 0.45403187],\n",
              "       [0.14596813, 0.85403187],\n",
              "       [0.74596813, 0.25403187],\n",
              "       [0.64596813, 0.35403187],\n",
              "       [0.74596813, 0.25403187],\n",
              "       [0.24596813, 0.75403187],\n",
              "       [0.44596813, 0.55403187],\n",
              "       [0.64596813, 0.35403187],\n",
              "       [0.94596813, 0.05403187],\n",
              "       [0.34596813, 0.65403187],\n",
              "       [0.04596813, 0.95403187],\n",
              "       [0.54596813, 0.45403187],\n",
              "       [0.64596813, 0.35403187],\n",
              "       [0.54596813, 0.45403187],\n",
              "       [0.64596813, 0.35403187],\n",
              "       [0.74596813, 0.25403187],\n",
              "       [0.64596813, 0.35403187],\n",
              "       [0.44596813, 0.55403187],\n",
              "       [0.24596813, 0.75403187],\n",
              "       [0.84596813, 0.15403187],\n",
              "       [0.94596813, 0.05403187],\n",
              "       [0.94596813, 0.05403187],\n",
              "       [0.24596813, 0.75403187],\n",
              "       [0.14596813, 0.85403187],\n",
              "       [0.24596813, 0.75403187],\n",
              "       [0.64596813, 0.35403187],\n",
              "       [0.64596813, 0.35403187],\n",
              "       [0.64596813, 0.35403187],\n",
              "       [0.24596813, 0.75403187],\n",
              "       [0.94596813, 0.05403187],\n",
              "       [0.24596813, 0.75403187],\n",
              "       [0.54596813, 0.45403187],\n",
              "       [0.94596813, 0.05403187],\n",
              "       [0.74596813, 0.25403187],\n",
              "       [0.54596813, 0.45403187],\n",
              "       [0.24596813, 0.75403187],\n",
              "       [0.94596813, 0.05403187],\n",
              "       [0.74596813, 0.25403187],\n",
              "       [0.34596813, 0.65403187],\n",
              "       [0.04596813, 0.95403187],\n",
              "       [0.24596813, 0.75403187],\n",
              "       [0.64596813, 0.35403187],\n",
              "       [0.54596813, 0.45403187],\n",
              "       [0.84596813, 0.15403187],\n",
              "       [0.54596813, 0.45403187],\n",
              "       [0.34596813, 0.65403187],\n",
              "       [0.34596813, 0.65403187],\n",
              "       [0.64596813, 0.35403187],\n",
              "       [0.04596813, 0.95403187],\n",
              "       [0.44596813, 0.55403187],\n",
              "       [0.34596813, 0.65403187],\n",
              "       [0.24596813, 0.75403187],\n",
              "       [0.84596813, 0.15403187],\n",
              "       [0.34596813, 0.65403187],\n",
              "       [0.14596813, 0.85403187],\n",
              "       [0.84596813, 0.15403187],\n",
              "       [0.24596813, 0.75403187],\n",
              "       [0.14596813, 0.85403187],\n",
              "       [0.74596813, 0.25403187],\n",
              "       [0.24596813, 0.75403187],\n",
              "       [0.24596813, 0.75403187],\n",
              "       [0.74596813, 0.25403187],\n",
              "       [0.54596813, 0.45403187],\n",
              "       [0.74596813, 0.25403187],\n",
              "       [0.84596813, 0.15403187],\n",
              "       [0.74596813, 0.25403187],\n",
              "       [0.74596813, 0.25403187],\n",
              "       [0.84596813, 0.15403187],\n",
              "       [0.64596813, 0.35403187],\n",
              "       [0.84596813, 0.15403187],\n",
              "       [0.14596813, 0.85403187],\n",
              "       [0.84596813, 0.15403187],\n",
              "       [0.14596813, 0.85403187],\n",
              "       [0.64596813, 0.35403187],\n",
              "       [0.64596813, 0.35403187],\n",
              "       [0.14596813, 0.85403187],\n",
              "       [0.54596813, 0.45403187],\n",
              "       [0.24596813, 0.75403187],\n",
              "       [0.24596813, 0.75403187],\n",
              "       [0.94596813, 0.05403187],\n",
              "       [0.84596813, 0.15403187],\n",
              "       [0.14596813, 0.85403187],\n",
              "       [0.74596813, 0.25403187],\n",
              "       [0.84596813, 0.15403187],\n",
              "       [0.84596813, 0.15403187],\n",
              "       [0.54596813, 0.45403187],\n",
              "       [0.34596813, 0.65403187],\n",
              "       [0.34596813, 0.65403187],\n",
              "       [0.54596813, 0.45403187],\n",
              "       [0.34596813, 0.65403187],\n",
              "       [0.84596813, 0.15403187],\n",
              "       [0.74596813, 0.25403187],\n",
              "       [0.74596813, 0.25403187],\n",
              "       [0.84596813, 0.15403187],\n",
              "       [0.04596813, 0.95403187],\n",
              "       [0.84596813, 0.15403187],\n",
              "       [0.74596813, 0.25403187],\n",
              "       [0.24596813, 0.75403187],\n",
              "       [0.74596813, 0.25403187],\n",
              "       [0.34596813, 0.65403187],\n",
              "       [0.14596813, 0.85403187],\n",
              "       [0.74596813, 0.25403187],\n",
              "       [0.84596813, 0.15403187],\n",
              "       [0.64596813, 0.35403187],\n",
              "       [0.84596813, 0.15403187],\n",
              "       [0.34596813, 0.65403187],\n",
              "       [0.84596813, 0.15403187],\n",
              "       [0.84596813, 0.15403187],\n",
              "       [0.24596813, 0.75403187],\n",
              "       [0.24596813, 0.75403187],\n",
              "       [0.94596813, 0.05403187],\n",
              "       [0.14596813, 0.85403187],\n",
              "       [0.74596813, 0.25403187],\n",
              "       [0.74596813, 0.25403187],\n",
              "       [0.54596813, 0.45403187],\n",
              "       [0.74596813, 0.25403187],\n",
              "       [0.24596813, 0.75403187],\n",
              "       [0.34596813, 0.65403187],\n",
              "       [0.94596813, 0.05403187],\n",
              "       [0.84596813, 0.15403187],\n",
              "       [0.84596813, 0.15403187],\n",
              "       [0.64596813, 0.35403187],\n",
              "       [0.24596813, 0.75403187],\n",
              "       [0.34596813, 0.65403187],\n",
              "       [0.94596813, 0.05403187],\n",
              "       [0.14596813, 0.85403187],\n",
              "       [0.34596813, 0.65403187],\n",
              "       [0.14596813, 0.85403187],\n",
              "       [0.34596813, 0.65403187],\n",
              "       [0.34596813, 0.65403187],\n",
              "       [0.74596813, 0.25403187],\n",
              "       [0.74596813, 0.25403187],\n",
              "       [0.24596813, 0.75403187]])"
            ]
          },
          "metadata": {},
          "execution_count": 411
        }
      ]
    },
    {
      "cell_type": "code",
      "source": [
        "from sklearn.metrics import accuracy_score"
      ],
      "metadata": {
        "id": "jhZQmzpZjwVL"
      },
      "execution_count": null,
      "outputs": []
    },
    {
      "cell_type": "code",
      "source": [
        "accuracy_score(y_test,ypred)"
      ],
      "metadata": {
        "colab": {
          "base_uri": "https://localhost:8080/"
        },
        "id": "xxGhiJ4ej05L",
        "outputId": "a9231e78-278f-4f34-9a6d-bd85368a00c6"
      },
      "execution_count": null,
      "outputs": [
        {
          "output_type": "execute_result",
          "data": {
            "text/plain": [
              "0.8666666666666667"
            ]
          },
          "metadata": {},
          "execution_count": 414
        }
      ]
    },
    {
      "cell_type": "markdown",
      "source": [
        "                            USING BOOSTING"
      ],
      "metadata": {
        "id": "m_AAjpxkj-2M"
      }
    },
    {
      "cell_type": "code",
      "source": [
        "from sklearn.ensemble import AdaBoostClassifier\n",
        "from sklearn.tree import DecisionTreeClassifier"
      ],
      "metadata": {
        "id": "GJGlJbHekCSh"
      },
      "execution_count": null,
      "outputs": []
    },
    {
      "cell_type": "code",
      "source": [
        "adaboost = AdaBoostClassifier(base_estimator=DecisionTreeClassifier(max_depth=3, class_weight='balanced'),n_estimators=300, learning_rate=0.5)"
      ],
      "metadata": {
        "id": "QhicMko_kFBd"
      },
      "execution_count": null,
      "outputs": []
    },
    {
      "cell_type": "code",
      "source": [
        "adaboost.fit(x_train, y_train)"
      ],
      "metadata": {
        "colab": {
          "base_uri": "https://localhost:8080/"
        },
        "id": "MI23s9InkIkI",
        "outputId": "22f8d987-b4eb-489c-83f1-967eaac1b603"
      },
      "execution_count": null,
      "outputs": [
        {
          "output_type": "execute_result",
          "data": {
            "text/plain": [
              "AdaBoostClassifier(base_estimator=DecisionTreeClassifier(class_weight='balanced',\n",
              "                                                         max_depth=3),\n",
              "                   learning_rate=0.5, n_estimators=300)"
            ]
          },
          "metadata": {},
          "execution_count": 417
        }
      ]
    },
    {
      "cell_type": "code",
      "source": [
        "ypred=adaboost.predict(x_test)\n",
        "adaboost.predict_proba(x_test)\n"
      ],
      "metadata": {
        "colab": {
          "base_uri": "https://localhost:8080/"
        },
        "id": "uQLsvW6mkLdc",
        "outputId": "f60f55ae-4c14-4c5d-b2a1-456f6ab6da81"
      },
      "execution_count": null,
      "outputs": [
        {
          "output_type": "execute_result",
          "data": {
            "text/plain": [
              "array([[0.58910599, 0.41089401],\n",
              "       [0.56199672, 0.43800328],\n",
              "       [0.51817687, 0.48182313],\n",
              "       [0.32484684, 0.67515316],\n",
              "       [0.69771749, 0.30228251],\n",
              "       [0.76365304, 0.23634696],\n",
              "       [0.61326399, 0.38673601],\n",
              "       [0.25953589, 0.74046411],\n",
              "       [0.16747775, 0.83252225],\n",
              "       [0.59549384, 0.40450616],\n",
              "       [0.70817989, 0.29182011],\n",
              "       [0.3881624 , 0.6118376 ],\n",
              "       [0.19311241, 0.80688759],\n",
              "       [0.47053683, 0.52946317],\n",
              "       [0.77500328, 0.22499672],\n",
              "       [0.46604762, 0.53395238],\n",
              "       [0.55882847, 0.44117153],\n",
              "       [0.75767761, 0.24232239],\n",
              "       [0.68740405, 0.31259595],\n",
              "       [0.626575  , 0.373425  ],\n",
              "       [0.40686199, 0.59313801],\n",
              "       [0.81273851, 0.18726149],\n",
              "       [0.67055384, 0.32944616],\n",
              "       [0.7648835 , 0.2351165 ],\n",
              "       [0.55811195, 0.44188805],\n",
              "       [0.40179175, 0.59820825],\n",
              "       [0.38563992, 0.61436008],\n",
              "       [0.66080036, 0.33919964],\n",
              "       [0.70087543, 0.29912457],\n",
              "       [0.72759608, 0.27240392],\n",
              "       [0.28397994, 0.71602006],\n",
              "       [0.789879  , 0.210121  ],\n",
              "       [0.37965938, 0.62034062],\n",
              "       [0.56741165, 0.43258835],\n",
              "       [0.70763672, 0.29236328],\n",
              "       [0.82988256, 0.17011744],\n",
              "       [0.22610618, 0.77389382],\n",
              "       [0.410049  , 0.589951  ],\n",
              "       [0.84406005, 0.15593995],\n",
              "       [0.55252081, 0.44747919],\n",
              "       [0.54247512, 0.45752488],\n",
              "       [0.19358023, 0.80641977],\n",
              "       [0.27499912, 0.72500088],\n",
              "       [0.59080722, 0.40919278],\n",
              "       [0.62060635, 0.37939365],\n",
              "       [0.76464772, 0.23535228],\n",
              "       [0.34905336, 0.65094664],\n",
              "       [0.34975584, 0.65024416],\n",
              "       [0.32713058, 0.67286942],\n",
              "       [0.6799527 , 0.3200473 ],\n",
              "       [0.4327585 , 0.5672415 ],\n",
              "       [0.34989287, 0.65010713],\n",
              "       [0.14156729, 0.85843271],\n",
              "       [0.34756852, 0.65243148],\n",
              "       [0.85971723, 0.14028277],\n",
              "       [0.34164709, 0.65835291],\n",
              "       [0.37176588, 0.62823412],\n",
              "       [0.70983197, 0.29016803],\n",
              "       [0.39471082, 0.60528918],\n",
              "       [0.38088846, 0.61911154],\n",
              "       [0.71363591, 0.28636409],\n",
              "       [0.25276769, 0.74723231],\n",
              "       [0.34863368, 0.65136632],\n",
              "       [0.83392146, 0.16607854],\n",
              "       [0.5873648 , 0.4126352 ],\n",
              "       [0.53999568, 0.46000432],\n",
              "       [0.78834658, 0.21165342],\n",
              "       [0.66155608, 0.33844392],\n",
              "       [0.53493406, 0.46506594],\n",
              "       [0.77518176, 0.22481824],\n",
              "       [0.72089454, 0.27910546],\n",
              "       [0.82034455, 0.17965545],\n",
              "       [0.31266996, 0.68733004],\n",
              "       [0.85604786, 0.14395214],\n",
              "       [0.33551607, 0.66448393],\n",
              "       [0.5994542 , 0.4005458 ],\n",
              "       [0.79328789, 0.20671211],\n",
              "       [0.27724941, 0.72275059],\n",
              "       [0.50443634, 0.49556366],\n",
              "       [0.32814243, 0.67185757],\n",
              "       [0.42342602, 0.57657398],\n",
              "       [0.71750707, 0.28249293],\n",
              "       [0.8098698 , 0.1901302 ],\n",
              "       [0.3632459 , 0.6367541 ],\n",
              "       [0.65580474, 0.34419526],\n",
              "       [0.80501259, 0.19498741],\n",
              "       [0.78170122, 0.21829878],\n",
              "       [0.69227473, 0.30772527],\n",
              "       [0.38681512, 0.61318488],\n",
              "       [0.38818436, 0.61181564],\n",
              "       [0.47741187, 0.52258813],\n",
              "       [0.36546541, 0.63453459],\n",
              "       [0.70347642, 0.29652358],\n",
              "       [0.62475689, 0.37524311],\n",
              "       [0.66340435, 0.33659565],\n",
              "       [0.75117938, 0.24882062],\n",
              "       [0.45188787, 0.54811213],\n",
              "       [0.81081547, 0.18918453],\n",
              "       [0.82833732, 0.17166268],\n",
              "       [0.23740329, 0.76259671],\n",
              "       [0.75690465, 0.24309535],\n",
              "       [0.22204556, 0.77795444],\n",
              "       [0.3019176 , 0.6980824 ],\n",
              "       [0.6467902 , 0.3532098 ],\n",
              "       [0.76355443, 0.23644557],\n",
              "       [0.6465142 , 0.3534858 ],\n",
              "       [0.78099618, 0.21900382],\n",
              "       [0.44108688, 0.55891312],\n",
              "       [0.68919063, 0.31080937],\n",
              "       [0.74648695, 0.25351305],\n",
              "       [0.45030555, 0.54969445],\n",
              "       [0.2558574 , 0.7441426 ],\n",
              "       [0.68560555, 0.31439445],\n",
              "       [0.129743  , 0.870257  ],\n",
              "       [0.80900632, 0.19099368],\n",
              "       [0.52833266, 0.47166734],\n",
              "       [0.6615701 , 0.3384299 ],\n",
              "       [0.73069083, 0.26930917],\n",
              "       [0.30238439, 0.69761561],\n",
              "       [0.35719943, 0.64280057],\n",
              "       [0.65866162, 0.34133838],\n",
              "       [0.74428433, 0.25571567],\n",
              "       [0.7536399 , 0.2463601 ],\n",
              "       [0.54967002, 0.45032998],\n",
              "       [0.25042738, 0.74957262],\n",
              "       [0.4141712 , 0.5858288 ],\n",
              "       [0.63694614, 0.36305386],\n",
              "       [0.16513322, 0.83486678],\n",
              "       [0.28282322, 0.71717678],\n",
              "       [0.30772159, 0.69227841],\n",
              "       [0.25834715, 0.74165285],\n",
              "       [0.4678412 , 0.5321588 ],\n",
              "       [0.58228747, 0.41771253],\n",
              "       [0.73272511, 0.26727489],\n",
              "       [0.3366113 , 0.6633887 ]])"
            ]
          },
          "metadata": {},
          "execution_count": 418
        }
      ]
    },
    {
      "cell_type": "code",
      "source": [
        "from sklearn.metrics import accuracy_score"
      ],
      "metadata": {
        "id": "H7SY3RYHkOV0"
      },
      "execution_count": null,
      "outputs": []
    },
    {
      "cell_type": "code",
      "source": [
        "accuracy_score(y_test,ypred)"
      ],
      "metadata": {
        "colab": {
          "base_uri": "https://localhost:8080/"
        },
        "id": "1Ch-s680kVgJ",
        "outputId": "e653b63e-4b1a-4d0b-c3dd-ab8fa95c2937"
      },
      "execution_count": null,
      "outputs": [
        {
          "output_type": "execute_result",
          "data": {
            "text/plain": [
              "0.9037037037037037"
            ]
          },
          "metadata": {},
          "execution_count": 420
        }
      ]
    },
    {
      "cell_type": "code",
      "source": [
        ""
      ],
      "metadata": {
        "id": "mj-fbAifkZqQ"
      },
      "execution_count": null,
      "outputs": []
    },
    {
      "cell_type": "markdown",
      "source": [
        ""
      ],
      "metadata": {
        "id": "EkeZm2E4kkWt"
      }
    }
  ]
}